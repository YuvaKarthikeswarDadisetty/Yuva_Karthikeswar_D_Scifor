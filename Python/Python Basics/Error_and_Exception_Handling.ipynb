{
  "nbformat": 4,
  "nbformat_minor": 0,
  "metadata": {
    "colab": {
      "provenance": []
    },
    "kernelspec": {
      "name": "python3",
      "display_name": "Python 3"
    },
    "language_info": {
      "name": "python"
    }
  },
  "cells": [
    {
      "cell_type": "code",
      "execution_count": 1,
      "metadata": {
        "id": "alxYtYLfJb2Z"
      },
      "outputs": [],
      "source": [
        "extra_marks=50"
      ]
    },
    {
      "cell_type": "code",
      "source": [
        "def total_marks():\n",
        "    some_marks=50\n",
        "    print(\"printing inside the fucntion and the total is \",50+some_marks)\n",
        "    print(\"Using global variable also this time so total is \",50+some_marks+extra_marks)"
      ],
      "metadata": {
        "id": "0OrX4vqQKGGK"
      },
      "execution_count": 8,
      "outputs": []
    },
    {
      "cell_type": "code",
      "source": [
        "total_marks()"
      ],
      "metadata": {
        "colab": {
          "base_uri": "https://localhost:8080/"
        },
        "id": "R4PZxFyZKY9F",
        "outputId": "bc5e32db-acda-4a2b-e3ec-dcd48a6228e8"
      },
      "execution_count": 9,
      "outputs": [
        {
          "output_type": "stream",
          "name": "stdout",
          "text": [
            "printing inside the fucntion and the total is  100\n",
            "Using global variable also this time so total is  150\n"
          ]
        }
      ]
    },
    {
      "cell_type": "code",
      "source": [
        "global var12\n",
        "def local_global():\n",
        "    var12=\"This is fantastic\"\n",
        "    print(var12)"
      ],
      "metadata": {
        "id": "8LMMxPjvKtnD"
      },
      "execution_count": 21,
      "outputs": []
    },
    {
      "cell_type": "code",
      "source": [
        "local_global()"
      ],
      "metadata": {
        "colab": {
          "base_uri": "https://localhost:8080/"
        },
        "id": "y7Qf4gs9LWeK",
        "outputId": "17f06ed3-8bee-47ad-d2c2-657b241e04a0"
      },
      "execution_count": 22,
      "outputs": [
        {
          "output_type": "stream",
          "name": "stdout",
          "text": [
            "This is fantastic\n"
          ]
        }
      ]
    },
    {
      "cell_type": "code",
      "source": [
        "var12"
      ],
      "metadata": {
        "colab": {
          "base_uri": "https://localhost:8080/",
          "height": 36
        },
        "id": "KxdJzaAiLjay",
        "outputId": "e06eced5-8373-4571-b647-363439e9ad30"
      },
      "execution_count": 23,
      "outputs": [
        {
          "output_type": "execute_result",
          "data": {
            "text/plain": [
              "'This is fantastic'"
            ],
            "application/vnd.google.colaboratory.intrinsic+json": {
              "type": "string"
            }
          },
          "metadata": {},
          "execution_count": 23
        }
      ]
    },
    {
      "cell_type": "code",
      "source": [
        "name=input(\"Enter Your Name Baby \\n\")\n",
        "print(\"User Enter\",name)"
      ],
      "metadata": {
        "colab": {
          "base_uri": "https://localhost:8080/"
        },
        "id": "O1kLtVwlL1Vr",
        "outputId": "bef79f73-a315-43da-c39a-39a7d894bb21"
      },
      "execution_count": 24,
      "outputs": [
        {
          "output_type": "stream",
          "name": "stdout",
          "text": [
            "Enter Your Name Baby \n",
            "Yuva\n",
            "User Enter Yuva\n"
          ]
        }
      ]
    },
    {
      "cell_type": "code",
      "source": [
        "maths=int(input(\"Enter Your Marks \"))\n",
        "science=int(input(\"Enter Your Marks \"))\n",
        "total_marks=maths + science\n",
        "print(total_marks,\" Out of 200\")"
      ],
      "metadata": {
        "colab": {
          "base_uri": "https://localhost:8080/"
        },
        "id": "90Cuu5RXMEsW",
        "outputId": "318ed7ec-f84a-4d36-f3d2-f3af6cdf29ad"
      },
      "execution_count": 26,
      "outputs": [
        {
          "output_type": "stream",
          "name": "stdout",
          "text": [
            "Enter Your Marks 76\n",
            "Enter Your Marks 67\n",
            "143  Out of 200\n"
          ]
        }
      ]
    },
    {
      "cell_type": "code",
      "source": [
        "name=input(\"Enter Your name \")\n",
        "if name.isalpha():\n",
        "    print(\"You Entered \",name)\n",
        "else:\n",
        "    print(\"Look like You Did not enter alpha charater\")"
      ],
      "metadata": {
        "colab": {
          "base_uri": "https://localhost:8080/"
        },
        "id": "g3oG8FY0MRv8",
        "outputId": "397fcef5-39eb-475a-cf9d-44059b9aebc7"
      },
      "execution_count": 27,
      "outputs": [
        {
          "output_type": "stream",
          "name": "stdout",
          "text": [
            "Enter Your name Yuva67\n",
            "Look like You Did not enter alpha charater\n"
          ]
        }
      ]
    },
    {
      "cell_type": "code",
      "source": [
        "def phone_price(phone_make,phone_age,phone_model_gb):\n",
        "    if phone_make==\"iphone13\":\n",
        "        if 0<phone_age<=6:\n",
        "            if phone_model_gb==128:\n",
        "                print(\"Rs 65000 - Rs 75000\")\n",
        "            elif phone_model_gb==256:\n",
        "                print(\"Rs 80000\")\n",
        "        if 6<phone_age<=12:\n",
        "            if phone_model_gb==128:\n",
        "                print(\"Rs 60000 - Rs 65000\")\n",
        "            elif phone_model_gb==256:\n",
        "                print(\"Rs70000\")\n",
        "    elif phone_make==\"iphone11\":\n",
        "        if 0<phone_age<=6:\n",
        "            if phone_model_gb==64:\n",
        "                print(\"Rs 44000 - Rs 48000\")\n",
        "            elif phone_model_gb==128:\n",
        "                print(\"RS 50000 - Rs 550000\")\n",
        "        if 6<phone_age<=12:\n",
        "            if phone_model_gb==64:\n",
        "                print(\"Rs 39000 - Rs 42000\")\n",
        "            elif phone_model_gb:\n",
        "                print(\"Rs 45000 - 48000\")\n",
        "    else:\n",
        "        print(\"No Stock Right Now, Please check after few days\")"
      ],
      "metadata": {
        "id": "ewmIXrBkMhh2"
      },
      "execution_count": 28,
      "outputs": []
    },
    {
      "cell_type": "code",
      "source": [
        "phone=input(\" Enter Your Required Phone  \")\n",
        "months_old=int(input(\" Enter how old phone you need  \"))\n",
        "capacity=int(input(\" Enter how much space do you want in you phone  \"))\n",
        "phone_price(phone,months_old,capacity)"
      ],
      "metadata": {
        "colab": {
          "base_uri": "https://localhost:8080/"
        },
        "id": "2KUpyGDkMsDP",
        "outputId": "a462ee0f-4f7f-4daa-e17d-0bc7654dbf45"
      },
      "execution_count": 29,
      "outputs": [
        {
          "output_type": "stream",
          "name": "stdout",
          "text": [
            " Enter Your Required Phone  Samsung\n",
            " Enter how old phone you need  1\n",
            " Enter how much space do you want in you phone  128\n",
            "No Stock Right Now, Please check after few days\n"
          ]
        }
      ]
    },
    {
      "cell_type": "code",
      "source": [
        "marks_1=int(input('Enter marks 1 '))\n",
        "subject=\"datascience\"\n",
        "marks_2=int(input('Enter maeks 2 '))\n",
        "try:\n",
        "    total= marks_1 + subject\n",
        "except:\n",
        "    print(\"You are only add integer + integer ,not with integer + string\")\n",
        "else:\n",
        "    (total)"
      ],
      "metadata": {
        "colab": {
          "base_uri": "https://localhost:8080/"
        },
        "id": "gpboFYc2NQfm",
        "outputId": "878a81da-c35f-40ba-c8e9-f7858428f7bf"
      },
      "execution_count": 32,
      "outputs": [
        {
          "output_type": "stream",
          "name": "stdout",
          "text": [
            "Enter marks 1 67\n",
            "Enter maeks 2 17\n",
            "You are only add integer + integer ,not with integer + string\n"
          ]
        }
      ]
    },
    {
      "cell_type": "code",
      "source": [
        "try:\n",
        "    total=marks_1 + marks_2\n",
        "except:\n",
        "    print(\"plese dont add integer with string\")\n",
        "else:\n",
        "    print(\"Your Total marks is \\n\\t\\t\",total)"
      ],
      "metadata": {
        "colab": {
          "base_uri": "https://localhost:8080/"
        },
        "id": "B0JLflCsNs1q",
        "outputId": "d356f3e0-5c82-407b-f3a7-9e0de6393644"
      },
      "execution_count": 33,
      "outputs": [
        {
          "output_type": "stream",
          "name": "stdout",
          "text": [
            "Your Total marks is \n",
            "\t\t 84\n"
          ]
        }
      ]
    },
    {
      "cell_type": "code",
      "source": [
        "try:\n",
        "    car_number=input(\"Enter Your Car number \")\n",
        "    name=input(\"Enter Your Name Baby \")\n",
        "    mobile_number=input(\"Enter Your Number Baby \")\n",
        "    if car_number ==\" \":\n",
        "        raise Exception()\n",
        "    elif name ==\" \":\n",
        "        raise Exception()\n",
        "    elif mobile_number ==\" \":\n",
        "        raise Exception()\n",
        "    else:\n",
        "        pass\n",
        "except:\n",
        "    if car_number ==\" \":\n",
        "        print(\"\\n The Registration Field Required\")\n",
        "    if name ==\" \":\n",
        "        print(\"\\n The Name Field is required\")\n",
        "    if mobile_number ==\" \":\n",
        "        print(\"\\n The Mobile Number Field is required\")\n",
        "\n",
        "else:\n",
        "    print(\"Thanks for registration\")"
      ],
      "metadata": {
        "colab": {
          "base_uri": "https://localhost:8080/"
        },
        "id": "ZA1pt7-VOD6h",
        "outputId": "da801b4b-71a9-4f9d-cf29-49c97d8a115c"
      },
      "execution_count": 38,
      "outputs": [
        {
          "output_type": "stream",
          "name": "stdout",
          "text": [
            "Enter Your Car number 56\n",
            "Enter Your Name Baby  \n",
            "Enter Your Number Baby  \n",
            "\n",
            " The Name Field is required\n",
            "\n",
            " The Mobile Number Field is required\n"
          ]
        }
      ]
    },
    {
      "cell_type": "code",
      "source": [
        "try:\n",
        "    car_number=input(\"Enter Your Car number \")\n",
        "    name=input(\"Enter Your Name Baby \")\n",
        "    mobile_number=input(\"Enter Your Number Baby \")\n",
        "    if car_number ==\" \":\n",
        "        raise Exception()\n",
        "    elif name ==\" \":\n",
        "        raise Exception()\n",
        "    elif mobile_number ==\" \":\n",
        "        raise Exception()\n",
        "    else:\n",
        "        pass\n",
        "except:\n",
        "    if car_number ==\" \":\n",
        "        print(\"\\n The Registration Field Required\")\n",
        "    if name ==\" \":\n",
        "        print(\"\\n The Name Field is required\")\n",
        "    if mobile_number ==\" \":\n",
        "        print(\"\\n The Mobile Number Field is required\")\n",
        "\n",
        "finally:\n",
        "    print(\"Thanks for registration\")"
      ],
      "metadata": {
        "colab": {
          "base_uri": "https://localhost:8080/"
        },
        "id": "9ZgenomQOTat",
        "outputId": "c0d6429e-8ae4-4e6b-d770-499eb82ec3c2"
      },
      "execution_count": 39,
      "outputs": [
        {
          "output_type": "stream",
          "name": "stdout",
          "text": [
            "Enter Your Car number 67148\n",
            "Enter Your Name Baby yuva\n",
            "Enter Your Number Baby 546897132\n",
            "Thanks for registration\n"
          ]
        }
      ]
    },
    {
      "cell_type": "code",
      "source": [
        "def mobile_num():\n",
        "    try:\n",
        "        val=int(input(\"Enter Your Number \"))\n",
        "    except:\n",
        "        print(\"Look Like You did not enter an integer\")\n",
        "    print(val)"
      ],
      "metadata": {
        "id": "aHZ3GA3lPASu"
      },
      "execution_count": 40,
      "outputs": []
    },
    {
      "cell_type": "code",
      "source": [
        "mobile_num()"
      ],
      "metadata": {
        "colab": {
          "base_uri": "https://localhost:8080/"
        },
        "id": "4nY9zMc3PLZ3",
        "outputId": "67f83d34-7652-44a6-81b6-765c57b10a56"
      },
      "execution_count": 42,
      "outputs": [
        {
          "output_type": "stream",
          "name": "stdout",
          "text": [
            "Enter Your Number 85421369\n",
            "85421369\n"
          ]
        }
      ]
    },
    {
      "cell_type": "code",
      "source": [
        "def mobile_numer():\n",
        "    while True:\n",
        "        try:\n",
        "            val=int(input(\"Enter Your Mobile Number\"))\n",
        "            if len(str(val))!=10:\n",
        "                print(\"You did not enter a Right Mobile Number\")\n",
        "            else:\n",
        "                print(\"Thankyou\")\n",
        "                break\n",
        "        except:\n",
        "            print(\"Look Like You Did Not Enter An Integer\")\n",
        "            continue"
      ],
      "metadata": {
        "id": "Zh0q3x58PUhZ"
      },
      "execution_count": 43,
      "outputs": []
    },
    {
      "cell_type": "code",
      "source": [
        "mobile_numer()"
      ],
      "metadata": {
        "colab": {
          "base_uri": "https://localhost:8080/"
        },
        "id": "IDNBBEMDPgb8",
        "outputId": "f57a5cea-4aa5-4acb-e4fb-ed37a24c1c8b"
      },
      "execution_count": 45,
      "outputs": [
        {
          "output_type": "stream",
          "name": "stdout",
          "text": [
            "Enter Your Mobile Number67174658923567\n",
            "You did not enter a Right Mobile Number\n",
            "Enter Your Mobile Number65894568\n",
            "You did not enter a Right Mobile Number\n",
            "Enter Your Mobile Number4565987865\n",
            "Thankyou\n"
          ]
        }
      ]
    }
  ]
}