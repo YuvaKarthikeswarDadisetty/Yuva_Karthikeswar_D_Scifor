{
  "cells": [
    {
      "cell_type": "markdown",
      "metadata": {
        "id": "kw-Jc0ioQsjP"
      },
      "source": [
        "## Basic"
      ]
    },
    {
      "cell_type": "code",
      "source": [
        "!pip install -U textblob\n",
        "!python -m textblob.download_corpora"
      ],
      "metadata": {
        "colab": {
          "base_uri": "https://localhost:8080/"
        },
        "id": "33310qYjW4k-",
        "outputId": "ccc3c241-bf74-485c-eaba-de688710edc3"
      },
      "execution_count": 1,
      "outputs": [
        {
          "output_type": "stream",
          "name": "stdout",
          "text": [
            "Requirement already satisfied: textblob in /usr/local/lib/python3.10/dist-packages (0.17.1)\n",
            "Collecting textblob\n",
            "  Downloading textblob-0.18.0.post0-py3-none-any.whl.metadata (4.5 kB)\n",
            "Requirement already satisfied: nltk>=3.8 in /usr/local/lib/python3.10/dist-packages (from textblob) (3.8.1)\n",
            "Requirement already satisfied: click in /usr/local/lib/python3.10/dist-packages (from nltk>=3.8->textblob) (8.1.7)\n",
            "Requirement already satisfied: joblib in /usr/local/lib/python3.10/dist-packages (from nltk>=3.8->textblob) (1.4.2)\n",
            "Requirement already satisfied: regex>=2021.8.3 in /usr/local/lib/python3.10/dist-packages (from nltk>=3.8->textblob) (2024.5.15)\n",
            "Requirement already satisfied: tqdm in /usr/local/lib/python3.10/dist-packages (from nltk>=3.8->textblob) (4.66.4)\n",
            "Downloading textblob-0.18.0.post0-py3-none-any.whl (626 kB)\n",
            "\u001b[2K   \u001b[90m━━━━━━━━━━━━━━━━━━━━━━━━━━━━━━━━━━━━━━━━\u001b[0m \u001b[32m626.3/626.3 kB\u001b[0m \u001b[31m6.4 MB/s\u001b[0m eta \u001b[36m0:00:00\u001b[0m\n",
            "\u001b[?25hInstalling collected packages: textblob\n",
            "  Attempting uninstall: textblob\n",
            "    Found existing installation: textblob 0.17.1\n",
            "    Uninstalling textblob-0.17.1:\n",
            "      Successfully uninstalled textblob-0.17.1\n",
            "Successfully installed textblob-0.18.0.post0\n",
            "[nltk_data] Downloading package brown to /root/nltk_data...\n",
            "[nltk_data]   Unzipping corpora/brown.zip.\n",
            "[nltk_data] Downloading package punkt to /root/nltk_data...\n",
            "[nltk_data]   Unzipping tokenizers/punkt.zip.\n",
            "[nltk_data] Downloading package wordnet to /root/nltk_data...\n",
            "[nltk_data] Downloading package averaged_perceptron_tagger to\n",
            "[nltk_data]     /root/nltk_data...\n",
            "[nltk_data]   Unzipping taggers/averaged_perceptron_tagger.zip.\n",
            "[nltk_data] Downloading package conll2000 to /root/nltk_data...\n",
            "[nltk_data]   Unzipping corpora/conll2000.zip.\n",
            "[nltk_data] Downloading package movie_reviews to /root/nltk_data...\n",
            "[nltk_data]   Unzipping corpora/movie_reviews.zip.\n",
            "Finished.\n"
          ]
        }
      ]
    },
    {
      "cell_type": "code",
      "execution_count": 2,
      "metadata": {
        "id": "hGOF38FDQsjQ"
      },
      "outputs": [],
      "source": [
        "from textblob import TextBlob"
      ]
    },
    {
      "cell_type": "code",
      "execution_count": 3,
      "metadata": {
        "id": "UDhe7HVMQsjR"
      },
      "outputs": [],
      "source": [
        "blob = TextBlob(\"Meta Scifor is a great platform to learn data science.\")"
      ]
    },
    {
      "cell_type": "code",
      "execution_count": 4,
      "metadata": {
        "colab": {
          "base_uri": "https://localhost:8080/"
        },
        "id": "1bZRg_HtQsjR",
        "outputId": "374e548d-3cb4-4860-b514-bf92454d808f"
      },
      "outputs": [
        {
          "output_type": "execute_result",
          "data": {
            "text/plain": [
              "TextBlob(\"eta \")"
            ]
          },
          "metadata": {},
          "execution_count": 4
        }
      ],
      "source": [
        "blob[1:5]"
      ]
    },
    {
      "cell_type": "code",
      "execution_count": 5,
      "metadata": {
        "colab": {
          "base_uri": "https://localhost:8080/"
        },
        "id": "A7xov7V3QsjS",
        "outputId": "6d5ff311-ea70-4f0c-ba7b-f5036c7570c4"
      },
      "outputs": [
        {
          "output_type": "execute_result",
          "data": {
            "text/plain": [
              "TextBlob(\"META SCIFOR IS A GREAT PLATFORM TO LEARN DATA SCIENCE.\")"
            ]
          },
          "metadata": {},
          "execution_count": 5
        }
      ],
      "source": [
        "blob.upper()"
      ]
    },
    {
      "cell_type": "code",
      "execution_count": 6,
      "metadata": {
        "id": "a3NJD7OGQsjS"
      },
      "outputs": [],
      "source": [
        "blob2 = TextBlob(\"It also helps community through blogs, hackathons, discussions,etc.\")"
      ]
    },
    {
      "cell_type": "code",
      "execution_count": 7,
      "metadata": {
        "colab": {
          "base_uri": "https://localhost:8080/"
        },
        "id": "zrpz2UkFQsjT",
        "outputId": "cfd6d9fe-e423-4348-dd0d-9438f48c3fa1"
      },
      "outputs": [
        {
          "output_type": "execute_result",
          "data": {
            "text/plain": [
              "TextBlob(\"Meta Scifor is a great platform to learn data science. And It also helps community through blogs, hackathons, discussions,etc.\")"
            ]
          },
          "metadata": {},
          "execution_count": 7
        }
      ],
      "source": [
        "blob + \" And \" + blob2"
      ]
    },
    {
      "cell_type": "markdown",
      "metadata": {
        "id": "XqLiGG5MQsjT"
      },
      "source": [
        "## Tokenization"
      ]
    },
    {
      "cell_type": "code",
      "execution_count": 8,
      "metadata": {
        "id": "f9ze9aFiQsjT"
      },
      "outputs": [],
      "source": [
        "blob = TextBlob(\"Meta Scifor is a great platform to learn data science. \\n It helps community through blogs, hackathons, discussions,etc.\")"
      ]
    },
    {
      "cell_type": "code",
      "execution_count": 9,
      "metadata": {
        "colab": {
          "base_uri": "https://localhost:8080/"
        },
        "id": "Gfu-f-uiQsjT",
        "outputId": "1df791e8-dbe9-490c-8eba-fff8b405b6ad"
      },
      "outputs": [
        {
          "output_type": "execute_result",
          "data": {
            "text/plain": [
              "[Sentence(\"Meta Scifor is a great platform to learn data science.\"),\n",
              " Sentence(\"It helps community through blogs, hackathons, discussions,etc.\")]"
            ]
          },
          "metadata": {},
          "execution_count": 9
        }
      ],
      "source": [
        "blob.sentences"
      ]
    },
    {
      "cell_type": "code",
      "execution_count": 10,
      "metadata": {
        "colab": {
          "base_uri": "https://localhost:8080/"
        },
        "id": "K7UkeZBFQsjU",
        "outputId": "7fdbafb5-ee1d-43db-825f-d69d5614b466"
      },
      "outputs": [
        {
          "output_type": "execute_result",
          "data": {
            "text/plain": [
              "Sentence(\"Meta Scifor is a great platform to learn data science.\")"
            ]
          },
          "metadata": {},
          "execution_count": 10
        }
      ],
      "source": [
        "blob.sentences[0]"
      ]
    },
    {
      "cell_type": "code",
      "execution_count": 11,
      "metadata": {
        "colab": {
          "base_uri": "https://localhost:8080/"
        },
        "id": "vCHR8EvkQsjU",
        "outputId": "b8e8fe07-9dd2-4762-fee2-73283e4c9476"
      },
      "outputs": [
        {
          "output_type": "stream",
          "name": "stdout",
          "text": [
            "Meta\n",
            "Scifor\n",
            "is\n",
            "a\n",
            "great\n",
            "platform\n",
            "to\n",
            "learn\n",
            "data\n",
            "science\n"
          ]
        }
      ],
      "source": [
        "for words in blob.sentences[0].words:\n",
        "    print (words)"
      ]
    },
    {
      "cell_type": "markdown",
      "metadata": {
        "id": "akVhaaMrQsjU"
      },
      "source": [
        "## Noun phrase extraction"
      ]
    },
    {
      "cell_type": "code",
      "execution_count": 12,
      "metadata": {
        "colab": {
          "base_uri": "https://localhost:8080/"
        },
        "id": "33JKXTHTQsjU",
        "outputId": "9e8f50b2-f765-46fe-ca7b-af6df42b1379"
      },
      "outputs": [
        {
          "output_type": "stream",
          "name": "stdout",
          "text": [
            "meta scifor\n",
            "great platform\n",
            "data science\n"
          ]
        }
      ],
      "source": [
        "blob = TextBlob(\"Meta Scifor is a great platform to learn data science.\")\n",
        "for np in blob.noun_phrases:\n",
        "    print (np)"
      ]
    },
    {
      "cell_type": "markdown",
      "metadata": {
        "id": "SqXrX-NzQsjU"
      },
      "source": [
        "## POS tagging"
      ]
    },
    {
      "cell_type": "code",
      "execution_count": 13,
      "metadata": {
        "colab": {
          "base_uri": "https://localhost:8080/"
        },
        "id": "pc3e4a7IQsjV",
        "outputId": "5d8f97fa-2b15-4a2d-d399-133cc9769887"
      },
      "outputs": [
        {
          "output_type": "stream",
          "name": "stdout",
          "text": [
            "Meta NNP\n",
            "Scifor NNP\n",
            "is VBZ\n",
            "a DT\n",
            "great JJ\n",
            "platform NN\n",
            "to TO\n",
            "learn VB\n",
            "data NNS\n",
            "science NN\n"
          ]
        }
      ],
      "source": [
        "for words, tag in blob.tags:\n",
        "    print (words, tag)"
      ]
    },
    {
      "cell_type": "markdown",
      "metadata": {
        "id": "hCT7PqXCQsjV"
      },
      "source": [
        "## Sentiment Analysis"
      ]
    },
    {
      "cell_type": "code",
      "execution_count": 14,
      "metadata": {
        "colab": {
          "base_uri": "https://localhost:8080/"
        },
        "id": "ea5nzVLMQsjV",
        "outputId": "76ab15d4-48a5-4a91-803d-1028f89131db"
      },
      "outputs": [
        {
          "output_type": "stream",
          "name": "stdout",
          "text": [
            "Meta Scifor is a great platform to learn data science.\n"
          ]
        },
        {
          "output_type": "execute_result",
          "data": {
            "text/plain": [
              "Sentiment(polarity=0.8, subjectivity=0.75)"
            ]
          },
          "metadata": {},
          "execution_count": 14
        }
      ],
      "source": [
        "print (blob)\n",
        "blob.sentiment"
      ]
    },
    {
      "cell_type": "markdown",
      "metadata": {
        "id": "EiRNJyA4QsjV"
      },
      "source": [
        "## Word Inflection and Lemmatization"
      ]
    },
    {
      "cell_type": "code",
      "execution_count": 15,
      "metadata": {
        "colab": {
          "base_uri": "https://localhost:8080/"
        },
        "id": "RpyWL3SWQsjV",
        "outputId": "45a2dd46-6d71-47a6-ec89-edfffeefe095"
      },
      "outputs": [
        {
          "output_type": "stream",
          "name": "stdout",
          "text": [
            "helps\n",
            "help\n"
          ]
        }
      ],
      "source": [
        "blob = TextBlob(\"Meta Scifor is a great platform to learn AI/ML. \\n It helps community through blogs, hackathons, discussions,etc.\")\n",
        "print (blob.sentences[1].words[1])\n",
        "print (blob.sentences[1].words[1].singularize())"
      ]
    },
    {
      "cell_type": "code",
      "execution_count": 16,
      "metadata": {
        "colab": {
          "base_uri": "https://localhost:8080/",
          "height": 36
        },
        "id": "V6g224AHQsjV",
        "outputId": "dd7f574b-5850-4452-df14-207489ef2403"
      },
      "outputs": [
        {
          "output_type": "execute_result",
          "data": {
            "text/plain": [
              "'Platforms'"
            ],
            "application/vnd.google.colaboratory.intrinsic+json": {
              "type": "string"
            }
          },
          "metadata": {},
          "execution_count": 16
        }
      ],
      "source": [
        "from textblob import Word\n",
        "w = Word('Platform')\n",
        "w.pluralize()"
      ]
    },
    {
      "cell_type": "code",
      "execution_count": 17,
      "metadata": {
        "colab": {
          "base_uri": "https://localhost:8080/"
        },
        "id": "kMTDwcttQsjV",
        "outputId": "ad9f0050-ab6f-47ed-c5f2-988cf68d4525"
      },
      "outputs": [
        {
          "output_type": "stream",
          "name": "stdout",
          "text": [
            "platforms\n",
            "communities\n"
          ]
        }
      ],
      "source": [
        "for word,pos in blob.tags:\n",
        "    if pos == 'NN':\n",
        "        print (word.pluralize())"
      ]
    },
    {
      "cell_type": "code",
      "execution_count": 18,
      "metadata": {
        "colab": {
          "base_uri": "https://localhost:8080/",
          "height": 36
        },
        "id": "arkg-icUQsjW",
        "outputId": "6cf97c13-86c1-4e17-e123-91af0634cfaa"
      },
      "outputs": [
        {
          "output_type": "execute_result",
          "data": {
            "text/plain": [
              "'run'"
            ],
            "application/vnd.google.colaboratory.intrinsic+json": {
              "type": "string"
            }
          },
          "metadata": {},
          "execution_count": 18
        }
      ],
      "source": [
        "w = Word('running')\n",
        "w.lemmatize(\"v\")"
      ]
    },
    {
      "cell_type": "markdown",
      "metadata": {
        "id": "IOd9QcliQsjW"
      },
      "source": [
        "## Ngrams"
      ]
    },
    {
      "cell_type": "code",
      "execution_count": 19,
      "metadata": {
        "colab": {
          "base_uri": "https://localhost:8080/"
        },
        "id": "rsAf1EtPQsjW",
        "outputId": "5199e370-3dd2-46f4-83fe-2e14f2152572"
      },
      "outputs": [
        {
          "output_type": "stream",
          "name": "stdout",
          "text": [
            "['Meta', 'Scifor', 'is', 'a', 'great', 'platform', 'to']\n",
            "['Scifor', 'is', 'a', 'great', 'platform', 'to', 'learn']\n",
            "['is', 'a', 'great', 'platform', 'to', 'learn', 'AI/ML']\n",
            "['a', 'great', 'platform', 'to', 'learn', 'AI/ML', 'It']\n",
            "['great', 'platform', 'to', 'learn', 'AI/ML', 'It', 'helps']\n",
            "['platform', 'to', 'learn', 'AI/ML', 'It', 'helps', 'community']\n",
            "['to', 'learn', 'AI/ML', 'It', 'helps', 'community', 'through']\n",
            "['learn', 'AI/ML', 'It', 'helps', 'community', 'through', 'blogs']\n",
            "['AI/ML', 'It', 'helps', 'community', 'through', 'blogs', 'hackathons']\n",
            "['It', 'helps', 'community', 'through', 'blogs', 'hackathons', 'discussions']\n",
            "['helps', 'community', 'through', 'blogs', 'hackathons', 'discussions', 'etc']\n"
          ]
        }
      ],
      "source": [
        "for ngram in blob.ngrams(7):\n",
        "    print (ngram)"
      ]
    },
    {
      "cell_type": "markdown",
      "metadata": {
        "id": "XcTCd9gCQsjW"
      },
      "source": [
        "## Spelling correction"
      ]
    },
    {
      "cell_type": "code",
      "execution_count": 20,
      "metadata": {
        "colab": {
          "base_uri": "https://localhost:8080/"
        },
        "id": "1kCIwBHrQsjW",
        "outputId": "9d12a11c-a536-4109-e51d-b110ffc9e183"
      },
      "outputs": [
        {
          "output_type": "execute_result",
          "data": {
            "text/plain": [
              "TextBlob(\"Beta Scifor is a great platform to learn data science\")"
            ]
          },
          "metadata": {},
          "execution_count": 20
        }
      ],
      "source": [
        "blob = TextBlob('Meta Scifor is a gret platfrm to learn data scence')\n",
        "blob.correct()"
      ]
    },
    {
      "cell_type": "code",
      "execution_count": 21,
      "metadata": {
        "colab": {
          "base_uri": "https://localhost:8080/"
        },
        "id": "XxhrMiYkQsjW",
        "outputId": "06138e44-f9c5-47a3-c52d-139a54dcc871"
      },
      "outputs": [
        {
          "output_type": "execute_result",
          "data": {
            "text/plain": [
              "[('great', 0.5351351351351351),\n",
              " ('get', 0.3162162162162162),\n",
              " ('grew', 0.11216216216216217),\n",
              " ('grey', 0.026351351351351353),\n",
              " ('greet', 0.006081081081081081),\n",
              " ('fret', 0.002702702702702703),\n",
              " ('grit', 0.0006756756756756757),\n",
              " ('cret', 0.0006756756756756757)]"
            ]
          },
          "metadata": {},
          "execution_count": 21
        }
      ],
      "source": [
        "blob.words[4].spellcheck()"
      ]
    },
    {
      "cell_type": "markdown",
      "metadata": {
        "id": "l8sx2OXiQsjW"
      },
      "source": [
        "## Creating a short summary from a text"
      ]
    },
    {
      "cell_type": "code",
      "execution_count": 22,
      "metadata": {
        "id": "-zzG_WZHQsjW"
      },
      "outputs": [],
      "source": [
        "import random\n",
        "blob = TextBlob('Meta scifor is a thriving community for data driven industry. This platform allows \\\n",
        "    people to know more about analytics from its articles, Q&A forum, and learning paths. Also, we help \\\n",
        "    professionals & amateurs to sharpen their skillsets by providing a platform to participate in Hackathons.')"
      ]
    },
    {
      "cell_type": "code",
      "execution_count": 23,
      "metadata": {
        "colab": {
          "base_uri": "https://localhost:8080/"
        },
        "id": "A00rJB4fQsjW",
        "outputId": "c5f1af9b-db3e-4d24-f71e-3ddd58056e5e"
      },
      "outputs": [
        {
          "output_type": "stream",
          "name": "stdout",
          "text": [
            "This text is about...\n",
            "platforms\n",
            "communities\n",
            "industries\n",
            "platforms\n",
            "scifors\n"
          ]
        }
      ],
      "source": [
        "nouns = list()\n",
        "for word, tag in blob.tags:\n",
        "    if tag == 'NN':\n",
        "        nouns.append(word.lemmatize())\n",
        "print (\"This text is about...\")\n",
        "for item in random.sample(nouns, 5):\n",
        "    word = Word(item)\n",
        "    print (word.pluralize())"
      ]
    },
    {
      "cell_type": "markdown",
      "metadata": {
        "id": "x5QI5Cw_QsjX"
      },
      "source": [
        "## Language Translation"
      ]
    },
    {
      "cell_type": "code",
      "execution_count": 24,
      "metadata": {
        "colab": {
          "base_uri": "https://localhost:8080/"
        },
        "id": "UNlxXBpqQsjX",
        "outputId": "f140b742-cf85-490c-efa1-144df45ee551"
      },
      "outputs": [
        {
          "output_type": "stream",
          "name": "stdout",
          "text": [
            "Requirement already satisfied: pip in /usr/local/lib/python3.10/dist-packages (24.1.2)\n",
            "Collecting pip\n",
            "  Using cached pip-24.2-py3-none-any.whl.metadata (3.6 kB)\n",
            "Using cached pip-24.2-py3-none-any.whl (1.8 MB)\n",
            "Installing collected packages: pip\n",
            "  Attempting uninstall: pip\n",
            "    Found existing installation: pip 24.1.2\n",
            "    Uninstalling pip-24.1.2:\n",
            "      Successfully uninstalled pip-24.1.2\n",
            "Successfully installed pip-24.2\n"
          ]
        }
      ],
      "source": [
        "!pip install --upgrade pip"
      ]
    },
    {
      "cell_type": "code",
      "execution_count": 25,
      "metadata": {
        "colab": {
          "base_uri": "https://localhost:8080/"
        },
        "id": "FWYgWXh9QsjX",
        "outputId": "78590143-4593-4308-f74f-8ddcc339e1b6"
      },
      "outputs": [
        {
          "output_type": "stream",
          "name": "stdout",
          "text": [
            "Requirement already satisfied: textblob in /usr/local/lib/python3.10/dist-packages (0.18.0.post0)\n",
            "Requirement already satisfied: nltk>=3.8 in /usr/local/lib/python3.10/dist-packages (from textblob) (3.8.1)\n",
            "Requirement already satisfied: click in /usr/local/lib/python3.10/dist-packages (from nltk>=3.8->textblob) (8.1.7)\n",
            "Requirement already satisfied: joblib in /usr/local/lib/python3.10/dist-packages (from nltk>=3.8->textblob) (1.4.2)\n",
            "Requirement already satisfied: regex>=2021.8.3 in /usr/local/lib/python3.10/dist-packages (from nltk>=3.8->textblob) (2024.5.15)\n",
            "Requirement already satisfied: tqdm in /usr/local/lib/python3.10/dist-packages (from nltk>=3.8->textblob) (4.66.4)\n"
          ]
        }
      ],
      "source": [
        "!pip install --upgrade textblob"
      ]
    },
    {
      "cell_type": "code",
      "execution_count": 26,
      "metadata": {
        "colab": {
          "base_uri": "https://localhost:8080/",
          "height": 193
        },
        "id": "xhEVz9utQsjX",
        "outputId": "cd4582a8-e867-4589-aa47-f57bd34d14c3"
      },
      "outputs": [
        {
          "output_type": "error",
          "ename": "AttributeError",
          "evalue": "'TextBlob' object has no attribute 'detect_language'",
          "traceback": [
            "\u001b[0;31m---------------------------------------------------------------------------\u001b[0m",
            "\u001b[0;31mAttributeError\u001b[0m                            Traceback (most recent call last)",
            "\u001b[0;32m<ipython-input-26-6a27911ffad6>\u001b[0m in \u001b[0;36m<cell line: 2>\u001b[0;34m()\u001b[0m\n\u001b[1;32m      1\u001b[0m \u001b[0mblob\u001b[0m \u001b[0;34m=\u001b[0m \u001b[0mTextBlob\u001b[0m\u001b[0;34m(\u001b[0m\u001b[0;34m'هذا رائع'\u001b[0m\u001b[0;34m)\u001b[0m\u001b[0;34m\u001b[0m\u001b[0;34m\u001b[0m\u001b[0m\n\u001b[0;32m----> 2\u001b[0;31m \u001b[0mblob\u001b[0m\u001b[0;34m.\u001b[0m\u001b[0mdetect_language\u001b[0m\u001b[0;34m(\u001b[0m\u001b[0;34m)\u001b[0m\u001b[0;34m\u001b[0m\u001b[0;34m\u001b[0m\u001b[0m\n\u001b[0m\u001b[1;32m      3\u001b[0m \u001b[0mblob\u001b[0m\u001b[0;34m.\u001b[0m\u001b[0mtranslate\u001b[0m\u001b[0;34m(\u001b[0m\u001b[0mfrom_lang\u001b[0m\u001b[0;34m=\u001b[0m\u001b[0;34m'ar'\u001b[0m\u001b[0;34m,\u001b[0m \u001b[0mto\u001b[0m \u001b[0;34m=\u001b[0m\u001b[0;34m'en'\u001b[0m\u001b[0;34m)\u001b[0m\u001b[0;34m\u001b[0m\u001b[0;34m\u001b[0m\u001b[0m\n\u001b[1;32m      4\u001b[0m \u001b[0mblob\u001b[0m\u001b[0;34m.\u001b[0m\u001b[0mtranslate\u001b[0m\u001b[0;34m(\u001b[0m\u001b[0mto\u001b[0m\u001b[0;34m=\u001b[0m \u001b[0;34m'en'\u001b[0m\u001b[0;34m)\u001b[0m\u001b[0;34m\u001b[0m\u001b[0;34m\u001b[0m\u001b[0m\n",
            "\u001b[0;31mAttributeError\u001b[0m: 'TextBlob' object has no attribute 'detect_language'"
          ]
        }
      ],
      "source": [
        "blob = TextBlob('هذا رائع')\n",
        "blob.detect_language()\n",
        "blob.translate(from_lang='ar', to ='en')\n",
        "blob.translate(to= 'en')"
      ]
    },
    {
      "cell_type": "code",
      "execution_count": 27,
      "metadata": {
        "id": "pMDScvExQsjb"
      },
      "outputs": [],
      "source": [
        "blob = TextBlob('هذا رائع')"
      ]
    },
    {
      "cell_type": "code",
      "execution_count": 28,
      "metadata": {
        "colab": {
          "base_uri": "https://localhost:8080/",
          "height": 141
        },
        "id": "e0JWBu0sQsjb",
        "outputId": "c10069d8-19aa-40b2-8125-c1f2933928a0"
      },
      "outputs": [
        {
          "output_type": "error",
          "ename": "AttributeError",
          "evalue": "'TextBlob' object has no attribute 'detect_language'",
          "traceback": [
            "\u001b[0;31m---------------------------------------------------------------------------\u001b[0m",
            "\u001b[0;31mAttributeError\u001b[0m                            Traceback (most recent call last)",
            "\u001b[0;32m<ipython-input-28-53360f90c292>\u001b[0m in \u001b[0;36m<cell line: 1>\u001b[0;34m()\u001b[0m\n\u001b[0;32m----> 1\u001b[0;31m \u001b[0mblob\u001b[0m\u001b[0;34m.\u001b[0m\u001b[0mdetect_language\u001b[0m\u001b[0;34m(\u001b[0m\u001b[0;34m)\u001b[0m\u001b[0;34m\u001b[0m\u001b[0;34m\u001b[0m\u001b[0m\n\u001b[0m",
            "\u001b[0;31mAttributeError\u001b[0m: 'TextBlob' object has no attribute 'detect_language'"
          ]
        }
      ],
      "source": [
        "blob.detect_language()"
      ]
    },
    {
      "cell_type": "code",
      "execution_count": 29,
      "metadata": {
        "id": "3EOoEXmbQsjb",
        "outputId": "7654eef7-b977-4458-c081-5ab2698b8a70",
        "colab": {
          "base_uri": "https://localhost:8080/",
          "height": 141
        }
      },
      "outputs": [
        {
          "output_type": "error",
          "ename": "AttributeError",
          "evalue": "'TextBlob' object has no attribute 'translate'",
          "traceback": [
            "\u001b[0;31m---------------------------------------------------------------------------\u001b[0m",
            "\u001b[0;31mAttributeError\u001b[0m                            Traceback (most recent call last)",
            "\u001b[0;32m<ipython-input-29-78ac38422b54>\u001b[0m in \u001b[0;36m<cell line: 1>\u001b[0;34m()\u001b[0m\n\u001b[0;32m----> 1\u001b[0;31m \u001b[0mblob\u001b[0m\u001b[0;34m.\u001b[0m\u001b[0mtranslate\u001b[0m\u001b[0;34m(\u001b[0m\u001b[0mfrom_lang\u001b[0m\u001b[0;34m=\u001b[0m\u001b[0;34m'ar'\u001b[0m\u001b[0;34m,\u001b[0m \u001b[0mto\u001b[0m \u001b[0;34m=\u001b[0m\u001b[0;34m'en'\u001b[0m\u001b[0;34m)\u001b[0m\u001b[0;34m\u001b[0m\u001b[0;34m\u001b[0m\u001b[0m\n\u001b[0m",
            "\u001b[0;31mAttributeError\u001b[0m: 'TextBlob' object has no attribute 'translate'"
          ]
        }
      ],
      "source": [
        "blob.translate(from_lang='ar', to ='en')"
      ]
    },
    {
      "cell_type": "code",
      "execution_count": 30,
      "metadata": {
        "id": "XJplpSJRQsjb",
        "outputId": "15c37cc6-7cf9-42c1-ca3b-ad16632128cc",
        "colab": {
          "base_uri": "https://localhost:8080/",
          "height": 141
        }
      },
      "outputs": [
        {
          "output_type": "error",
          "ename": "AttributeError",
          "evalue": "'TextBlob' object has no attribute 'translate'",
          "traceback": [
            "\u001b[0;31m---------------------------------------------------------------------------\u001b[0m",
            "\u001b[0;31mAttributeError\u001b[0m                            Traceback (most recent call last)",
            "\u001b[0;32m<ipython-input-30-85455e2c9ad5>\u001b[0m in \u001b[0;36m<cell line: 1>\u001b[0;34m()\u001b[0m\n\u001b[0;32m----> 1\u001b[0;31m \u001b[0mblob\u001b[0m\u001b[0;34m.\u001b[0m\u001b[0mtranslate\u001b[0m\u001b[0;34m(\u001b[0m\u001b[0mto\u001b[0m\u001b[0;34m=\u001b[0m \u001b[0;34m'en'\u001b[0m\u001b[0;34m)\u001b[0m\u001b[0;34m\u001b[0m\u001b[0;34m\u001b[0m\u001b[0m\n\u001b[0m",
            "\u001b[0;31mAttributeError\u001b[0m: 'TextBlob' object has no attribute 'translate'"
          ]
        }
      ],
      "source": [
        "blob.translate(to= 'en')"
      ]
    },
    {
      "cell_type": "markdown",
      "metadata": {
        "id": "BcbeteUVQsjc"
      },
      "source": [
        "## Text Classification using textblob"
      ]
    },
    {
      "cell_type": "code",
      "execution_count": 31,
      "metadata": {
        "id": "GcZP9k3pQsjc"
      },
      "outputs": [],
      "source": [
        "training = [\n",
        "            ('Tom Holland is a terrible spiderman.','pos'),\n",
        "            ('a terrible Javert (Russell Crowe) ruined Les Miserables for me...','pos'),\n",
        "            ('The Dark Knight Rises is the greatest superhero movie ever!','neg'),\n",
        "            ('Fantastic Four should have never been made.','pos'),\n",
        "            ('Wes Anderson is my favorite director!','neg'),\n",
        "            ('Captain America 2 is pretty awesome.','neg'),\n",
        "            ('Let\\s pretend \"Batman and Robin\" never happened..','pos'),\n",
        "            ]\n",
        "testing = [\n",
        "           ('Superman was never an interesting character.','pos'),\n",
        "           ('Fantastic Mr Fox is an awesome film!','neg'),\n",
        "           ('Dragonball Evolution is simply terrible!!','pos')\n",
        "           ]"
      ]
    },
    {
      "cell_type": "code",
      "execution_count": 32,
      "metadata": {
        "id": "hCJbAd4rQsjc"
      },
      "outputs": [],
      "source": [
        "from textblob import classifiers\n",
        "\n",
        "classifier = classifiers.NaiveBayesClassifier(training)"
      ]
    },
    {
      "cell_type": "code",
      "execution_count": 33,
      "metadata": {
        "colab": {
          "base_uri": "https://localhost:8080/"
        },
        "id": "l3bNBB8fQsjc",
        "outputId": "e764b811-0e52-433f-e099-595cf974b202"
      },
      "outputs": [
        {
          "output_type": "stream",
          "name": "stdout",
          "text": [
            "1.0\n",
            "Most Informative Features\n",
            "            contains(is) = True              neg : pos    =      2.9 : 1.0\n",
            "             contains(a) = False             neg : pos    =      1.8 : 1.0\n",
            "         contains(never) = False             neg : pos    =      1.8 : 1.0\n"
          ]
        }
      ],
      "source": [
        "print (classifier.accuracy(testing))\n",
        "classifier.show_informative_features(3)"
      ]
    },
    {
      "cell_type": "code",
      "execution_count": 34,
      "metadata": {
        "colab": {
          "base_uri": "https://localhost:8080/"
        },
        "id": "XeKqh0j_Qsjc",
        "outputId": "1a0a3b95-6eaa-4348-9180-d5030a620457"
      },
      "outputs": [
        {
          "output_type": "stream",
          "name": "stdout",
          "text": [
            "neg\n"
          ]
        }
      ],
      "source": [
        "blob = TextBlob('the weather is terrible!', classifier=classifier)\n",
        "print (blob.classify())"
      ]
    },
    {
      "cell_type": "code",
      "execution_count": 35,
      "metadata": {
        "colab": {
          "base_uri": "https://localhost:8080/"
        },
        "id": "bYYid5CwQsjc",
        "outputId": "58c8c64b-b465-4e86-8dce-1c38e1b8d2a2"
      },
      "outputs": [
        {
          "output_type": "stream",
          "name": "stdout",
          "text": [
            "Probability of Positive: 0.39\n",
            "Probability of Negative: 0.61\n"
          ]
        }
      ],
      "source": [
        "def get_probabilities(text):\n",
        "    probabilities = classifier.prob_classify(text)\n",
        "    return {\n",
        "        'pos': round(probabilities.prob('pos'), 2),\n",
        "        'neg': round(probabilities.prob('neg'), 2)\n",
        "    }\n",
        "probabilities = get_probabilities('the weather is terrible!')\n",
        "print(f'Probability of Positive: {probabilities[\"pos\"]}')\n",
        "print(f'Probability of Negative: {probabilities[\"neg\"]}')"
      ]
    }
  ],
  "metadata": {
    "kernelspec": {
      "display_name": "Python 3 (ipykernel)",
      "language": "python",
      "name": "python3"
    },
    "language_info": {
      "codemirror_mode": {
        "name": "ipython",
        "version": 3
      },
      "file_extension": ".py",
      "mimetype": "text/x-python",
      "name": "python",
      "nbconvert_exporter": "python",
      "pygments_lexer": "ipython3",
      "version": "3.10.12"
    },
    "colab": {
      "provenance": []
    }
  },
  "nbformat": 4,
  "nbformat_minor": 0
}