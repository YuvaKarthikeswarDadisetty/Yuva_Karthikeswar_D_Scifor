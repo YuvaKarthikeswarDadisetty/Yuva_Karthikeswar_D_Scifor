{
  "cells": [
    {
      "cell_type": "markdown",
      "id": "a3356cc2-ae00-48a2-8855-9209b6b67d96",
      "metadata": {
        "id": "a3356cc2-ae00-48a2-8855-9209b6b67d96"
      },
      "source": [
        "\n",
        "\n",
        "#### Python String\n"
      ]
    },
    {
      "cell_type": "code",
      "execution_count": 3,
      "id": "484634c4-b2ec-4b92-98b4-27f18468bde6",
      "metadata": {
        "colab": {
          "base_uri": "https://localhost:8080/"
        },
        "id": "484634c4-b2ec-4b92-98b4-27f18468bde6",
        "outputId": "dee9904a-280d-41e5-ed27-c3514664be93"
      },
      "outputs": [
        {
          "output_type": "stream",
          "name": "stdout",
          "text": [
            "YuvAs DATa\n"
          ]
        }
      ],
      "source": [
        "a = \"DATa\"\n",
        "b = 'YuvAs'\n",
        "print(b, a)\n"
      ]
    },
    {
      "cell_type": "markdown",
      "id": "3f0fef4f-99eb-4336-9fba-6a0b33e2dfb3",
      "metadata": {
        "id": "3f0fef4f-99eb-4336-9fba-6a0b33e2dfb3"
      },
      "source": [
        "## Strings are arrays"
      ]
    },
    {
      "cell_type": "code",
      "execution_count": 4,
      "id": "3c80b8d7-ea9e-4936-bc38-0fc73f4d4c54",
      "metadata": {
        "colab": {
          "base_uri": "https://localhost:8080/"
        },
        "id": "3c80b8d7-ea9e-4936-bc38-0fc73f4d4c54",
        "outputId": "2d8e3711-7923-4eda-f8f0-f5bf7e12f901"
      },
      "outputs": [
        {
          "output_type": "stream",
          "name": "stdout",
          "text": [
            "S t\n"
          ]
        }
      ],
      "source": [
        "a = \"DATASET\"\n",
        "b = 'KartHik'\n",
        "print(a[4], b[3])\n"
      ]
    },
    {
      "cell_type": "markdown",
      "id": "8b7a844a-48a4-4935-a4ee-65516ec1559a",
      "metadata": {
        "id": "8b7a844a-48a4-4935-a4ee-65516ec1559a"
      },
      "source": [
        "## Slicing"
      ]
    },
    {
      "cell_type": "code",
      "execution_count": 5,
      "id": "136c0a68-2191-4979-b237-b6aa6b5bfb3e",
      "metadata": {
        "colab": {
          "base_uri": "https://localhost:8080/"
        },
        "id": "136c0a68-2191-4979-b237-b6aa6b5bfb3e",
        "outputId": "47e4b547-f56a-4210-8040-debb7a216c9c"
      },
      "outputs": [
        {
          "output_type": "stream",
          "name": "stdout",
          "text": [
            "a t  is Tall\n",
            "--------------------------------------------------\n",
            "a te  is Tal\n",
            "--------------------------------------------------\n",
            "t  HiT\n"
          ]
        }
      ],
      "source": [
        "a = \"Data test\"\n",
        "b = 'He is Tall'\n",
        "print(a[3:6], b[2:])\n",
        "\n",
        "print(\"-\" * 50)\n",
        "\n",
        "print(a[-6:-2], b[-8:-1])\n",
        "\n",
        "print(\"-\" * 50)\n",
        "print(a[2:6:2], b[:9:3])\n"
      ]
    },
    {
      "cell_type": "markdown",
      "id": "230cebc6-3bf5-4ca6-b56f-8e70441fabe7",
      "metadata": {
        "id": "230cebc6-3bf5-4ca6-b56f-8e70441fabe7"
      },
      "source": [
        "# String Methods\n"
      ]
    },
    {
      "cell_type": "code",
      "execution_count": 6,
      "id": "149d98b3-d6be-48cb-a944-67a1213176cd",
      "metadata": {
        "colab": {
          "base_uri": "https://localhost:8080/"
        },
        "id": "149d98b3-d6be-48cb-a944-67a1213176cd",
        "outputId": "6b6de217-ac77-48bc-9bdb-c3aba1dc5140"
      },
      "outputs": [
        {
          "output_type": "stream",
          "name": "stdout",
          "text": [
            "data test  karthikeswar\n"
          ]
        }
      ],
      "source": [
        "a = \"data test\"\n",
        "b = ' KARTHIKESWAR'\n",
        "print(a.lower(), b.lower())"
      ]
    },
    {
      "cell_type": "code",
      "execution_count": 7,
      "id": "a60913ca-77ac-4618-b9ff-78eb58bb37d3",
      "metadata": {
        "colab": {
          "base_uri": "https://localhost:8080/"
        },
        "id": "a60913ca-77ac-4618-b9ff-78eb58bb37d3",
        "outputId": "e25c2a63-14da-4e2b-902b-35e1b3fb3b1a"
      },
      "outputs": [
        {
          "output_type": "stream",
          "name": "stdout",
          "text": [
            "DATA TEST  KARTHIKESWAR\n"
          ]
        }
      ],
      "source": [
        "print(a.upper(), b.upper())"
      ]
    },
    {
      "cell_type": "code",
      "execution_count": 9,
      "id": "3713e1ad-c268-41b5-ba64-6dbe5525d84e",
      "metadata": {
        "colab": {
          "base_uri": "https://localhost:8080/"
        },
        "id": "3713e1ad-c268-41b5-ba64-6dbe5525d84e",
        "outputId": "af58f60d-c300-4f80-dd99-d9d84d1387c1"
      },
      "outputs": [
        {
          "output_type": "stream",
          "name": "stdout",
          "text": [
            "data test KaRamthikeswaRam\n"
          ]
        }
      ],
      "source": [
        "a = \"data test\"\n",
        "b = 'Karthikeswar'\n",
        "print(a.replace(\"i\", \"me\"), b.replace('r', 'Ram'))"
      ]
    },
    {
      "cell_type": "code",
      "execution_count": 10,
      "id": "4a3708e6-17e7-4fb1-99f1-3eca1980e0b5",
      "metadata": {
        "colab": {
          "base_uri": "https://localhost:8080/"
        },
        "id": "4a3708e6-17e7-4fb1-99f1-3eca1980e0b5",
        "outputId": "97c3a07a-3a51-4de6-af8d-fdf37fda69e1"
      },
      "outputs": [
        {
          "output_type": "stream",
          "name": "stdout",
          "text": [
            "['data test'] ['', 'E is very ', 'andsome']\n"
          ]
        }
      ],
      "source": [
        "a = \"data test\"\n",
        "b = 'HE is very Handsome'\n",
        "print(a.split(\"o\"), b.split('H'))"
      ]
    },
    {
      "cell_type": "markdown",
      "id": "7816c224-a440-4065-8bc0-b9133ed98f0f",
      "metadata": {
        "id": "7816c224-a440-4065-8bc0-b9133ed98f0f"
      },
      "source": [
        "## String Concatination"
      ]
    },
    {
      "cell_type": "code",
      "execution_count": 12,
      "id": "653d1626-83b0-4fdc-931a-3cb0ea085d5c",
      "metadata": {
        "colab": {
          "base_uri": "https://localhost:8080/"
        },
        "id": "653d1626-83b0-4fdc-931a-3cb0ea085d5c",
        "outputId": "fe1c9148-1d45-495e-bc4c-70d8bd2b0ee6"
      },
      "outputs": [
        {
          "output_type": "stream",
          "name": "stdout",
          "text": [
            " @@@ data test Train @@@ \n"
          ]
        }
      ],
      "source": [
        "b = \"Train\"\n",
        "a = \"data test\"\n",
        "c = ' @@@ '\n",
        "print(c+a +\" \"+ b+c)"
      ]
    },
    {
      "cell_type": "markdown",
      "id": "a2dd0c53-2fd4-4f2f-91ef-1ffed19bf973",
      "metadata": {
        "id": "a2dd0c53-2fd4-4f2f-91ef-1ffed19bf973"
      },
      "source": [
        "\n",
        "\n",
        "# Create a text file\n"
      ]
    },
    {
      "cell_type": "code",
      "execution_count": 19,
      "id": "8932fd4b-e072-479b-acdd-75267454492b",
      "metadata": {
        "id": "8932fd4b-e072-479b-acdd-75267454492b"
      },
      "outputs": [],
      "source": [
        "file = open(\"datatest.txt\", \"w+\")"
      ]
    },
    {
      "cell_type": "code",
      "execution_count": 20,
      "id": "fd25e245-1f7a-4782-bcad-4e2676e40dc0",
      "metadata": {
        "id": "fd25e245-1f7a-4782-bcad-4e2676e40dc0"
      },
      "outputs": [],
      "source": [
        "for i in range(5):\n",
        "    file.write(\"Line number is - %d\\r\\n\" % (i + 1))"
      ]
    },
    {
      "cell_type": "code",
      "execution_count": 21,
      "id": "935b8b44-7d8a-414e-b4ed-fd4e60789fc7",
      "metadata": {
        "id": "935b8b44-7d8a-414e-b4ed-fd4e60789fc7"
      },
      "outputs": [],
      "source": [
        "file.close()"
      ]
    },
    {
      "cell_type": "markdown",
      "id": "6d29e98f-9d57-4a52-8b1a-a71973f8676c",
      "metadata": {
        "id": "6d29e98f-9d57-4a52-8b1a-a71973f8676c"
      },
      "source": [
        "# Append data to a file\n"
      ]
    },
    {
      "cell_type": "code",
      "execution_count": 22,
      "id": "9797bf43-c4f3-4318-bafa-219939ace7c2",
      "metadata": {
        "id": "9797bf43-c4f3-4318-bafa-219939ace7c2"
      },
      "outputs": [],
      "source": [
        "file= open(\"datatest.txt\", \"a+\")"
      ]
    },
    {
      "cell_type": "code",
      "execution_count": 23,
      "id": "56a967eb-de1f-4a03-93c8-21a2d4c70122",
      "metadata": {
        "id": "56a967eb-de1f-4a03-93c8-21a2d4c70122"
      },
      "outputs": [],
      "source": [
        "for i in range(3):\n",
        "    file.write(\"Appending Line number -- %d\\r\\n\" % (i+1))"
      ]
    },
    {
      "cell_type": "code",
      "execution_count": 24,
      "id": "0406d369-9ea9-423a-9892-247d4f5ace61",
      "metadata": {
        "id": "0406d369-9ea9-423a-9892-247d4f5ace61"
      },
      "outputs": [],
      "source": [
        "file.close()"
      ]
    },
    {
      "cell_type": "markdown",
      "id": "1c010180-a9c1-4e94-a281-7c324bb18f2c",
      "metadata": {
        "id": "1c010180-a9c1-4e94-a281-7c324bb18f2c"
      },
      "source": [
        "# Read the files\n"
      ]
    },
    {
      "cell_type": "code",
      "execution_count": 25,
      "id": "dbd90399-163b-4bb6-a9a1-aec7fcda1a23",
      "metadata": {
        "id": "dbd90399-163b-4bb6-a9a1-aec7fcda1a23"
      },
      "outputs": [],
      "source": [
        "file= open(\"datatest.txt\", \"r\")"
      ]
    },
    {
      "cell_type": "code",
      "execution_count": 26,
      "id": "3d07218f-6a37-4d65-a817-14d6a849a1ef",
      "metadata": {
        "id": "3d07218f-6a37-4d65-a817-14d6a849a1ef"
      },
      "outputs": [],
      "source": [
        "if file.mode == 'r':\n",
        "    content=file.read()"
      ]
    },
    {
      "cell_type": "code",
      "execution_count": 28,
      "id": "428de306-c4b1-4e8d-a2ad-6560de98fa1d",
      "metadata": {
        "colab": {
          "base_uri": "https://localhost:8080/"
        },
        "id": "428de306-c4b1-4e8d-a2ad-6560de98fa1d",
        "outputId": "0d440398-90a0-431a-cdbd-2e03f91be6dc"
      },
      "outputs": [
        {
          "output_type": "stream",
          "name": "stdout",
          "text": [
            "Line number is - 1\n",
            "Line number is - 2\n",
            "Line number is - 3\n",
            "Line number is - 4\n",
            "Line number is - 5\n",
            "Appending Line number -- 1\n",
            "Appending Line number -- 2\n",
            "Appending Line number -- 3\n",
            "\n",
            "Here is the output! of the file\n"
          ]
        }
      ],
      "source": [
        "print(content)\n",
        "print(\"Here is the output! of the file\")"
      ]
    },
    {
      "cell_type": "markdown",
      "id": "72c2b91c-c59c-4dcc-99bc-cd5e9ca39966",
      "metadata": {
        "id": "72c2b91c-c59c-4dcc-99bc-cd5e9ca39966"
      },
      "source": [
        "# Text Preprocessing"
      ]
    },
    {
      "cell_type": "code",
      "execution_count": 29,
      "id": "ab5e6377-49a2-4b22-b49e-58ffc703b703",
      "metadata": {
        "id": "ab5e6377-49a2-4b22-b49e-58ffc703b703"
      },
      "outputs": [],
      "source": [
        "import nltk\n",
        "import string\n",
        "import re"
      ]
    },
    {
      "cell_type": "code",
      "execution_count": 30,
      "id": "7b26395f-396c-4dcd-becc-61306de484e4",
      "metadata": {
        "colab": {
          "base_uri": "https://localhost:8080/",
          "height": 36
        },
        "id": "7b26395f-396c-4dcd-becc-61306de484e4",
        "outputId": "fc90ada1-737e-44ce-b7f1-69f728a96f8f"
      },
      "outputs": [
        {
          "output_type": "execute_result",
          "data": {
            "text/plain": [
              "'weather is too cloudy. possibility of rain is high, today!! and the city of technomania has created a maze game for the residents of the city.'"
            ],
            "application/vnd.google.colaboratory.intrinsic+json": {
              "type": "string"
            }
          },
          "metadata": {},
          "execution_count": 30
        }
      ],
      "source": [
        "def lowercase_text(text):\n",
        "    return text.lower()\n",
        "\n",
        "input_str = \"Weather is too Cloudy. Possibility of Rain is High, Today!! and The City of Technomania has created a maze game for the residents of the city.\"\n",
        "lowercase_text(input_str)"
      ]
    },
    {
      "cell_type": "code",
      "execution_count": 31,
      "id": "d8db7da9-bc50-43e1-9cdb-e1861bea2c15",
      "metadata": {
        "id": "d8db7da9-bc50-43e1-9cdb-e1861bea2c15"
      },
      "outputs": [],
      "source": [
        "def remove_num(text):\n",
        "    result = re.sub(r'\\d+','', text)\n",
        "    return result"
      ]
    },
    {
      "cell_type": "code",
      "execution_count": 32,
      "id": "71aa337d-f875-4645-85ec-7c52c9fb0679",
      "metadata": {
        "colab": {
          "base_uri": "https://localhost:8080/",
          "height": 36
        },
        "id": "71aa337d-f875-4645-85ec-7c52c9fb0679",
        "outputId": "583db5c4-646d-4b67-f1a6-b2059608943b"
      },
      "outputs": [
        {
          "output_type": "execute_result",
          "data": {
            "text/plain": [
              "'You bought  candies from shop, and  candies are in home.'"
            ],
            "application/vnd.google.colaboratory.intrinsic+json": {
              "type": "string"
            }
          },
          "metadata": {},
          "execution_count": 32
        }
      ],
      "source": [
        "input_s =\"You bought 908 candies from shop, and 567 candies are in home.\"\n",
        "remove_num(input_s)"
      ]
    },
    {
      "cell_type": "code",
      "execution_count": 33,
      "id": "9a90a782-aeb0-4e47-88c4-2ce8cc0db5d0",
      "metadata": {
        "colab": {
          "base_uri": "https://localhost:8080/"
        },
        "id": "9a90a782-aeb0-4e47-88c4-2ce8cc0db5d0",
        "outputId": "9f832930-0d73-4b22-8a5c-4a9138daaa8e"
      },
      "outputs": [
        {
          "output_type": "stream",
          "name": "stdout",
          "text": [
            "Requirement already satisfied: inflect in /usr/local/lib/python3.10/dist-packages (7.0.0)\n",
            "Requirement already satisfied: pydantic>=1.9.1 in /usr/local/lib/python3.10/dist-packages (from inflect) (2.8.2)\n",
            "Requirement already satisfied: typing-extensions in /usr/local/lib/python3.10/dist-packages (from inflect) (4.12.2)\n",
            "Requirement already satisfied: annotated-types>=0.4.0 in /usr/local/lib/python3.10/dist-packages (from pydantic>=1.9.1->inflect) (0.7.0)\n",
            "Requirement already satisfied: pydantic-core==2.20.1 in /usr/local/lib/python3.10/dist-packages (from pydantic>=1.9.1->inflect) (2.20.1)\n"
          ]
        }
      ],
      "source": [
        "!pip install inflect"
      ]
    },
    {
      "cell_type": "code",
      "execution_count": 34,
      "id": "fb7c1da2-6964-4721-9058-5d158cc1ca02",
      "metadata": {
        "colab": {
          "base_uri": "https://localhost:8080/"
        },
        "id": "fb7c1da2-6964-4721-9058-5d158cc1ca02",
        "outputId": "4e7deb83-8ce1-4f2d-ea6b-864c6f6195ca"
      },
      "outputs": [
        {
          "output_type": "stream",
          "name": "stdout",
          "text": [
            "You bought nine hundred and eighty-seven candies from shop, and four hundred and fifty-seven candies are in home.\n"
          ]
        }
      ],
      "source": [
        "import inflect\n",
        "p = inflect.engine()\n",
        "def convert_num(text):\n",
        "    temp_string = text.split()\n",
        "    new_str = []\n",
        "    for word in temp_string:\n",
        "        if word.isdigit():\n",
        "            new_str.append(p.number_to_words(word))\n",
        "        else:\n",
        "            new_str.append(word)\n",
        "    temp_str = ' '.join(new_str)\n",
        "    return temp_str\n",
        "input_str = 'You bought 987 candies from shop, and 457 candies are in home.'\n",
        "print(convert_num(input_str))"
      ]
    },
    {
      "cell_type": "markdown",
      "id": "d04aaca1-4e0c-4944-b60b-4cc7fd6310cb",
      "metadata": {
        "id": "d04aaca1-4e0c-4944-b60b-4cc7fd6310cb"
      },
      "source": [
        "# Remove punctuation.\n"
      ]
    },
    {
      "cell_type": "code",
      "execution_count": 35,
      "id": "39e2eaa3-d9b9-45d2-abf1-16cbc6a67860",
      "metadata": {
        "id": "39e2eaa3-d9b9-45d2-abf1-16cbc6a67860"
      },
      "outputs": [],
      "source": [
        "def rem_punct(text):\n",
        "    translator = str.maketrans('', '', string.punctuation)\n",
        "    return text.translate(translator)"
      ]
    },
    {
      "cell_type": "code",
      "execution_count": 36,
      "id": "6e5aa02c-14f4-4e23-bb6d-0ee68dc47186",
      "metadata": {
        "colab": {
          "base_uri": "https://localhost:8080/",
          "height": 36
        },
        "id": "6e5aa02c-14f4-4e23-bb6d-0ee68dc47186",
        "outputId": "81ef31c1-d712-479a-f589-d0b7a0eea5ce"
      },
      "outputs": [
        {
          "output_type": "execute_result",
          "data": {
            "text/plain": [
              "'Hey Are you excited After a week we will be in Shimla  The City of Technomania has created a maze  game for the residents of the city'"
            ],
            "application/vnd.google.colaboratory.intrinsic+json": {
              "type": "string"
            }
          },
          "metadata": {},
          "execution_count": 36
        }
      ],
      "source": [
        "input_str = \"Hey, Are you excited??, After a week, we will be in Shimla!!!, @@ The City of Technomania&&& has created a maze ### game for the residents of the city!!!!.\"\n",
        "rem_punct(input_str)"
      ]
    },
    {
      "cell_type": "code",
      "execution_count": 37,
      "id": "007bc76f-7ad8-43c5-9baf-224a271b6fcd",
      "metadata": {
        "colab": {
          "base_uri": "https://localhost:8080/",
          "height": 36
        },
        "id": "007bc76f-7ad8-43c5-9baf-224a271b6fcd",
        "outputId": "46ec9c00-b070-44b1-b63d-afad0e2e7b46"
      },
      "outputs": [
        {
          "output_type": "execute_result",
          "data": {
            "text/plain": [
              "'!\"#$%&\\'()*+,-./:;<=>?@[\\\\]^_`{|}~'"
            ],
            "application/vnd.google.colaboratory.intrinsic+json": {
              "type": "string"
            }
          },
          "metadata": {},
          "execution_count": 37
        }
      ],
      "source": [
        "string.punctuation"
      ]
    },
    {
      "cell_type": "markdown",
      "id": "b833f205-4de2-4c1d-9daa-5b5924811ab0",
      "metadata": {
        "id": "b833f205-4de2-4c1d-9daa-5b5924811ab0"
      },
      "source": [
        "# Remove default stopwords"
      ]
    },
    {
      "cell_type": "code",
      "execution_count": 38,
      "id": "2b55bac4-379c-4817-b716-744293f50989",
      "metadata": {
        "colab": {
          "base_uri": "https://localhost:8080/"
        },
        "id": "2b55bac4-379c-4817-b716-744293f50989",
        "outputId": "480da9ed-6d06-4503-8536-12f3c2ac1a0d"
      },
      "outputs": [
        {
          "output_type": "stream",
          "name": "stderr",
          "text": [
            "[nltk_data] Downloading package stopwords to /root/nltk_data...\n",
            "[nltk_data]   Unzipping corpora/stopwords.zip.\n",
            "[nltk_data] Downloading package punkt to /root/nltk_data...\n",
            "[nltk_data]   Unzipping tokenizers/punkt.zip.\n"
          ]
        },
        {
          "output_type": "execute_result",
          "data": {
            "text/plain": [
              "True"
            ]
          },
          "metadata": {},
          "execution_count": 38
        }
      ],
      "source": [
        "from nltk.corpus import stopwords\n",
        "from nltk.tokenize import word_tokenize\n",
        "nltk.download('stopwords')\n",
        "nltk.download('punkt')"
      ]
    },
    {
      "cell_type": "code",
      "execution_count": 39,
      "id": "2e3e6bac-a878-4a77-84b8-f8476c46f043",
      "metadata": {
        "colab": {
          "base_uri": "https://localhost:8080/"
        },
        "id": "2e3e6bac-a878-4a77-84b8-f8476c46f043",
        "outputId": "9f9acbf4-821f-4786-e79f-210a1bb9390b"
      },
      "outputs": [
        {
          "output_type": "stream",
          "name": "stdout",
          "text": [
            "['The', 'City', 'Technomania', 'created', 'maze', 'game', 'residents', 'city']\n"
          ]
        }
      ],
      "source": [
        "def remove_stopwords(text):\n",
        "  stop_words = set(stopwords.words(\"english\"))\n",
        "  word_tokens = word_tokenize(text)\n",
        "  filtered_text = [word for word in word_tokens if word not in string.punctuation]\n",
        "  filtered_text = [word for word in filtered_text if word not in stop_words]\n",
        "  return filtered_text\n",
        "text = \"The City of Technomania has created a maze game for the residents of the city.\"\n",
        "filtered_text = remove_stopwords(text)\n",
        "print(filtered_text)"
      ]
    },
    {
      "cell_type": "markdown",
      "id": "75c87935-df60-4ada-8859-028897fdee8c",
      "metadata": {
        "id": "75c87935-df60-4ada-8859-028897fdee8c"
      },
      "source": [
        "# Stemming\n"
      ]
    },
    {
      "cell_type": "code",
      "execution_count": 40,
      "id": "a80d0928-379f-420a-9ae5-237448316429",
      "metadata": {
        "colab": {
          "base_uri": "https://localhost:8080/"
        },
        "id": "a80d0928-379f-420a-9ae5-237448316429",
        "outputId": "cd6faa10-c234-4d30-e639-4bf2cff348da"
      },
      "outputs": [
        {
          "output_type": "execute_result",
          "data": {
            "text/plain": [
              "['data',\n",
              " 'is',\n",
              " 'the',\n",
              " 'new',\n",
              " 'revolut',\n",
              " 'in',\n",
              " 'the',\n",
              " 'world',\n",
              " ',',\n",
              " 'in',\n",
              " 'a',\n",
              " 'day',\n",
              " 'one',\n",
              " 'individu',\n",
              " 'would',\n",
              " 'gener',\n",
              " 'terabyt',\n",
              " 'of',\n",
              " 'data',\n",
              " '.',\n",
              " 'the',\n",
              " 'citi',\n",
              " 'of',\n",
              " 'technomania',\n",
              " 'ha',\n",
              " 'creat',\n",
              " 'a',\n",
              " 'maze',\n",
              " 'game',\n",
              " 'for',\n",
              " 'the',\n",
              " 'resid',\n",
              " 'of',\n",
              " 'the',\n",
              " 'citi',\n",
              " '.']"
            ]
          },
          "metadata": {},
          "execution_count": 40
        }
      ],
      "source": [
        "from nltk.stem.porter import PorterStemmer\n",
        "from nltk.tokenize import word_tokenize\n",
        "stemmer = PorterStemmer()\n",
        "def stem_words(text):\n",
        "  word_tokens = word_tokenize(text)\n",
        "  stems = [stemmer.stem(word) for word in word_tokens]\n",
        "  return stems\n",
        "\n",
        "text = 'Data is the new revolution in the World, in a day one individual would generate terabytes of data. The City of Technomania has created a maze game for the residents of the city.'\n",
        "stem_words(text)\n"
      ]
    },
    {
      "cell_type": "markdown",
      "id": "7d60da20-7e25-4808-99ee-a02dd2a2ff12",
      "metadata": {
        "id": "7d60da20-7e25-4808-99ee-a02dd2a2ff12"
      },
      "source": [
        "# Lemmatization\n",
        "\n"
      ]
    },
    {
      "cell_type": "code",
      "execution_count": 41,
      "id": "821b1728-75ee-4006-9307-3400f1aa3fa1",
      "metadata": {
        "colab": {
          "base_uri": "https://localhost:8080/"
        },
        "id": "821b1728-75ee-4006-9307-3400f1aa3fa1",
        "outputId": "a2f44d64-eaa6-4e13-f69c-4aec8b899498"
      },
      "outputs": [
        {
          "output_type": "stream",
          "name": "stderr",
          "text": [
            "[nltk_data] Downloading package wordnet to /root/nltk_data...\n"
          ]
        },
        {
          "output_type": "stream",
          "name": "stdout",
          "text": [
            "['Data', 'be', 'the', 'new', 'revolution', 'in', 'the', 'World', ',', 'The', 'City', 'of', 'Technomania', 'have', 'create', 'a', 'maze', 'game', 'for', 'the', 'residents', 'of', 'the', 'city', '..']\n"
          ]
        }
      ],
      "source": [
        "from nltk.stem import wordnet\n",
        "from nltk.tokenize import word_tokenize\n",
        "def lemmatize_word(text):\n",
        "  nltk.download('wordnet')\n",
        "  word_tokens = word_tokenize(text)\n",
        "  lemmas = [wordnet.WordNetLemmatizer().lemmatize(word, pos='v') for word in word_tokens]\n",
        "  return lemmas\n",
        "text = \"Data is the new revolution in the World, The City of Technomania has created a maze game for the residents of the city..\"\n",
        "lemmatized_words = lemmatize_word(text)\n",
        "print(lemmatized_words)\n"
      ]
    },
    {
      "cell_type": "markdown",
      "id": "98fb18af-5b83-4028-8145-197a4ffb4037",
      "metadata": {
        "id": "98fb18af-5b83-4028-8145-197a4ffb4037"
      },
      "source": [
        "# Parts of Speech (POS) Tagging\n",
        "\n",
        "\n",
        "\n"
      ]
    },
    {
      "cell_type": "code",
      "execution_count": 42,
      "id": "ca249796-b77f-4cf0-913b-2b6bdb081b21",
      "metadata": {
        "colab": {
          "base_uri": "https://localhost:8080/"
        },
        "id": "ca249796-b77f-4cf0-913b-2b6bdb081b21",
        "outputId": "194853c6-3442-4341-99aa-319d6be193e5"
      },
      "outputs": [
        {
          "output_type": "stream",
          "name": "stderr",
          "text": [
            "[nltk_data] Downloading package averaged_perceptron_tagger to\n",
            "[nltk_data]     /root/nltk_data...\n",
            "[nltk_data]   Unzipping taggers/averaged_perceptron_tagger.zip.\n"
          ]
        },
        {
          "output_type": "execute_result",
          "data": {
            "text/plain": [
              "[('Are', 'NNP'),\n",
              " ('you', 'PRP'),\n",
              " ('afraid', 'IN'),\n",
              " ('of', 'IN'),\n",
              " ('something', 'NN'),\n",
              " ('?', '.'),\n",
              " ('The', 'DT'),\n",
              " ('Wall', 'NNP'),\n",
              " ('of', 'IN'),\n",
              " ('China', 'NNP'),\n",
              " ('is', 'VBZ'),\n",
              " ('very', 'RB'),\n",
              " ('Big', 'JJ')]"
            ]
          },
          "metadata": {},
          "execution_count": 42
        }
      ],
      "source": [
        "from nltk.tokenize import word_tokenize\n",
        "from nltk import pos_tag\n",
        "nltk.download('averaged_perceptron_tagger')\n",
        "def pos_tagg(text):\n",
        "    word_tokens = word_tokenize(text)\n",
        "    return pos_tag(word_tokens)\n",
        "pos_tagg(\"Are you afraid of something? The Wall of China is very Big\")"
      ]
    },
    {
      "cell_type": "code",
      "execution_count": 43,
      "id": "81702c51-649f-46d0-9ead-6b97ca8ce002",
      "metadata": {
        "colab": {
          "base_uri": "https://localhost:8080/"
        },
        "id": "81702c51-649f-46d0-9ead-6b97ca8ce002",
        "outputId": "ecaa0d1e-6d78-40c3-a680-fccd7b7c016a"
      },
      "outputs": [
        {
          "output_type": "stream",
          "name": "stdout",
          "text": [
            "PRP: pronoun, personal\n",
            "    hers herself him himself hisself it itself me myself one oneself ours\n",
            "    ourselves ownself self she thee theirs them themselves they thou thy us\n"
          ]
        },
        {
          "output_type": "stream",
          "name": "stderr",
          "text": [
            "[nltk_data] Downloading package tagsets to /root/nltk_data...\n",
            "[nltk_data]   Unzipping help/tagsets.zip.\n"
          ]
        }
      ],
      "source": [
        "nltk.download('tagsets')\n",
        "nltk.help.upenn_tagset('PRP')"
      ]
    },
    {
      "cell_type": "markdown",
      "id": "730d24b0-aaed-4a45-bb9f-98bc8f6ba911",
      "metadata": {
        "id": "730d24b0-aaed-4a45-bb9f-98bc8f6ba911"
      },
      "source": [
        "\n",
        "# Chunking\n",
        "\n",
        "\n"
      ]
    },
    {
      "cell_type": "code",
      "execution_count": 45,
      "id": "ed0b2794-e68d-4fb0-98cf-ce3f9e378c9f",
      "metadata": {
        "colab": {
          "base_uri": "https://localhost:8080/"
        },
        "id": "ed0b2794-e68d-4fb0-98cf-ce3f9e378c9f",
        "outputId": "fc81e842-766a-45f3-a5cf-0e146c810620"
      },
      "outputs": [
        {
          "output_type": "stream",
          "name": "stdout",
          "text": [
            "(S\n",
            "  (NP the/DT little/JJ red/JJ parrot/NN)\n",
            "  is/VBZ\n",
            "  flying/VBG\n",
            "  in/IN\n",
            "  (NP the/DT sky/NN)\n",
            "  ,/,\n",
            "  Jess/NNP\n",
            "  is/VBZ\n",
            "  (NP a/DT curious/JJ child/NN)\n",
            "  and/CC\n",
            "  wants/VBZ\n",
            "  to/TO\n",
            "  play/VB)\n",
            "(NP the/DT little/JJ red/JJ parrot/NN)\n",
            "(NP the/DT sky/NN)\n",
            "(NP a/DT curious/JJ child/NN)\n"
          ]
        }
      ],
      "source": [
        "from nltk.tokenize import word_tokenize\n",
        "from nltk import pos_tag\n",
        "def chunking(text, grammar):\n",
        "  word_tokens = word_tokenize(text)\n",
        "  word_pos = pos_tag(word_tokens)\n",
        "  chunkParser = nltk.RegexpParser(grammar)\n",
        "  tree = chunkParser.parse(word_pos)\n",
        "  for subtree in tree.subtrees():\n",
        "    print(subtree)\n",
        "sentence = 'the little red parrot is flying in the sky, Jess is a curious child and wants to play'\n",
        "grammar = \"NP: {<DT>?<JJ>*<NN>}\"\n",
        "chunking(sentence, grammar)"
      ]
    },
    {
      "cell_type": "markdown",
      "id": "b36eb2c3-1db9-441f-9b06-5965d3e58f4d",
      "metadata": {
        "id": "b36eb2c3-1db9-441f-9b06-5965d3e58f4d"
      },
      "source": [
        "# Named Entity Recognition"
      ]
    },
    {
      "cell_type": "code",
      "execution_count": 46,
      "id": "640179b8-6c07-4273-babf-72b1175a2721",
      "metadata": {
        "colab": {
          "base_uri": "https://localhost:8080/"
        },
        "id": "640179b8-6c07-4273-babf-72b1175a2721",
        "outputId": "e7733955-16c1-4ef9-b204-9e2119fae96a"
      },
      "outputs": [
        {
          "output_type": "stream",
          "name": "stderr",
          "text": [
            "[nltk_data] Downloading package maxent_ne_chunker to\n",
            "[nltk_data]     /root/nltk_data...\n",
            "[nltk_data]   Unzipping chunkers/maxent_ne_chunker.zip.\n",
            "[nltk_data] Downloading package words to /root/nltk_data...\n",
            "[nltk_data]   Unzipping corpora/words.zip.\n"
          ]
        },
        {
          "output_type": "stream",
          "name": "stdout",
          "text": [
            "(S\n",
            "  (PERSON Brain/NNP)\n",
            "  (PERSON Lara/NNP)\n",
            "  scored/VBD\n",
            "  the/DT\n",
            "  highest/JJS\n",
            "  400/CD\n",
            "  runs/NNS\n",
            "  in/IN\n",
            "  a/DT\n",
            "  test/NN\n",
            "  match/NN\n",
            "  which/WDT\n",
            "  played/VBD\n",
            "  in/IN\n",
            "  between/IN\n",
            "  (ORGANIZATION WI/NNP)\n",
            "  and/CC\n",
            "  (GPE England/NNP)\n",
            "  ,/,\n",
            "  (ORGANIZATION Jess/NNP)\n",
            "  is/VBZ\n",
            "  a/DT\n",
            "  curious/JJ\n",
            "  child/NN\n",
            "  and/CC\n",
            "  wants/VBZ\n",
            "  to/TO\n",
            "  play/VB\n",
            "  everytime/RB)\n"
          ]
        }
      ],
      "source": [
        "from nltk.tokenize import word_tokenize\n",
        "from nltk import pos_tag, ne_chunk\n",
        "nltk.download('maxent_ne_chunker')\n",
        "nltk.download('words')\n",
        "\n",
        "def ner(text):\n",
        "  word_tokens = word_tokenize(text)\n",
        "  word_pos = pos_tag(word_tokens)\n",
        "  print(ne_chunk(word_pos))\n",
        "text = 'Brain Lara scored the highest 400 runs in a test match which played in between WI and England, Jess is a curious child and wants to play everytime'\n",
        "ner(text)"
      ]
    },
    {
      "cell_type": "markdown",
      "id": "3555bb3e-7be3-4d43-adc5-b69b708bb2e7",
      "metadata": {
        "id": "3555bb3e-7be3-4d43-adc5-b69b708bb2e7"
      },
      "source": [
        "# Understanding Regex\n",
        "\n"
      ]
    },
    {
      "cell_type": "code",
      "execution_count": 47,
      "id": "501c58ae-3c88-40b5-b9b4-382c650305db",
      "metadata": {
        "colab": {
          "base_uri": "https://localhost:8080/"
        },
        "id": "501c58ae-3c88-40b5-b9b4-382c650305db",
        "outputId": "d06e33df-58a5-4609-ab6f-c98ba7626ec6"
      },
      "outputs": [
        {
          "output_type": "stream",
          "name": "stdout",
          "text": [
            "['dataset']\n"
          ]
        }
      ],
      "source": [
        "import re\n",
        "sent = \"dataset, Data is a new fuel, Jess is a curious child and wants to play\"\n",
        "r2 = re.findall(r\"^\\w+\", sent)\n",
        "print(r2)"
      ]
    },
    {
      "cell_type": "markdown",
      "id": "64238f25-f2ab-4b9b-9068-b95e3e37ffdf",
      "metadata": {
        "id": "64238f25-f2ab-4b9b-9068-b95e3e37ffdf"
      },
      "source": [
        "## Example of expression in re.split function"
      ]
    },
    {
      "cell_type": "code",
      "execution_count": 48,
      "id": "e625fc8f-b214-4ce9-ba7b-f927eb754c5b",
      "metadata": {
        "colab": {
          "base_uri": "https://localhost:8080/"
        },
        "id": "e625fc8f-b214-4ce9-ba7b-f927eb754c5b",
        "outputId": "ea01b2f9-a6c3-409b-cf95-ba43f31dba71"
      },
      "outputs": [
        {
          "output_type": "stream",
          "name": "stdout",
          "text": [
            "['Jess', 'is', 'a', 'curious', 'child', 'and', 'wants', 'to', 'play', 'the', 'maze', 'game', 'However', 'she', 'has', 'an', 'interesting', 'take', 'on', 'the', 'game']\n"
          ]
        }
      ],
      "source": [
        "sent = \"Jess is a curious child and wants to play the maze game. However, she has an interesting take on the game. \"\n",
        "r2 = re.findall(r\"\\w+\", sent)\n",
        "print(r2)"
      ]
    },
    {
      "cell_type": "code",
      "execution_count": 49,
      "id": "c2995e60-9109-4aca-b5e5-6cfc4d311167",
      "metadata": {
        "colab": {
          "base_uri": "https://localhost:8080/"
        },
        "id": "c2995e60-9109-4aca-b5e5-6cfc4d311167",
        "outputId": "5eb0f6c1-b6fe-45a7-e26a-e6fc911d34ca"
      },
      "outputs": [
        {
          "output_type": "stream",
          "name": "stdout",
          "text": [
            "['We', 'splited', 'the', 'above', 'sentence', 'into', 'words']\n"
          ]
        }
      ],
      "source": [
        "print((re.split(r'\\s', 'We splited the above sentence into words')))"
      ]
    },
    {
      "cell_type": "code",
      "execution_count": 50,
      "id": "1e4d5d2f-7fd5-418f-b47c-a79b004e5e83",
      "metadata": {
        "colab": {
          "base_uri": "https://localhost:8080/"
        },
        "id": "1e4d5d2f-7fd5-418f-b47c-a79b004e5e83",
        "outputId": "9449cf47-2784-4197-b93f-e7ca5df20589"
      },
      "outputs": [
        {
          "output_type": "stream",
          "name": "stdout",
          "text": [
            "['We ', 'plited the above ', 'entence into word', '']\n"
          ]
        }
      ],
      "source": [
        "import re\n",
        "print((re.split(r's', 'We splited the above sentence into words')))"
      ]
    },
    {
      "cell_type": "markdown",
      "id": "c982c038-27f0-410d-864f-2f93e048ebe6",
      "metadata": {
        "id": "c982c038-27f0-410d-864f-2f93e048ebe6"
      },
      "source": [
        "\n",
        "\n",
        "## Using re.match()"
      ]
    },
    {
      "cell_type": "code",
      "execution_count": 51,
      "id": "58869a4d-ee02-4931-9340-050affa74b19",
      "metadata": {
        "colab": {
          "base_uri": "https://localhost:8080/"
        },
        "id": "58869a4d-ee02-4931-9340-050affa74b19",
        "outputId": "15bb9a25-fbf9-4b53-9a1b-97fb7a479521"
      },
      "outputs": [
        {
          "output_type": "stream",
          "name": "stdout",
          "text": [
            "('icecream', 'images')\n"
          ]
        }
      ],
      "source": [
        "import re\n",
        "lists = ['icecream images', 'i immitated', 'inner peace']\n",
        "for i in lists:\n",
        "    q = re.match(\"(i\\w+)\\W(i\\w+)\", i)\n",
        "    if q:\n",
        "        print(q.groups())"
      ]
    },
    {
      "cell_type": "markdown",
      "id": "2a7cd230-a3c3-4f75-a0d1-a66870ba2d3e",
      "metadata": {
        "id": "2a7cd230-a3c3-4f75-a0d1-a66870ba2d3e"
      },
      "source": [
        "# Finding Pattern in the text(re.search())\n"
      ]
    },
    {
      "cell_type": "code",
      "execution_count": 52,
      "id": "5b59f42f-1e87-4958-82db-f9770baef1d4",
      "metadata": {
        "colab": {
          "base_uri": "https://localhost:8080/"
        },
        "id": "5b59f42f-1e87-4958-82db-f9770baef1d4",
        "outputId": "1994efbb-9dc0-4626-ed67-518b9da4e1e2"
      },
      "outputs": [
        {
          "output_type": "stream",
          "name": "stdout",
          "text": [
            "You're looking for 'playing' in 'Karthik is playing outside.'Found match!\n",
            "You're looking for 'dataset' in 'Karthik is playing outside.'no match found!\n"
          ]
        }
      ],
      "source": [
        "import re\n",
        "pattern = [\"playing\", \"dataset\"]\n",
        "text = \"Karthik is playing outside.\"\n",
        "for p in pattern:\n",
        "    print(\"You're looking for '%s' in '%s'\" % (p, text), end='')\n",
        "    if re.search(p, text):\n",
        "        print('Found match!')\n",
        "    else:\n",
        "        print(\"no match found!\")"
      ]
    },
    {
      "cell_type": "markdown",
      "id": "68d95a88-a498-471c-9726-f9991ae474bc",
      "metadata": {
        "id": "68d95a88-a498-471c-9726-f9991ae474bc"
      },
      "source": [
        "# Using re.findall() for text\n"
      ]
    },
    {
      "cell_type": "code",
      "execution_count": 53,
      "id": "34e120a9-f922-434b-803a-c5c538310229",
      "metadata": {
        "colab": {
          "base_uri": "https://localhost:8080/"
        },
        "id": "34e120a9-f922-434b-803a-c5c538310229",
        "outputId": "d8e60f4f-cfa8-4fca-e0ba-4c2822268524"
      },
      "outputs": [
        {
          "output_type": "stream",
          "name": "stdout",
          "text": [
            " XYX@gmail.com\n",
            " lmn@gmail.com\n",
            " efg@gmail.com\n"
          ]
        }
      ],
      "source": [
        "import re\n",
        "kgf = \"Abc@gmail.com, XYX@gmail.com, lmn@gmail.com, efg@gmail.com\"\n",
        "emails = re.findall(r' [\\w\\.]+@[\\w\\.]+', kgf)\n",
        "for e in emails:\n",
        "    print(e)"
      ]
    },
    {
      "cell_type": "markdown",
      "id": "dbdf4dd5-14f2-4a9b-9d48-029e112049ff",
      "metadata": {
        "id": "dbdf4dd5-14f2-4a9b-9d48-029e112049ff"
      },
      "source": [
        "## TOKENIZERS\n"
      ]
    },
    {
      "cell_type": "code",
      "execution_count": 54,
      "id": "400da631-e0c1-48e4-8aff-647f525e9400",
      "metadata": {
        "colab": {
          "base_uri": "https://localhost:8080/"
        },
        "id": "400da631-e0c1-48e4-8aff-647f525e9400",
        "outputId": "8b05a7fb-96a6-4f0f-dad4-1f48b75e8622"
      },
      "outputs": [
        {
          "output_type": "stream",
          "name": "stdout",
          "text": [
            "\n",
            "Usage:   \n",
            "  pip3 install [options] <requirement specifier> [package-index-options] ...\n",
            "  pip3 install [options] -r <requirements file> [package-index-options] ...\n",
            "  pip3 install [options] [-e] <vcs project url> ...\n",
            "  pip3 install [options] [-e] <local project path> ...\n",
            "  pip3 install [options] <archive url/path> ...\n",
            "\n",
            "no such option: --user-U\n"
          ]
        }
      ],
      "source": [
        "!pip install --user-U nltk"
      ]
    },
    {
      "cell_type": "code",
      "execution_count": 55,
      "id": "073531bc-05a2-4444-93c4-7b078d3bb29e",
      "metadata": {
        "id": "073531bc-05a2-4444-93c4-7b078d3bb29e"
      },
      "outputs": [],
      "source": [
        "from nltk.tokenize.regexp import WhitespaceTokenizer"
      ]
    },
    {
      "cell_type": "code",
      "execution_count": 56,
      "id": "e5fc2f78-f3ea-425f-8e3c-599ec64276f8",
      "metadata": {
        "id": "e5fc2f78-f3ea-425f-8e3c-599ec64276f8"
      },
      "outputs": [],
      "source": [
        "n=\"'There is no need to panic. We need to work together, take small yet important measures to ensure self-protect: split the above sentence into words'\""
      ]
    },
    {
      "cell_type": "code",
      "execution_count": 57,
      "id": "21bf51ac-4d4a-4ea0-832b-44a2c4d4fdd9",
      "metadata": {
        "id": "21bf51ac-4d4a-4ea0-832b-44a2c4d4fdd9"
      },
      "outputs": [],
      "source": [
        "from nltk.tokenize import word_tokenize"
      ]
    },
    {
      "cell_type": "code",
      "execution_count": 60,
      "id": "4b913d61-309a-4323-b0df-57044943bcc3",
      "metadata": {
        "id": "4b913d61-309a-4323-b0df-57044943bcc3"
      },
      "outputs": [],
      "source": [
        "text=\"Founded in 2002, SpaceX's mission is to enable humans to become a spacefaring civilization and a multi-planet species by building a self-sustaining city on Mars. In 2008, SpaceX's Falcon 1 became the first privately developed liquid-fuel launch vehicle to orbit the Earth,The City of Technomania has created a maze game for the residents of the city. The maze is in the form of a tree\""
      ]
    },
    {
      "cell_type": "code",
      "execution_count": 61,
      "id": "9e0bd949-42f5-4d2e-a6ed-835edd4698df",
      "metadata": {
        "colab": {
          "base_uri": "https://localhost:8080/"
        },
        "id": "9e0bd949-42f5-4d2e-a6ed-835edd4698df",
        "outputId": "30bb7be0-4620-47b8-cebf-44519d996eab"
      },
      "outputs": [
        {
          "output_type": "execute_result",
          "data": {
            "text/plain": [
              "['Founded',\n",
              " 'in',\n",
              " '2002',\n",
              " ',',\n",
              " 'SpaceX',\n",
              " \"'s\",\n",
              " 'mission',\n",
              " 'is',\n",
              " 'to',\n",
              " 'enable',\n",
              " 'humans',\n",
              " 'to',\n",
              " 'become',\n",
              " 'a',\n",
              " 'spacefaring',\n",
              " 'civilization',\n",
              " 'and',\n",
              " 'a',\n",
              " 'multi-planet',\n",
              " 'species',\n",
              " 'by',\n",
              " 'building',\n",
              " 'a',\n",
              " 'self-sustaining',\n",
              " 'city',\n",
              " 'on',\n",
              " 'Mars',\n",
              " '.',\n",
              " 'In',\n",
              " '2008',\n",
              " ',',\n",
              " 'SpaceX',\n",
              " \"'s\",\n",
              " 'Falcon',\n",
              " '1',\n",
              " 'became',\n",
              " 'the',\n",
              " 'first',\n",
              " 'privately',\n",
              " 'developed',\n",
              " 'liquid-fuel',\n",
              " 'launch',\n",
              " 'vehicle',\n",
              " 'to',\n",
              " 'orbit',\n",
              " 'the',\n",
              " 'Earth',\n",
              " ',',\n",
              " 'The',\n",
              " 'City',\n",
              " 'of',\n",
              " 'Technomania',\n",
              " 'has',\n",
              " 'created',\n",
              " 'a',\n",
              " 'maze',\n",
              " 'game',\n",
              " 'for',\n",
              " 'the',\n",
              " 'residents',\n",
              " 'of',\n",
              " 'the',\n",
              " 'city',\n",
              " '.',\n",
              " 'The',\n",
              " 'maze',\n",
              " 'is',\n",
              " 'in',\n",
              " 'the',\n",
              " 'form',\n",
              " 'of',\n",
              " 'a',\n",
              " 'tree']"
            ]
          },
          "metadata": {},
          "execution_count": 61
        }
      ],
      "source": [
        "word_tokenize(text)"
      ]
    },
    {
      "cell_type": "code",
      "execution_count": 62,
      "id": "b526308d-f171-434d-a79d-eb9e9ec8e742",
      "metadata": {
        "colab": {
          "base_uri": "https://localhost:8080/"
        },
        "id": "b526308d-f171-434d-a79d-eb9e9ec8e742",
        "outputId": "0cfe7f45-fb09-453c-881b-37021123bfd9"
      },
      "outputs": [
        {
          "output_type": "stream",
          "name": "stdout",
          "text": [
            "25\n"
          ]
        }
      ],
      "source": [
        "tokens = WhitespaceTokenizer().tokenize(n)\n",
        "print(len(tokens))"
      ]
    },
    {
      "cell_type": "code",
      "execution_count": 63,
      "id": "4024ae47-d03a-45df-9f0c-a4ce4cc2c730",
      "metadata": {
        "colab": {
          "base_uri": "https://localhost:8080/"
        },
        "id": "4024ae47-d03a-45df-9f0c-a4ce4cc2c730",
        "outputId": "680e0321-bcc5-4610-ddd8-a4dbd9e696ac"
      },
      "outputs": [
        {
          "output_type": "execute_result",
          "data": {
            "text/plain": [
              "[\"'There\",\n",
              " 'is',\n",
              " 'no',\n",
              " 'need',\n",
              " 'to',\n",
              " 'panic.',\n",
              " 'We',\n",
              " 'need',\n",
              " 'to',\n",
              " 'work',\n",
              " 'together,',\n",
              " 'take',\n",
              " 'small',\n",
              " 'yet',\n",
              " 'important',\n",
              " 'measures',\n",
              " 'to',\n",
              " 'ensure',\n",
              " 'self-protect:',\n",
              " 'split',\n",
              " 'the',\n",
              " 'above',\n",
              " 'sentence',\n",
              " 'into',\n",
              " \"words'\"]"
            ]
          },
          "metadata": {},
          "execution_count": 63
        }
      ],
      "source": [
        "tokens"
      ]
    },
    {
      "cell_type": "code",
      "execution_count": 64,
      "id": "f81ab555-c1a3-47ea-8b54-130ed86e7ea1",
      "metadata": {
        "colab": {
          "base_uri": "https://localhost:8080/"
        },
        "id": "f81ab555-c1a3-47ea-8b54-130ed86e7ea1",
        "outputId": "b0f230fd-6d35-4a75-a697-b0cff2f5fb27"
      },
      "outputs": [
        {
          "output_type": "stream",
          "name": "stdout",
          "text": [
            "25\n"
          ]
        }
      ],
      "source": [
        "myvocab = set(tokens)\n",
        "print(len(tokens))"
      ]
    },
    {
      "cell_type": "code",
      "execution_count": 65,
      "id": "32e3c74c-6a96-4d63-bb8e-fc619ae7c0b2",
      "metadata": {
        "colab": {
          "base_uri": "https://localhost:8080/"
        },
        "id": "32e3c74c-6a96-4d63-bb8e-fc619ae7c0b2",
        "outputId": "92e75c0c-9933-492a-873d-41aed3579d66"
      },
      "outputs": [
        {
          "output_type": "execute_result",
          "data": {
            "text/plain": [
              "{\"'There\",\n",
              " 'We',\n",
              " 'above',\n",
              " 'ensure',\n",
              " 'important',\n",
              " 'into',\n",
              " 'is',\n",
              " 'measures',\n",
              " 'need',\n",
              " 'no',\n",
              " 'panic.',\n",
              " 'self-protect:',\n",
              " 'sentence',\n",
              " 'small',\n",
              " 'split',\n",
              " 'take',\n",
              " 'the',\n",
              " 'to',\n",
              " 'together,',\n",
              " \"words'\",\n",
              " 'work',\n",
              " 'yet'}"
            ]
          },
          "metadata": {},
          "execution_count": 65
        }
      ],
      "source": [
        "myvocab"
      ]
    },
    {
      "cell_type": "code",
      "execution_count": 66,
      "id": "35e9c176-f52b-4e16-a222-2dfedffa2d09",
      "metadata": {
        "id": "35e9c176-f52b-4e16-a222-2dfedffa2d09"
      },
      "outputs": [],
      "source": [
        "my_st=\"There is no need to panic. We need to work together, The City of Technomania has created a maze game for the residents of the city. The maze is in the form of a tree\""
      ]
    },
    {
      "cell_type": "markdown",
      "id": "4e939b8a-b55d-45c4-b775-9cc7707b132b",
      "metadata": {
        "id": "4e939b8a-b55d-45c4-b775-9cc7707b132b"
      },
      "source": [
        "##We'll import different tokenizer:"
      ]
    },
    {
      "cell_type": "code",
      "execution_count": 67,
      "id": "b3549ac4-8df6-4180-b394-2553f6912f72",
      "metadata": {
        "id": "b3549ac4-8df6-4180-b394-2553f6912f72"
      },
      "outputs": [],
      "source": [
        "from nltk.tokenize.regexp import WordPunctTokenizer"
      ]
    },
    {
      "cell_type": "code",
      "execution_count": 68,
      "id": "7c2bfc52-f2ea-4ed0-a24e-34dcee3ab332",
      "metadata": {
        "colab": {
          "base_uri": "https://localhost:8080/"
        },
        "id": "7c2bfc52-f2ea-4ed0-a24e-34dcee3ab332",
        "outputId": "f2b4d835-4a65-40ad-bbd6-a764bbfb2b89"
      },
      "outputs": [
        {
          "output_type": "stream",
          "name": "stdout",
          "text": [
            "38\n"
          ]
        }
      ],
      "source": [
        "m_t= WordPunctTokenizer().tokenize(my_st)\n",
        "print(len(m_t))"
      ]
    },
    {
      "cell_type": "code",
      "execution_count": 69,
      "id": "13eaffef-e0f4-4235-8dfa-787fa7ca87cb",
      "metadata": {
        "colab": {
          "base_uri": "https://localhost:8080/"
        },
        "id": "13eaffef-e0f4-4235-8dfa-787fa7ca87cb",
        "outputId": "db05ec67-056b-4788-b4fb-32cc6c3406cb"
      },
      "outputs": [
        {
          "output_type": "execute_result",
          "data": {
            "text/plain": [
              "['There',\n",
              " 'is',\n",
              " 'no',\n",
              " 'need',\n",
              " 'to',\n",
              " 'panic',\n",
              " '.',\n",
              " 'We',\n",
              " 'need',\n",
              " 'to',\n",
              " 'work',\n",
              " 'together',\n",
              " ',',\n",
              " 'The',\n",
              " 'City',\n",
              " 'of',\n",
              " 'Technomania',\n",
              " 'has',\n",
              " 'created',\n",
              " 'a',\n",
              " 'maze',\n",
              " 'game',\n",
              " 'for',\n",
              " 'the',\n",
              " 'residents',\n",
              " 'of',\n",
              " 'the',\n",
              " 'city',\n",
              " '.',\n",
              " 'The',\n",
              " 'maze',\n",
              " 'is',\n",
              " 'in',\n",
              " 'the',\n",
              " 'form',\n",
              " 'of',\n",
              " 'a',\n",
              " 'tree']"
            ]
          },
          "metadata": {},
          "execution_count": 69
        }
      ],
      "source": [
        "m_t"
      ]
    },
    {
      "cell_type": "code",
      "execution_count": 70,
      "id": "1dd619ab-5470-474a-bf6f-97862e5b8f96",
      "metadata": {
        "colab": {
          "base_uri": "https://localhost:8080/"
        },
        "id": "1dd619ab-5470-474a-bf6f-97862e5b8f96",
        "outputId": "69a1974c-60f8-4681-dc41-85021467967d"
      },
      "outputs": [
        {
          "output_type": "execute_result",
          "data": {
            "text/plain": [
              "[\"Founded in 2002, SpaceX's mission is to enable humans to become a spacefaring civilization and a multi-planetary species by building a self-sustaining city on Mars.\",\n",
              " \"In 2008, SpaceX's Falcon 1 became the first privately developed liquid-fuel launch vehicle to orbit the Earth, The City of Technomania has created a maze game for the residents of the city.\",\n",
              " 'The maze is in the form of a tree']"
            ]
          },
          "metadata": {},
          "execution_count": 70
        }
      ],
      "source": [
        "from nltk.tokenize import sent_tokenize\n",
        "text = \"\"\"Founded in 2002, SpaceX's mission is to enable humans to become a spacefaring civilization and a multi-planetary species by building a self-sustaining city on Mars. In 2008, SpaceX's Falcon 1 became the first privately developed liquid-fuel launch vehicle to orbit the Earth, The City of Technomania has created a maze game for the residents of the city. The maze is in the form of a tree\"\"\"\n",
        "sent_tokenize(text)"
      ]
    },
    {
      "cell_type": "code",
      "execution_count": 71,
      "id": "28b3940a-f218-4cf4-9b2e-411494339b59",
      "metadata": {
        "colab": {
          "base_uri": "https://localhost:8080/"
        },
        "id": "28b3940a-f218-4cf4-9b2e-411494339b59",
        "outputId": "fd4d62d8-81fa-4b0d-efc1-7fb56efac627"
      },
      "outputs": [
        {
          "output_type": "stream",
          "name": "stdout",
          "text": [
            "\n",
            "\n",
            "\n",
            "\n",
            "<FreqDist with 33 samples and 46 outcomes>\n"
          ]
        }
      ],
      "source": [
        "import nltk\n",
        "print(\"\\n\\n\\n\")\n",
        "text1= \"There is no need to panic. We need to work together, take small yet important measures to ensure, The City of Technomania has created a maze game for the residents of the city. The maze is in the form of a tree \"\n",
        "freqDist = nltk. FreqDist(word_tokenize(text1))\n",
        "print(freqDist)"
      ]
    },
    {
      "cell_type": "code",
      "execution_count": 72,
      "id": "4f027dbd-bcf2-4a23-a8e8-b5cc212d18e0",
      "metadata": {
        "colab": {
          "base_uri": "https://localhost:8080/"
        },
        "id": "4f027dbd-bcf2-4a23-a8e8-b5cc212d18e0",
        "outputId": "f0970497-3194-4847-c6cd-f5a8b145cd1c"
      },
      "outputs": [
        {
          "output_type": "stream",
          "name": "stdout",
          "text": [
            "0\n"
          ]
        }
      ],
      "source": [
        "print(freqDist[\"person\"])"
      ]
    },
    {
      "cell_type": "code",
      "execution_count": 73,
      "id": "e3dede59-44ec-4d57-b85c-9e1c264b567d",
      "metadata": {
        "colab": {
          "base_uri": "https://localhost:8080/"
        },
        "id": "e3dede59-44ec-4d57-b85c-9e1c264b567d",
        "outputId": "da9f9a08-4fc8-4c7f-ee9b-d35343eac728"
      },
      "outputs": [
        {
          "output_type": "stream",
          "name": "stdout",
          "text": [
            "<class 'dict_keys'>\n"
          ]
        },
        {
          "output_type": "execute_result",
          "data": {
            "text/plain": [
              "dict_keys(['There', 'is', 'no', 'need', 'to', 'panic', '.', 'We', 'work', 'together', ',', 'take', 'small', 'yet', 'important', 'measures', 'ensure', 'The', 'City', 'of', 'Technomania', 'has', 'created', 'a', 'maze', 'game', 'for', 'the', 'residents', 'city', 'in', 'form', 'tree'])"
            ]
          },
          "metadata": {},
          "execution_count": 73
        }
      ],
      "source": [
        "words = freqDist.keys()\n",
        "print(type(words))\n",
        "words"
      ]
    },
    {
      "cell_type": "code",
      "execution_count": 74,
      "id": "46632361-fb7f-474e-b2c4-e88551a4f947",
      "metadata": {
        "colab": {
          "base_uri": "https://localhost:8080/"
        },
        "id": "46632361-fb7f-474e-b2c4-e88551a4f947",
        "outputId": "62ecec03-a132-4c3b-9d8d-552812fdc6e0"
      },
      "outputs": [
        {
          "output_type": "stream",
          "name": "stdout",
          "text": [
            "33\n"
          ]
        }
      ],
      "source": [
        "print(len(words))"
      ]
    },
    {
      "cell_type": "code",
      "execution_count": 75,
      "id": "526bcff3-59f7-433b-a870-8332a90e35eb",
      "metadata": {
        "colab": {
          "base_uri": "https://localhost:8080/",
          "height": 544
        },
        "id": "526bcff3-59f7-433b-a870-8332a90e35eb",
        "outputId": "1e7497ba-f255-4bda-af7c-d1a721d93f75"
      },
      "outputs": [
        {
          "output_type": "display_data",
          "data": {
            "text/plain": [
              "<Figure size 640x480 with 1 Axes>"
            ],
            "image/png": "[encoded data removed]"
          },
          "metadata": {}
        },
        {
          "output_type": "execute_result",
          "data": {
            "text/plain": [
              "<Axes: xlabel='Samples', ylabel='Counts'>"
            ]
          },
          "metadata": {},
          "execution_count": 75
        }
      ],
      "source": [
        "freqDist.plot(27)"
      ]
    },
    {
      "cell_type": "markdown",
      "id": "856471d2-26cf-4061-a0b2-aaeeb723f664",
      "metadata": {
        "id": "856471d2-26cf-4061-a0b2-aaeeb723f664"
      },
      "source": [
        "# Personal Frequency Distribution\n"
      ]
    },
    {
      "cell_type": "code",
      "execution_count": 76,
      "id": "538329ea-d9f8-4e76-91cd-8aad0e29587b",
      "metadata": {
        "id": "538329ea-d9f8-4e76-91cd-8aad0e29587b"
      },
      "outputs": [],
      "source": [
        "from nltk import FreqDist"
      ]
    },
    {
      "cell_type": "code",
      "execution_count": 77,
      "id": "04287543-707f-4a5b-a8c1-22ab550e484d",
      "metadata": {
        "colab": {
          "base_uri": "https://localhost:8080/"
        },
        "id": "04287543-707f-4a5b-a8c1-22ab550e484d",
        "outputId": "70ecad9b-b0f8-413f-87f1-10352e17fe28"
      },
      "outputs": [
        {
          "output_type": "stream",
          "name": "stdout",
          "text": [
            "2\n"
          ]
        }
      ],
      "source": [
        "from nltk import FreqDist\n",
        "sent = \"There is no need to panic. We need to work together, take small yet important measures to ensure self-protection, The City of Technomania has created a maze game for the residents of the city. The maze is in the form of a tree\"\n",
        "text_list = sent.split(\" \")\n",
        "freqDist = FreqDist(text_list)\n",
        "words = list(freqDist.keys())\n",
        "print(freqDist['need'])"
      ]
    },
    {
      "cell_type": "code",
      "execution_count": 80,
      "id": "4e5dc584-2a1a-40d1-a4de-adc861d84801",
      "metadata": {
        "colab": {
          "base_uri": "https://localhost:8080/",
          "height": 557
        },
        "id": "4e5dc584-2a1a-40d1-a4de-adc861d84801",
        "outputId": "403ca19c-7a72-45ef-8dc5-df68a5f7c3b6"
      },
      "outputs": [
        {
          "output_type": "display_data",
          "data": {
            "text/plain": [
              "<Figure size 640x480 with 1 Axes>"
            ],
            "image/png": "[encoded data removed]"
          },
          "metadata": {}
        },
        {
          "output_type": "execute_result",
          "data": {
            "text/plain": [
              "<Axes: xlabel='Samples', ylabel='Counts'>"
            ]
          },
          "metadata": {},
          "execution_count": 80
        }
      ],
      "source": [
        "freqDist.plot(35)"
      ]
    }
  ],
  "metadata": {
    "kernelspec": {
      "display_name": "Python 3 (ipykernel)",
      "language": "python",
      "name": "python3"
    },
    "language_info": {
      "codemirror_mode": {
        "name": "ipython",
        "version": 3
      },
      "file_extension": ".py",
      "mimetype": "text/x-python",
      "name": "python",
      "nbconvert_exporter": "python",
      "pygments_lexer": "ipython3",
      "version": "3.10.12"
    },
    "colab": {
      "provenance": []
    }
  },
  "nbformat": 4,
  "nbformat_minor": 5
}