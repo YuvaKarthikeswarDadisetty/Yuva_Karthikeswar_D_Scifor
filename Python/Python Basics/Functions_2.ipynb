{
  "nbformat": 4,
  "nbformat_minor": 0,
  "metadata": {
    "colab": {
      "provenance": []
    },
    "kernelspec": {
      "name": "python3",
      "display_name": "Python 3"
    },
    "language_info": {
      "name": "python"
    }
  },
  "cells": [
    {
      "cell_type": "code",
      "execution_count": 1,
      "metadata": {
        "id": "D0LE5mNH9XMw"
      },
      "outputs": [],
      "source": [
        "def hello():\n",
        "  print('This is a basic function')"
      ]
    },
    {
      "cell_type": "code",
      "source": [
        "hello()"
      ],
      "metadata": {
        "colab": {
          "base_uri": "https://localhost:8080/"
        },
        "id": "8DxyH0LY-Cn-",
        "outputId": "0cccb438-92ab-420b-d473-e52015fdb0e1"
      },
      "execution_count": 2,
      "outputs": [
        {
          "output_type": "stream",
          "name": "stdout",
          "text": [
            "This is a basic function\n"
          ]
        }
      ]
    },
    {
      "cell_type": "code",
      "source": [
        "def person(name):\n",
        "  print(\"Hi my name is \\n\\t\",name)"
      ],
      "metadata": {
        "id": "XBqOIcVz-Hvx"
      },
      "execution_count": 10,
      "outputs": []
    },
    {
      "cell_type": "code",
      "source": [
        "person(\"Yuva\")"
      ],
      "metadata": {
        "colab": {
          "base_uri": "https://localhost:8080/"
        },
        "id": "OG7xJR6E-quK",
        "outputId": "ddd9fcf6-5d3d-4c27-c4b3-3acb7c7819aa"
      },
      "execution_count": 11,
      "outputs": [
        {
          "output_type": "stream",
          "name": "stdout",
          "text": [
            "Hi my name is \n",
            "\t Yuva\n"
          ]
        }
      ]
    },
    {
      "cell_type": "code",
      "source": [
        "def salary_incr(salary):\n",
        "    if salary<=10000:\n",
        "        print(salary + 1000)\n",
        "    else:\n",
        "        print(salary)"
      ],
      "metadata": {
        "id": "LzJqOOTj_CUb"
      },
      "execution_count": 16,
      "outputs": []
    },
    {
      "cell_type": "code",
      "source": [
        "print('Your salary is',salary_incr(1689))"
      ],
      "metadata": {
        "colab": {
          "base_uri": "https://localhost:8080/"
        },
        "id": "e1w3WrR9_a8A",
        "outputId": "32c63eb7-0822-4e98-fa68-67e8a5c78066"
      },
      "execution_count": 18,
      "outputs": [
        {
          "output_type": "stream",
          "name": "stdout",
          "text": [
            "2689\n",
            "Your salary is None\n"
          ]
        }
      ]
    },
    {
      "cell_type": "code",
      "source": [
        "def incr_salary(salary):\n",
        "    if salary<=8000:\n",
        "        return (salary+1000)\n",
        "    else:\n",
        "        return(salary)"
      ],
      "metadata": {
        "id": "pahfL0U5ATE7"
      },
      "execution_count": 14,
      "outputs": []
    },
    {
      "cell_type": "code",
      "source": [
        "incr_salary(9789)"
      ],
      "metadata": {
        "colab": {
          "base_uri": "https://localhost:8080/"
        },
        "id": "zQ544EFJAaVh",
        "outputId": "72876c0b-3e48-4093-dea8-407344835526"
      },
      "execution_count": 15,
      "outputs": [
        {
          "output_type": "execute_result",
          "data": {
            "text/plain": [
              "9789"
            ]
          },
          "metadata": {},
          "execution_count": 15
        }
      ]
    },
    {
      "cell_type": "code",
      "source": [
        "def my_marks(science,maths,english):\n",
        "    return (science + maths + english)"
      ],
      "metadata": {
        "id": "ncPZO87CA7eX"
      },
      "execution_count": 19,
      "outputs": []
    },
    {
      "cell_type": "code",
      "source": [
        "print(\"You Have Got\",my_marks(85,69,74))"
      ],
      "metadata": {
        "colab": {
          "base_uri": "https://localhost:8080/"
        },
        "id": "CwxouvOrBEOB",
        "outputId": "c38141bd-8731-4569-dc43-ea949b638acf"
      },
      "execution_count": 20,
      "outputs": [
        {
          "output_type": "stream",
          "name": "stdout",
          "text": [
            "You Have Got 228\n"
          ]
        }
      ]
    },
    {
      "cell_type": "code",
      "source": [
        "total_marks=my_marks(85,69,74)"
      ],
      "metadata": {
        "id": "lhZE4VNzBS5N"
      },
      "execution_count": 21,
      "outputs": []
    },
    {
      "cell_type": "code",
      "source": [
        "total_marks"
      ],
      "metadata": {
        "colab": {
          "base_uri": "https://localhost:8080/"
        },
        "id": "8NEmNppyBVJ8",
        "outputId": "b1ea54fa-6db2-40aa-b315-7a4ab3e2581e"
      },
      "execution_count": 22,
      "outputs": [
        {
          "output_type": "execute_result",
          "data": {
            "text/plain": [
              "228"
            ]
          },
          "metadata": {},
          "execution_count": 22
        }
      ]
    },
    {
      "cell_type": "code",
      "source": [
        "if total_marks >85:\n",
        "    print(total_marks,\" Distinction and you got a scholor\")\n",
        "elif total_marks>70 and total_marks<=85:\n",
        "    print(total_marks,\"You are good\")\n",
        "elif total_marks>60 and total_marks<=70:\n",
        "    print(total_marks,\"First division\")\n",
        "elif total_marks>45 and total_marks<=60:\n",
        "    print(total_marks,\"second division\")\n",
        "elif total_marks>35 and total_marks<=45:\n",
        "    print(total_marks,\"you are just pass, but you are also good\")\n",
        "else:\n",
        "    print(total_marks,\"You are Fail , but you are best\")"
      ],
      "metadata": {
        "colab": {
          "base_uri": "https://localhost:8080/"
        },
        "id": "mpIfAkRfBXd0",
        "outputId": "c3650a98-9232-4b19-aef2-e9edb96c72ab"
      },
      "execution_count": 23,
      "outputs": [
        {
          "output_type": "stream",
          "name": "stdout",
          "text": [
            "228  Distinction and you got a scholor\n"
          ]
        }
      ]
    },
    {
      "cell_type": "code",
      "source": [
        "def phone_price(phone_make,phone_age,phone_model_gb):\n",
        "    if phone_make== \"i phone 13\":\n",
        "        if 0<phone_age<=6:\n",
        "            if phone_model_gb==128:\n",
        "                print(\"Rs 60000 - Rs 70000 \")\n",
        "            elif phone_model_gb==256:\n",
        "                print(\"70000 - 80000\")\n",
        "    if phone_make==\"i phone 12\":\n",
        "        if 0<phone_age<=6:\n",
        "            if phone_model_gb==64:\n",
        "                print(\"Rs 50000 - RS 60000\")\n",
        "            elif phone_model_gb==128:\n",
        "                    print(\"Rs 55000 - 65000\")\n",
        "    elif phone_make==\"Nokia Lumia\":\n",
        "        if 0<phone_age<6:\n",
        "            if phone_model_gb==8:\n",
        "                print(\"Rs 15000 - RS 22000\")\n",
        "            elif phone_model_gb==32:\n",
        "                print(\"Rs 22000 , Rs28000\")\n",
        "    else:\n",
        "        print(\"No stock right now. please come back in few days\")"
      ],
      "metadata": {
        "id": "gUgTTQALCasE"
      },
      "execution_count": 24,
      "outputs": []
    },
    {
      "cell_type": "code",
      "source": [
        "phone_price('i phone 12',5,64)"
      ],
      "metadata": {
        "colab": {
          "base_uri": "https://localhost:8080/"
        },
        "id": "_lnwX0BjCfE8",
        "outputId": "77040590-2757-47e9-d631-a2808f258a13"
      },
      "execution_count": 25,
      "outputs": [
        {
          "output_type": "stream",
          "name": "stdout",
          "text": [
            "Rs 50000 - RS 60000\n"
          ]
        }
      ]
    },
    {
      "cell_type": "code",
      "source": [
        "add_num=lambda y:y+3.14"
      ],
      "metadata": {
        "id": "Ztt-8_M0CvEr"
      },
      "execution_count": 26,
      "outputs": []
    },
    {
      "cell_type": "code",
      "source": [
        "add_num(67)"
      ],
      "metadata": {
        "colab": {
          "base_uri": "https://localhost:8080/"
        },
        "id": "oCo5GXxqC1r5",
        "outputId": "6a8a527a-34a6-4df6-b44b-58145d60e92f"
      },
      "execution_count": 27,
      "outputs": [
        {
          "output_type": "execute_result",
          "data": {
            "text/plain": [
              "70.14"
            ]
          },
          "metadata": {},
          "execution_count": 27
        }
      ]
    },
    {
      "cell_type": "code",
      "source": [
        "multi_num=lambda x,y:x*y"
      ],
      "metadata": {
        "id": "42lQrzRPC9Zh"
      },
      "execution_count": 28,
      "outputs": []
    },
    {
      "cell_type": "code",
      "source": [
        "multi_num(67,17)"
      ],
      "metadata": {
        "colab": {
          "base_uri": "https://localhost:8080/"
        },
        "id": "XKm0-ZeTDCKD",
        "outputId": "ba0e401a-c377-4d51-bdda-f5cb7eeee73d"
      },
      "execution_count": 29,
      "outputs": [
        {
          "output_type": "execute_result",
          "data": {
            "text/plain": [
              "1139"
            ]
          },
          "metadata": {},
          "execution_count": 29
        }
      ]
    },
    {
      "cell_type": "code",
      "source": [
        "def my_func(*args):\n",
        "    for i in args:\n",
        "        print(\"my Args \",i)"
      ],
      "metadata": {
        "id": "VkEB24o4DI4r"
      },
      "execution_count": 30,
      "outputs": []
    },
    {
      "cell_type": "code",
      "source": [
        "my_func(\"Ramesh\",\"Suresh\",\"Korba\",78)"
      ],
      "metadata": {
        "colab": {
          "base_uri": "https://localhost:8080/"
        },
        "id": "KwGwdDn8DWbJ",
        "outputId": "ded18f6d-b628-4ab5-a9a1-5341bb36b956"
      },
      "execution_count": 31,
      "outputs": [
        {
          "output_type": "stream",
          "name": "stdout",
          "text": [
            "my Args  Ramesh\n",
            "my Args  Suresh\n",
            "my Args  Korba\n",
            "my Args  78\n"
          ]
        }
      ]
    },
    {
      "cell_type": "code",
      "source": [
        "def my_func(**kwargs):\n",
        "    for key,value in kwargs.items():\n",
        "        print(key,value)"
      ],
      "metadata": {
        "id": "7DN8dSIfDaKd"
      },
      "execution_count": 32,
      "outputs": []
    },
    {
      "cell_type": "code",
      "source": [
        "my_func(student=[\"Ram\",\"Shiva\"],marks=[84,59])"
      ],
      "metadata": {
        "colab": {
          "base_uri": "https://localhost:8080/"
        },
        "id": "Ct8Smpk4Dj_k",
        "outputId": "e1bb7808-b964-47fa-d71c-98c8c0ff56d5"
      },
      "execution_count": 33,
      "outputs": [
        {
          "output_type": "stream",
          "name": "stdout",
          "text": [
            "student ['Ram', 'Shiva']\n",
            "marks [84, 59]\n"
          ]
        }
      ]
    },
    {
      "cell_type": "code",
      "source": [
        "a=\"I love my India\""
      ],
      "metadata": {
        "id": "oBb58MsXDub7"
      },
      "execution_count": 34,
      "outputs": []
    },
    {
      "cell_type": "code",
      "source": [
        "a"
      ],
      "metadata": {
        "colab": {
          "base_uri": "https://localhost:8080/",
          "height": 36
        },
        "id": "FQULfI2YEVLe",
        "outputId": "ce5d8dd9-7dca-4681-bcca-db8416cde284"
      },
      "execution_count": 35,
      "outputs": [
        {
          "output_type": "execute_result",
          "data": {
            "text/plain": [
              "'I love my India'"
            ],
            "application/vnd.google.colaboratory.intrinsic+json": {
              "type": "string"
            }
          },
          "metadata": {},
          "execution_count": 35
        }
      ]
    },
    {
      "cell_type": "code",
      "source": [
        "a[0]"
      ],
      "metadata": {
        "colab": {
          "base_uri": "https://localhost:8080/",
          "height": 36
        },
        "id": "_VUUVK96EXEk",
        "outputId": "31dfff4d-b4e7-4e73-c50b-7cdfaaadbae4"
      },
      "execution_count": 36,
      "outputs": [
        {
          "output_type": "execute_result",
          "data": {
            "text/plain": [
              "'I'"
            ],
            "application/vnd.google.colaboratory.intrinsic+json": {
              "type": "string"
            }
          },
          "metadata": {},
          "execution_count": 36
        }
      ]
    },
    {
      "cell_type": "code",
      "source": [
        "a[1:7]"
      ],
      "metadata": {
        "colab": {
          "base_uri": "https://localhost:8080/",
          "height": 36
        },
        "id": "_bvS7cV4EboS",
        "outputId": "396d5051-76f5-4a5b-e41b-bc7c34882698"
      },
      "execution_count": 37,
      "outputs": [
        {
          "output_type": "execute_result",
          "data": {
            "text/plain": [
              "' love '"
            ],
            "application/vnd.google.colaboratory.intrinsic+json": {
              "type": "string"
            }
          },
          "metadata": {},
          "execution_count": 37
        }
      ]
    },
    {
      "cell_type": "code",
      "source": [
        "a[-7]"
      ],
      "metadata": {
        "colab": {
          "base_uri": "https://localhost:8080/",
          "height": 36
        },
        "id": "NOqtn0XKEeoi",
        "outputId": "a74c29ff-01a2-457d-da1a-590189411e9c"
      },
      "execution_count": 38,
      "outputs": [
        {
          "output_type": "execute_result",
          "data": {
            "text/plain": [
              "'y'"
            ],
            "application/vnd.google.colaboratory.intrinsic+json": {
              "type": "string"
            }
          },
          "metadata": {},
          "execution_count": 38
        }
      ]
    },
    {
      "cell_type": "code",
      "source": [
        "a[::2]"
      ],
      "metadata": {
        "colab": {
          "base_uri": "https://localhost:8080/",
          "height": 36
        },
        "id": "FmfjuSMFEklA",
        "outputId": "bec129c1-b835-4681-ae1d-164375661ddb"
      },
      "execution_count": 39,
      "outputs": [
        {
          "output_type": "execute_result",
          "data": {
            "text/plain": [
              "'Ilv yIda'"
            ],
            "application/vnd.google.colaboratory.intrinsic+json": {
              "type": "string"
            }
          },
          "metadata": {},
          "execution_count": 39
        }
      ]
    },
    {
      "cell_type": "code",
      "source": [
        "def grace_marks(marks):\n",
        "    if marks==33:\n",
        "        return marks+2\n",
        "    elif marks==34:\n",
        "        return marks+1\n",
        "    else:\n",
        "        return(marks)"
      ],
      "metadata": {
        "id": "8O10ID-VE5W0"
      },
      "execution_count": 40,
      "outputs": []
    },
    {
      "cell_type": "code",
      "source": [
        "score=[47,58,69,14,25,33,34,33,33,34,33]"
      ],
      "metadata": {
        "id": "VsQ4zsAFE7Vw"
      },
      "execution_count": 41,
      "outputs": []
    },
    {
      "cell_type": "code",
      "source": [
        "total=list(map(grace_marks,score))"
      ],
      "metadata": {
        "id": "AphOsy1MFF81"
      },
      "execution_count": 42,
      "outputs": []
    },
    {
      "cell_type": "code",
      "source": [
        "total"
      ],
      "metadata": {
        "colab": {
          "base_uri": "https://localhost:8080/"
        },
        "id": "LRQBwqfAFQBc",
        "outputId": "28bf5e95-becd-4734-cb1d-a61db8202417"
      },
      "execution_count": 43,
      "outputs": [
        {
          "output_type": "execute_result",
          "data": {
            "text/plain": [
              "[47, 58, 69, 14, 25, 35, 35, 35, 35, 35, 35]"
            ]
          },
          "metadata": {},
          "execution_count": 43
        }
      ]
    },
    {
      "cell_type": "code",
      "source": [
        "total.sort()"
      ],
      "metadata": {
        "id": "c6gwavSaFZy8"
      },
      "execution_count": 44,
      "outputs": []
    },
    {
      "cell_type": "code",
      "source": [
        "total"
      ],
      "metadata": {
        "colab": {
          "base_uri": "https://localhost:8080/"
        },
        "id": "Ajeh8liVFdJp",
        "outputId": "bf258a4a-bec7-45d4-f769-4a8d3a65d2b3"
      },
      "execution_count": 45,
      "outputs": [
        {
          "output_type": "execute_result",
          "data": {
            "text/plain": [
              "[14, 25, 35, 35, 35, 35, 35, 35, 47, 58, 69]"
            ]
          },
          "metadata": {},
          "execution_count": 45
        }
      ]
    },
    {
      "cell_type": "code",
      "source": [
        "total.count(35)"
      ],
      "metadata": {
        "colab": {
          "base_uri": "https://localhost:8080/"
        },
        "id": "w0D9hfBfFg5w",
        "outputId": "0eefae22-9595-4062-c866-1fb12b4374ab"
      },
      "execution_count": 46,
      "outputs": [
        {
          "output_type": "execute_result",
          "data": {
            "text/plain": [
              "6"
            ]
          },
          "metadata": {},
          "execution_count": 46
        }
      ]
    },
    {
      "cell_type": "code",
      "source": [
        "def filter_marks(marks):\n",
        "    if marks<35:\n",
        "        return (marks)"
      ],
      "metadata": {
        "id": "a6pSX5_bFmWC"
      },
      "execution_count": 52,
      "outputs": []
    },
    {
      "cell_type": "code",
      "source": [
        "score=[47,58,69,14,25,33,34,33,33,34,33]"
      ],
      "metadata": {
        "id": "DjXaq4HXFzec"
      },
      "execution_count": 53,
      "outputs": []
    },
    {
      "cell_type": "code",
      "source": [
        "failed=list(filter(filter_marks,score))"
      ],
      "metadata": {
        "id": "TXGOKgZbF1Bv"
      },
      "execution_count": 49,
      "outputs": []
    },
    {
      "cell_type": "code",
      "source": [
        "failed"
      ],
      "metadata": {
        "colab": {
          "base_uri": "https://localhost:8080/"
        },
        "id": "hojtQpb-F2v6",
        "outputId": "4e936b1a-b210-4b42-8eda-0694c09be31a"
      },
      "execution_count": 50,
      "outputs": [
        {
          "output_type": "execute_result",
          "data": {
            "text/plain": [
              "[14, 25, 33, 34, 33, 33, 34, 33]"
            ]
          },
          "metadata": {},
          "execution_count": 50
        }
      ]
    },
    {
      "cell_type": "code",
      "source": [
        "list(map(lambda var:var%2==0,[1,2,3]))"
      ],
      "metadata": {
        "colab": {
          "base_uri": "https://localhost:8080/"
        },
        "id": "Eb_B3MyEGY7L",
        "outputId": "7290e79f-426f-4538-e81a-d9fae9985341"
      },
      "execution_count": 57,
      "outputs": [
        {
          "output_type": "execute_result",
          "data": {
            "text/plain": [
              "[False, True, False]"
            ]
          },
          "metadata": {},
          "execution_count": 57
        }
      ]
    },
    {
      "cell_type": "code",
      "source": [
        "list(filter(lambda var:var%2==0,[1,2,3]))"
      ],
      "metadata": {
        "id": "P5oZ98_ZHGAe",
        "outputId": "024e5ae5-1904-4aa0-f81c-814e7dd8e1f9",
        "colab": {
          "base_uri": "https://localhost:8080/"
        }
      },
      "execution_count": 58,
      "outputs": [
        {
          "output_type": "execute_result",
          "data": {
            "text/plain": [
              "[2]"
            ]
          },
          "metadata": {},
          "execution_count": 58
        }
      ]
    }
  ]
}