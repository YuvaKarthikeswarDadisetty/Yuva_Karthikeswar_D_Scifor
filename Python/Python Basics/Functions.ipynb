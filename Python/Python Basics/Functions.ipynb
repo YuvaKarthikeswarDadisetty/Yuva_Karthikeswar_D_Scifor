{
  "nbformat": 4,
  "nbformat_minor": 0,
  "metadata": {
    "colab": {
      "provenance": []
    },
    "kernelspec": {
      "name": "python3",
      "display_name": "Python 3"
    },
    "language_info": {
      "name": "python"
    }
  },
  "cells": [
    {
      "cell_type": "code",
      "execution_count": 1,
      "metadata": {
        "colab": {
          "base_uri": "https://localhost:8080/"
        },
        "id": "YO5UIMiXKG1K",
        "outputId": "c192285e-097d-4c47-8209-70d2d744ce11"
      },
      "outputs": [
        {
          "output_type": "stream",
          "name": "stdout",
          "text": [
            "range(0, 10)\n"
          ]
        }
      ],
      "source": [
        "print(range(10))"
      ]
    },
    {
      "cell_type": "code",
      "source": [
        "print(list(range(10)))"
      ],
      "metadata": {
        "colab": {
          "base_uri": "https://localhost:8080/"
        },
        "id": "4yitPzqMMNN_",
        "outputId": "8aa08687-1fdd-45cb-ac8d-53d15a72a265"
      },
      "execution_count": 2,
      "outputs": [
        {
          "output_type": "stream",
          "name": "stdout",
          "text": [
            "[0, 1, 2, 3, 4, 5, 6, 7, 8, 9]\n"
          ]
        }
      ]
    },
    {
      "cell_type": "code",
      "source": [
        "print(list(range(10,101,2)))"
      ],
      "metadata": {
        "colab": {
          "base_uri": "https://localhost:8080/"
        },
        "id": "Cj4KvmaJMQ7Y",
        "outputId": "f4e00a0e-6640-4578-fc3d-906767bf59d5"
      },
      "execution_count": 3,
      "outputs": [
        {
          "output_type": "stream",
          "name": "stdout",
          "text": [
            "[10, 12, 14, 16, 18, 20, 22, 24, 26, 28, 30, 32, 34, 36, 38, 40, 42, 44, 46, 48, 50, 52, 54, 56, 58, 60, 62, 64, 66, 68, 70, 72, 74, 76, 78, 80, 82, 84, 86, 88, 90, 92, 94, 96, 98, 100]\n"
          ]
        }
      ]
    },
    {
      "cell_type": "code",
      "source": [
        "roll_num=list(range(10,50,1))\n",
        "roll_num"
      ],
      "metadata": {
        "colab": {
          "base_uri": "https://localhost:8080/"
        },
        "id": "-GKQyi7lMeRr",
        "outputId": "4317166c-2999-49a2-eb6a-66290ce1709a"
      },
      "execution_count": 4,
      "outputs": [
        {
          "output_type": "execute_result",
          "data": {
            "text/plain": [
              "[10,\n",
              " 11,\n",
              " 12,\n",
              " 13,\n",
              " 14,\n",
              " 15,\n",
              " 16,\n",
              " 17,\n",
              " 18,\n",
              " 19,\n",
              " 20,\n",
              " 21,\n",
              " 22,\n",
              " 23,\n",
              " 24,\n",
              " 25,\n",
              " 26,\n",
              " 27,\n",
              " 28,\n",
              " 29,\n",
              " 30,\n",
              " 31,\n",
              " 32,\n",
              " 33,\n",
              " 34,\n",
              " 35,\n",
              " 36,\n",
              " 37,\n",
              " 38,\n",
              " 39,\n",
              " 40,\n",
              " 41,\n",
              " 42,\n",
              " 43,\n",
              " 44,\n",
              " 45,\n",
              " 46,\n",
              " 47,\n",
              " 48,\n",
              " 49]"
            ]
          },
          "metadata": {},
          "execution_count": 4
        }
      ]
    },
    {
      "cell_type": "code",
      "source": [
        "reverse=list(range(1600,99,-100))\n",
        "reverse"
      ],
      "metadata": {
        "colab": {
          "base_uri": "https://localhost:8080/"
        },
        "id": "mpw5hbLtMuEw",
        "outputId": "031583a0-7382-4812-9997-4a6f492a0437"
      },
      "execution_count": 5,
      "outputs": [
        {
          "output_type": "execute_result",
          "data": {
            "text/plain": [
              "[1600,\n",
              " 1500,\n",
              " 1400,\n",
              " 1300,\n",
              " 1200,\n",
              " 1100,\n",
              " 1000,\n",
              " 900,\n",
              " 800,\n",
              " 700,\n",
              " 600,\n",
              " 500,\n",
              " 400,\n",
              " 300,\n",
              " 200,\n",
              " 100]"
            ]
          },
          "metadata": {},
          "execution_count": 5
        }
      ]
    },
    {
      "cell_type": "code",
      "source": [
        "location=[\"Korba\",\"Bilaspur\",\"Raipur\",\"Patna\",\"Siwan\"]\n",
        "location"
      ],
      "metadata": {
        "colab": {
          "base_uri": "https://localhost:8080/"
        },
        "id": "zFaKJMcOM5Py",
        "outputId": "02eb4d29-3dd1-4334-fe74-80fff58e4aba"
      },
      "execution_count": 6,
      "outputs": [
        {
          "output_type": "execute_result",
          "data": {
            "text/plain": [
              "['Korba', 'Bilaspur', 'Raipur', 'Patna', 'Siwan']"
            ]
          },
          "metadata": {},
          "execution_count": 6
        }
      ]
    },
    {
      "cell_type": "code",
      "source": [
        "for city in location:\n",
        "    print(city)"
      ],
      "metadata": {
        "colab": {
          "base_uri": "https://localhost:8080/"
        },
        "id": "LMptRHxPNAvc",
        "outputId": "c736d722-a971-4e9b-ee02-97d5d5305baf"
      },
      "execution_count": 7,
      "outputs": [
        {
          "output_type": "stream",
          "name": "stdout",
          "text": [
            "Korba\n",
            "Bilaspur\n",
            "Raipur\n",
            "Patna\n",
            "Siwan\n"
          ]
        }
      ]
    },
    {
      "cell_type": "code",
      "source": [
        "salary=[1000,2000,3000,5000,7000,1000,2000,9000]\n",
        "for money in salary:\n",
        "    print(money)"
      ],
      "metadata": {
        "colab": {
          "base_uri": "https://localhost:8080/"
        },
        "id": "9oaeY525NOmU",
        "outputId": "76af0d83-cdc6-43f7-bec6-b8b909d73b23"
      },
      "execution_count": 8,
      "outputs": [
        {
          "output_type": "stream",
          "name": "stdout",
          "text": [
            "1000\n",
            "2000\n",
            "3000\n",
            "5000\n",
            "7000\n",
            "1000\n",
            "2000\n",
            "9000\n"
          ]
        }
      ]
    },
    {
      "cell_type": "code",
      "source": [
        "student_score=[78,98,65,45,89,87,32,65,54,98,89,78,69,58,47]"
      ],
      "metadata": {
        "id": "ngI8mlOtNSpb"
      },
      "execution_count": 9,
      "outputs": []
    },
    {
      "cell_type": "code",
      "source": [
        "for marks in student_score:\n",
        "    if marks>90:\n",
        "        if marks>85:\n",
        "            print(marks , \"Distiction\")\n",
        "        else :\n",
        "            print(marks , \"First class\")\n",
        "    elif marks >60 and marks<85 :\n",
        "        print(marks ,\"First class\")\n",
        "    elif marks>45:\n",
        "        print(marks ,\"Second class\")\n",
        "    elif marks >35:\n",
        "        print(marks ,\"Jsut Pass\")\n",
        "    else:\n",
        "        print(marks ,\"You are fail, please try next time\")"
      ],
      "metadata": {
        "colab": {
          "base_uri": "https://localhost:8080/"
        },
        "id": "KTq-JF0UNWr5",
        "outputId": "36ff72a3-027b-44c8-ab35-c4039af3292a"
      },
      "execution_count": 10,
      "outputs": [
        {
          "output_type": "stream",
          "name": "stdout",
          "text": [
            "78 First class\n",
            "98 Distiction\n",
            "65 First class\n",
            "45 Jsut Pass\n",
            "89 Second class\n",
            "87 Second class\n",
            "32 You are fail, please try next time\n",
            "65 First class\n",
            "54 Second class\n",
            "98 Distiction\n",
            "89 Second class\n",
            "78 First class\n",
            "69 First class\n",
            "58 Second class\n",
            "47 Second class\n"
          ]
        }
      ]
    },
    {
      "cell_type": "code",
      "source": [
        "salary=[1000,2000,3000,5000,7000,1000,2000,9000]\n",
        "sal=[val for val in salary if val==2000]\n",
        "sal"
      ],
      "metadata": {
        "colab": {
          "base_uri": "https://localhost:8080/"
        },
        "id": "BvLz1VfrNcUT",
        "outputId": "9bc87cb2-fdaa-451b-feac-544eb6b68c92"
      },
      "execution_count": 12,
      "outputs": [
        {
          "output_type": "execute_result",
          "data": {
            "text/plain": [
              "[2000, 2000]"
            ]
          },
          "metadata": {},
          "execution_count": 12
        }
      ]
    },
    {
      "cell_type": "code",
      "source": [
        "for num in range(2,5):\n",
        "    print(\"Multiplication table for\",num)\n",
        "    for i in range(1,11):\n",
        "        print(num*i)\n",
        "        if i ==10:\n",
        "            print( \"\\n\" )\n",
        "else:\n",
        "    print(\"*\" * 30)\n",
        "    print(\"Thats all\")\n",
        "    print(\"*\" * 30)"
      ],
      "metadata": {
        "colab": {
          "base_uri": "https://localhost:8080/"
        },
        "id": "-GmFICmONk8_",
        "outputId": "e10e18fc-726d-4af1-87d2-603fbf1fa96d"
      },
      "execution_count": 13,
      "outputs": [
        {
          "output_type": "stream",
          "name": "stdout",
          "text": [
            "Multiplication table for 2\n",
            "2\n",
            "4\n",
            "6\n",
            "8\n",
            "10\n",
            "12\n",
            "14\n",
            "16\n",
            "18\n",
            "20\n",
            "\n",
            "\n",
            "Multiplication table for 3\n",
            "3\n",
            "6\n",
            "9\n",
            "12\n",
            "15\n",
            "18\n",
            "21\n",
            "24\n",
            "27\n",
            "30\n",
            "\n",
            "\n",
            "Multiplication table for 4\n",
            "4\n",
            "8\n",
            "12\n",
            "16\n",
            "20\n",
            "24\n",
            "28\n",
            "32\n",
            "36\n",
            "40\n",
            "\n",
            "\n",
            "******************************\n",
            "Thats all\n",
            "******************************\n"
          ]
        }
      ]
    },
    {
      "cell_type": "code",
      "source": [
        "num=int(input(\"Enter Number which one you want a table: \"))\n",
        "\n",
        "for i in range(1,11):\n",
        "    print(str(num), 'X' ,str(i),\"=\",str(num*i))"
      ],
      "metadata": {
        "colab": {
          "base_uri": "https://localhost:8080/"
        },
        "id": "iWKXG8VhNyZa",
        "outputId": "e1cae786-b9aa-4b67-853c-a7e66426c645"
      },
      "execution_count": 20,
      "outputs": [
        {
          "output_type": "stream",
          "name": "stdout",
          "text": [
            "Enter Number which one you want a table: 17\n",
            "17 X 1 = 17\n",
            "17 X 2 = 34\n",
            "17 X 3 = 51\n",
            "17 X 4 = 68\n",
            "17 X 5 = 85\n",
            "17 X 6 = 102\n",
            "17 X 7 = 119\n",
            "17 X 8 = 136\n",
            "17 X 9 = 153\n",
            "17 X 10 = 170\n"
          ]
        }
      ]
    },
    {
      "cell_type": "code",
      "source": [
        "num=int(input(\"Enter Number which one you want a table\"))\n",
        "\n",
        "for i in range(1,11):\n",
        "    print(f\"{num}X{i}={num*i}\")"
      ],
      "metadata": {
        "colab": {
          "base_uri": "https://localhost:8080/"
        },
        "id": "KDo-oGuhPIie",
        "outputId": "d810c531-0706-4cd3-e125-34665d47ce87"
      },
      "execution_count": 21,
      "outputs": [
        {
          "output_type": "stream",
          "name": "stdout",
          "text": [
            "Enter Number which one you want a table7\n",
            "7X1=7\n",
            "7X2=14\n",
            "7X3=21\n",
            "7X4=28\n",
            "7X5=35\n",
            "7X6=42\n",
            "7X7=49\n",
            "7X8=56\n",
            "7X9=63\n",
            "7X10=70\n"
          ]
        }
      ]
    },
    {
      "cell_type": "code",
      "source": [
        "i=0\n",
        "while i<=5:\n",
        "    print(i)\n",
        "    i=i+1"
      ],
      "metadata": {
        "colab": {
          "base_uri": "https://localhost:8080/"
        },
        "id": "dDXpgcMgPSwf",
        "outputId": "51e54070-5ff7-4e47-d715-f6543d54253a"
      },
      "execution_count": 22,
      "outputs": [
        {
          "output_type": "stream",
          "name": "stdout",
          "text": [
            "0\n",
            "1\n",
            "2\n",
            "3\n",
            "4\n",
            "5\n"
          ]
        }
      ]
    },
    {
      "cell_type": "code",
      "source": [
        "import time\n",
        "result =time.localtime()\n",
        "result"
      ],
      "metadata": {
        "colab": {
          "base_uri": "https://localhost:8080/"
        },
        "id": "OUKiE359PU5L",
        "outputId": "57427de8-eb81-4e63-8d5c-c3272f8b2e55"
      },
      "execution_count": 33,
      "outputs": [
        {
          "output_type": "execute_result",
          "data": {
            "text/plain": [
              "time.struct_time(tm_year=2024, tm_mon=7, tm_mday=16, tm_hour=6, tm_min=43, tm_sec=24, tm_wday=1, tm_yday=198, tm_isdst=0)"
            ]
          },
          "metadata": {},
          "execution_count": 33
        }
      ]
    },
    {
      "cell_type": "code",
      "source": [
        "while True:\n",
        "    result=time.localtime()\n",
        "    if result.tm_hour==6 and result.tm_min==45:\n",
        "        print(\"Wake up buddy\")\n",
        "        break"
      ],
      "metadata": {
        "colab": {
          "base_uri": "https://localhost:8080/"
        },
        "id": "fPRLTxfWPZj8",
        "outputId": "aa6bf53e-1038-4fe8-96cd-63cf56b4546d"
      },
      "execution_count": 34,
      "outputs": [
        {
          "output_type": "stream",
          "name": "stdout",
          "text": [
            "Wake up buddy\n"
          ]
        }
      ]
    },
    {
      "cell_type": "code",
      "source": [
        "student=[\"Saurav\",\"Gaurav\",\"Ramesh\",\"Suresh\",\"Mukesh\"]\n",
        "for i in enumerate(student):\n",
        "    print(i)"
      ],
      "metadata": {
        "colab": {
          "base_uri": "https://localhost:8080/"
        },
        "id": "4itp3Qa5Saqo",
        "outputId": "eda40cf0-9b39-41c5-e983-7938091c812e"
      },
      "execution_count": 35,
      "outputs": [
        {
          "output_type": "stream",
          "name": "stdout",
          "text": [
            "(0, 'Saurav')\n",
            "(1, 'Gaurav')\n",
            "(2, 'Ramesh')\n",
            "(3, 'Suresh')\n",
            "(4, 'Mukesh')\n"
          ]
        }
      ]
    },
    {
      "cell_type": "code",
      "source": [
        "student=[\"Saurav\",\"Gaurav\",\"Ramesh\",\"Suresh\",\"Mukesh\"]\n",
        "for i,name in enumerate(student,1):\n",
        "    print(i,name)"
      ],
      "metadata": {
        "colab": {
          "base_uri": "https://localhost:8080/"
        },
        "id": "UHqZ8f3PSfcs",
        "outputId": "f580c6b1-e4ff-49e8-b497-cda6cf667dde"
      },
      "execution_count": 36,
      "outputs": [
        {
          "output_type": "stream",
          "name": "stdout",
          "text": [
            "1 Saurav\n",
            "2 Gaurav\n",
            "3 Ramesh\n",
            "4 Suresh\n",
            "5 Mukesh\n"
          ]
        }
      ]
    },
    {
      "cell_type": "code",
      "source": [
        "student_name=[\"Ramesh\",\"Riya\",\"Yashu\",\"Rohit\",\"Amisha\"]\n",
        "student_marks=[54,98,99,100,34]\n",
        "student_details=list(zip(student_name,student_marks))\n",
        "student_details"
      ],
      "metadata": {
        "colab": {
          "base_uri": "https://localhost:8080/"
        },
        "id": "X9Co6Pb8SjGV",
        "outputId": "ef25251c-990f-4ad5-e03d-6ad2c73cc231"
      },
      "execution_count": 37,
      "outputs": [
        {
          "output_type": "execute_result",
          "data": {
            "text/plain": [
              "[('Ramesh', 54), ('Riya', 98), ('Yashu', 99), ('Rohit', 100), ('Amisha', 34)]"
            ]
          },
          "metadata": {},
          "execution_count": 37
        }
      ]
    },
    {
      "cell_type": "code",
      "source": [
        "name,marks=list(zip(*student_details))\n",
        "name"
      ],
      "metadata": {
        "colab": {
          "base_uri": "https://localhost:8080/"
        },
        "id": "b4zPGTc-SnF-",
        "outputId": "4b150c0d-7bd2-43a8-fad7-1101fe370b8b"
      },
      "execution_count": 38,
      "outputs": [
        {
          "output_type": "execute_result",
          "data": {
            "text/plain": [
              "('Ramesh', 'Riya', 'Yashu', 'Rohit', 'Amisha')"
            ]
          },
          "metadata": {},
          "execution_count": 38
        }
      ]
    },
    {
      "cell_type": "code",
      "source": [
        "marks"
      ],
      "metadata": {
        "colab": {
          "base_uri": "https://localhost:8080/"
        },
        "id": "gyaKdECzSqcI",
        "outputId": "2825c714-d129-4ea0-84c4-06370bcd1bce"
      },
      "execution_count": 39,
      "outputs": [
        {
          "output_type": "execute_result",
          "data": {
            "text/plain": [
              "(54, 98, 99, 100, 34)"
            ]
          },
          "metadata": {},
          "execution_count": 39
        }
      ]
    },
    {
      "cell_type": "code",
      "source": [
        "student_name=[\"Ramesh\",\"Riya\",\"Yashu\",\"Rohit\",\"Amisha\"]\n",
        "student_marks=[54,98,99,100,34]\n",
        "for i,(name,marks) in enumerate(zip(student_name,student_marks),1):\n",
        "    print(i,name,marks)"
      ],
      "metadata": {
        "colab": {
          "base_uri": "https://localhost:8080/"
        },
        "id": "1PE2dFcAStRL",
        "outputId": "3576c3c3-b9e2-41a2-a887-f71c36b29bd6"
      },
      "execution_count": 40,
      "outputs": [
        {
          "output_type": "stream",
          "name": "stdout",
          "text": [
            "1 Ramesh 54\n",
            "2 Riya 98\n",
            "3 Yashu 99\n",
            "4 Rohit 100\n",
            "5 Amisha 34\n"
          ]
        }
      ]
    },
    {
      "cell_type": "code",
      "source": [
        "salary=[8000,5000,6000,7000,3000]\n",
        "for val in salary:\n",
        "    if val==7000:\n",
        "        break\n",
        "    print(val)"
      ],
      "metadata": {
        "colab": {
          "base_uri": "https://localhost:8080/"
        },
        "id": "D7dT9VjESw68",
        "outputId": "7d79b947-9eb4-4e5c-9802-f06699a79bcc"
      },
      "execution_count": 41,
      "outputs": [
        {
          "output_type": "stream",
          "name": "stdout",
          "text": [
            "8000\n",
            "5000\n",
            "6000\n"
          ]
        }
      ]
    },
    {
      "cell_type": "code",
      "source": [
        "for val in \"Stringexample\":\n",
        "    if val == \"i\":\n",
        "        continue\n",
        "    else:\n",
        "        if val==\"x\":\n",
        "            break\n",
        "        print(val)"
      ],
      "metadata": {
        "colab": {
          "base_uri": "https://localhost:8080/"
        },
        "id": "qFzkMRm6S5lg",
        "outputId": "03374640-6591-4118-eecc-dcd8b9fa9f97"
      },
      "execution_count": 43,
      "outputs": [
        {
          "output_type": "stream",
          "name": "stdout",
          "text": [
            "S\n",
            "t\n",
            "r\n",
            "n\n",
            "g\n",
            "e\n"
          ]
        }
      ]
    }
  ]
}