{
  "cells": [
    {
      "cell_type": "code",
      "execution_count": null,
      "id": "484634c4-b2ec-4b92-98b4-27f18468bde6",
      "metadata": {
        "colab": {
          "base_uri": "https://localhost:8080/"
        },
        "id": "484634c4-b2ec-4b92-98b4-27f18468bde6",
        "outputId": "b31314e3-f0cc-4574-d644-7634afc0ed10"
      },
      "outputs": [
        {
          "name": "stdout",
          "output_type": "stream",
          "text": [
            "DATa\n",
            "<class 'str'>\n"
          ]
        }
      ],
      "source": [
        "a = \"DATa\"\n",
        "print(a)\n",
        "b='Yuva'\n",
        "print(type(b))"
      ]
    },
    {
      "cell_type": "markdown",
      "id": "3f0fef4f-99eb-4336-9fba-6a0b33e2dfb3",
      "metadata": {
        "id": "3f0fef4f-99eb-4336-9fba-6a0b33e2dfb3"
      },
      "source": [
        "## Strings are arrays"
      ]
    },
    {
      "cell_type": "code",
      "execution_count": null,
      "id": "3c80b8d7-ea9e-4936-bc38-0fc73f4d4c54",
      "metadata": {
        "colab": {
          "base_uri": "https://localhost:8080/"
        },
        "id": "3c80b8d7-ea9e-4936-bc38-0fc73f4d4c54",
        "outputId": "b3dfae0c-058b-453c-b1da-86a607cf8024"
      },
      "outputs": [
        {
          "name": "stdout",
          "output_type": "stream",
          "text": [
            "S\n",
            "d\n"
          ]
        }
      ],
      "source": [
        "a = \"DATASET\"\n",
        "print(a[4])\n",
        "b = 'he is a bad boy'\n",
        "print(b[10])"
      ]
    },
    {
      "cell_type": "markdown",
      "id": "8b7a844a-48a4-4935-a4ee-65516ec1559a",
      "metadata": {
        "id": "8b7a844a-48a4-4935-a4ee-65516ec1559a"
      },
      "source": [
        "## Slicing"
      ]
    },
    {
      "cell_type": "code",
      "execution_count": null,
      "id": "136c0a68-2191-4979-b237-b6aa6b5bfb3e",
      "metadata": {
        "colab": {
          "base_uri": "https://localhost:8080/"
        },
        "id": "136c0a68-2191-4979-b237-b6aa6b5bfb3e",
        "outputId": "6a13dfb2-e1b5-43b8-e06e-fdd023da471f"
      },
      "outputs": [
        {
          "name": "stdout",
          "output_type": "stream",
          "text": [
            " is\n",
            "--------------------------------------------------\n",
            "y gi\n",
            "--------------------------------------------------\n",
            "ei\n"
          ]
        }
      ],
      "source": [
        "a = \"She is a pretty girl\"\n",
        "print(a[3:6])\n",
        "\n",
        "print(\"-\" * 50)\n",
        "\n",
        "print(a[-6:-2])\n",
        "\n",
        "print(\"-\" * 50)\n",
        "\n",
        "print(a[2:6:2])\n"
      ]
    },
    {
      "cell_type": "markdown",
      "id": "230cebc6-3bf5-4ca6-b56f-8e70441fabe7",
      "metadata": {
        "id": "230cebc6-3bf5-4ca6-b56f-8e70441fabe7"
      },
      "source": [
        "# String Methods"
      ]
    },
    {
      "cell_type": "code",
      "execution_count": null,
      "id": "149d98b3-d6be-48cb-a944-67a1213176cd",
      "metadata": {
        "colab": {
          "base_uri": "https://localhost:8080/"
        },
        "id": "149d98b3-d6be-48cb-a944-67a1213176cd",
        "outputId": "042045d1-5502-48d3-ae4e-14e7f34b087e"
      },
      "outputs": [
        {
          "name": "stdout",
          "output_type": "stream",
          "text": [
            "data test\n"
          ]
        }
      ],
      "source": [
        "a = \"data TEST\"\n",
        "print(a.lower())"
      ]
    },
    {
      "cell_type": "code",
      "execution_count": null,
      "id": "a60913ca-77ac-4618-b9ff-78eb58bb37d3",
      "metadata": {
        "colab": {
          "base_uri": "https://localhost:8080/"
        },
        "id": "a60913ca-77ac-4618-b9ff-78eb58bb37d3",
        "outputId": "d8e44d24-3630-452c-d0a2-db87077332f2"
      },
      "outputs": [
        {
          "name": "stdout",
          "output_type": "stream",
          "text": [
            "DATA TEST\n"
          ]
        }
      ],
      "source": [
        "print(a.upper())"
      ]
    },
    {
      "cell_type": "code",
      "execution_count": null,
      "id": "3713e1ad-c268-41b5-ba64-6dbe5525d84e",
      "metadata": {
        "colab": {
          "base_uri": "https://localhost:8080/"
        },
        "id": "3713e1ad-c268-41b5-ba64-6dbe5525d84e",
        "outputId": "a2f37869-d145-4acb-95ed-12a360b778f8"
      },
      "outputs": [
        {
          "name": "stdout",
          "output_type": "stream",
          "text": [
            "data will be tested\n"
          ]
        }
      ],
      "source": [
        "a = \"data tested\"\n",
        "print(a.replace(\" \", \" will be \"))\n"
      ]
    },
    {
      "cell_type": "code",
      "execution_count": null,
      "id": "4a3708e6-17e7-4fb1-99f1-3eca1980e0b5",
      "metadata": {
        "colab": {
          "base_uri": "https://localhost:8080/"
        },
        "id": "4a3708e6-17e7-4fb1-99f1-3eca1980e0b5",
        "outputId": "baa32f52-9fcb-4e74-b194-499c2b74828b"
      },
      "outputs": [
        {
          "name": "stdout",
          "output_type": "stream",
          "text": [
            "['d', 't', ' test']\n"
          ]
        }
      ],
      "source": [
        "a = \"data test\"\n",
        "print(a.split(\"a\"))"
      ]
    },
    {
      "cell_type": "markdown",
      "id": "7816c224-a440-4065-8bc0-b9133ed98f0f",
      "metadata": {
        "id": "7816c224-a440-4065-8bc0-b9133ed98f0f"
      },
      "source": [
        "## String Concatination\n"
      ]
    },
    {
      "cell_type": "code",
      "execution_count": null,
      "id": "653d1626-83b0-4fdc-931a-3cb0ea085d5c",
      "metadata": {
        "colab": {
          "base_uri": "https://localhost:8080/"
        },
        "id": "653d1626-83b0-4fdc-931a-3cb0ea085d5c",
        "outputId": "2f821037-8600-475b-d48b-ce34a71b0ff0"
      },
      "outputs": [
        {
          "name": "stdout",
          "output_type": "stream",
          "text": [
            "***data test Train***\n"
          ]
        }
      ],
      "source": [
        "b = \"Train\"\n",
        "a = \"data test\"\n",
        "c = '***'\n",
        "print(c+a +\" \"+ b+c)"
      ]
    },
    {
      "cell_type": "markdown",
      "id": "a2dd0c53-2fd4-4f2f-91ef-1ffed19bf973",
      "metadata": {
        "id": "a2dd0c53-2fd4-4f2f-91ef-1ffed19bf973"
      },
      "source": [
        "# Create a text file\n"
      ]
    },
    {
      "cell_type": "code",
      "execution_count": 25,
      "id": "8932fd4b-e072-479b-acdd-75267454492b",
      "metadata": {
        "id": "8932fd4b-e072-479b-acdd-75267454492b"
      },
      "outputs": [],
      "source": [
        "file = open(\"datatest.txt\", \"w+\")\n"
      ]
    },
    {
      "cell_type": "code",
      "execution_count": 26,
      "id": "fd25e245-1f7a-4782-bcad-4e2676e40dc0",
      "metadata": {
        "id": "fd25e245-1f7a-4782-bcad-4e2676e40dc0"
      },
      "outputs": [],
      "source": [
        "for i in range(5):\n",
        "    file.write(\"Line number is - %d\\r\\n\" % (i + 1))"
      ]
    },
    {
      "cell_type": "code",
      "execution_count": 27,
      "id": "935b8b44-7d8a-414e-b4ed-fd4e60789fc7",
      "metadata": {
        "id": "935b8b44-7d8a-414e-b4ed-fd4e60789fc7"
      },
      "outputs": [],
      "source": [
        "file.close()"
      ]
    },
    {
      "cell_type": "markdown",
      "id": "6d29e98f-9d57-4a52-8b1a-a71973f8676c",
      "metadata": {
        "id": "6d29e98f-9d57-4a52-8b1a-a71973f8676c"
      },
      "source": [
        "# Append data to a file\n",
        "\n"
      ]
    },
    {
      "cell_type": "code",
      "execution_count": 28,
      "id": "9797bf43-c4f3-4318-bafa-219939ace7c2",
      "metadata": {
        "id": "9797bf43-c4f3-4318-bafa-219939ace7c2"
      },
      "outputs": [],
      "source": [
        "file= open(\"datatest.txt\", \"a+\")\n"
      ]
    },
    {
      "cell_type": "code",
      "execution_count": 30,
      "id": "56a967eb-de1f-4a03-93c8-21a2d4c70122",
      "metadata": {
        "id": "56a967eb-de1f-4a03-93c8-21a2d4c70122"
      },
      "outputs": [],
      "source": [
        "for i in range(3):\n",
        "    file.write(\"Appending Line number - %d\\r\\n\" % (i+1))"
      ]
    },
    {
      "cell_type": "code",
      "execution_count": 31,
      "id": "0406d369-9ea9-423a-9892-247d4f5ace61",
      "metadata": {
        "id": "0406d369-9ea9-423a-9892-247d4f5ace61"
      },
      "outputs": [],
      "source": [
        "file.close()\n"
      ]
    },
    {
      "cell_type": "markdown",
      "id": "1c010180-a9c1-4e94-a281-7c324bb18f2c",
      "metadata": {
        "id": "1c010180-a9c1-4e94-a281-7c324bb18f2c"
      },
      "source": [
        "# Read the files\n"
      ]
    },
    {
      "cell_type": "code",
      "execution_count": 32,
      "id": "dbd90399-163b-4bb6-a9a1-aec7fcda1a23",
      "metadata": {
        "id": "dbd90399-163b-4bb6-a9a1-aec7fcda1a23"
      },
      "outputs": [],
      "source": [
        "file= open(\"datatest.txt\", \"r\")"
      ]
    },
    {
      "cell_type": "code",
      "execution_count": 33,
      "id": "3d07218f-6a37-4d65-a817-14d6a849a1ef",
      "metadata": {
        "id": "3d07218f-6a37-4d65-a817-14d6a849a1ef"
      },
      "outputs": [],
      "source": [
        "if file.mode == 'r':\n",
        "    content=file.read()"
      ]
    },
    {
      "cell_type": "code",
      "execution_count": 34,
      "id": "428de306-c4b1-4e8d-a2ad-6560de98fa1d",
      "metadata": {
        "id": "428de306-c4b1-4e8d-a2ad-6560de98fa1d",
        "outputId": "ed7e6352-70c4-4949-cbcb-fc38c330d01e",
        "colab": {
          "base_uri": "https://localhost:8080/"
        }
      },
      "outputs": [
        {
          "output_type": "stream",
          "name": "stdout",
          "text": [
            "Line number is - 1\n",
            "Line number is - 2\n",
            "Line number is - 3\n",
            "Line number is - 4\n",
            "Line number is - 5\n",
            "Appending Line number 1\n",
            "Appending Line number 2\n",
            "Appending Line number 3\n",
            "Appending Line number - 1\n",
            "Appending Line number - 2\n",
            "Appending Line number - 3\n",
            "\n",
            "Here is the output!\n"
          ]
        }
      ],
      "source": [
        "print(content)\n",
        "print(\"Here is the output!\")"
      ]
    },
    {
      "cell_type": "markdown",
      "id": "72c2b91c-c59c-4dcc-99bc-cd5e9ca39966",
      "metadata": {
        "id": "72c2b91c-c59c-4dcc-99bc-cd5e9ca39966"
      },
      "source": [
        "# Text Preprocessing"
      ]
    },
    {
      "cell_type": "code",
      "execution_count": 35,
      "id": "ab5e6377-49a2-4b22-b49e-58ffc703b703",
      "metadata": {
        "id": "ab5e6377-49a2-4b22-b49e-58ffc703b703"
      },
      "outputs": [],
      "source": [
        "import nltk\n",
        "import string\n",
        "import re"
      ]
    },
    {
      "cell_type": "code",
      "execution_count": 36,
      "id": "7b26395f-396c-4dcd-becc-61306de484e4",
      "metadata": {
        "id": "7b26395f-396c-4dcd-becc-61306de484e4",
        "outputId": "61828590-70fe-42e0-d590-be217f6ebad0",
        "colab": {
          "base_uri": "https://localhost:8080/",
          "height": 36
        }
      },
      "outputs": [
        {
          "output_type": "execute_result",
          "data": {
            "text/plain": [
              "'weather is too cloudy. possibility of rain is high, today!!'"
            ],
            "application/vnd.google.colaboratory.intrinsic+json": {
              "type": "string"
            }
          },
          "metadata": {},
          "execution_count": 36
        }
      ],
      "source": [
        "def lowercase_text(text):\n",
        "    return text.lower()\n",
        "\n",
        "input_str = \"Weather Is Too Cloudy. Possibility Of Rain is High, Today!!\"\n",
        "lowercase_text(input_str)"
      ]
    },
    {
      "cell_type": "code",
      "execution_count": 37,
      "id": "d8db7da9-bc50-43e1-9cdb-e1861bea2c15",
      "metadata": {
        "id": "d8db7da9-bc50-43e1-9cdb-e1861bea2c15"
      },
      "outputs": [],
      "source": [
        "def remove_num(text):\n",
        "    result = re.sub(r'\\d+','', text)\n",
        "    return result"
      ]
    },
    {
      "cell_type": "code",
      "execution_count": 38,
      "id": "71aa337d-f875-4645-85ec-7c52c9fb0679",
      "metadata": {
        "id": "71aa337d-f875-4645-85ec-7c52c9fb0679",
        "outputId": "dcc5cc1a-2507-4b14-b02e-25378394b020",
        "colab": {
          "base_uri": "https://localhost:8080/",
          "height": 36
        }
      },
      "outputs": [
        {
          "output_type": "execute_result",
          "data": {
            "text/plain": [
              "'You bought  candies from shop, and  candies are in home.'"
            ],
            "application/vnd.google.colaboratory.intrinsic+json": {
              "type": "string"
            }
          },
          "metadata": {},
          "execution_count": 38
        }
      ],
      "source": [
        "input_s =\"You bought 900 candies from shop, and 40 candies are in home.\"\n",
        "remove_num(input_s)"
      ]
    },
    {
      "cell_type": "code",
      "execution_count": 39,
      "id": "9a90a782-aeb0-4e47-88c4-2ce8cc0db5d0",
      "metadata": {
        "id": "9a90a782-aeb0-4e47-88c4-2ce8cc0db5d0",
        "outputId": "cd0e8d03-f2f9-4fe2-f02e-b673b9de3d05",
        "colab": {
          "base_uri": "https://localhost:8080/"
        }
      },
      "outputs": [
        {
          "output_type": "stream",
          "name": "stdout",
          "text": [
            "Requirement already satisfied: inflect in /usr/local/lib/python3.10/dist-packages (7.0.0)\n",
            "Requirement already satisfied: pydantic>=1.9.1 in /usr/local/lib/python3.10/dist-packages (from inflect) (2.8.2)\n",
            "Requirement already satisfied: typing-extensions in /usr/local/lib/python3.10/dist-packages (from inflect) (4.12.2)\n",
            "Requirement already satisfied: annotated-types>=0.4.0 in /usr/local/lib/python3.10/dist-packages (from pydantic>=1.9.1->inflect) (0.7.0)\n",
            "Requirement already satisfied: pydantic-core==2.20.1 in /usr/local/lib/python3.10/dist-packages (from pydantic>=1.9.1->inflect) (2.20.1)\n"
          ]
        }
      ],
      "source": [
        "!pip install inflect"
      ]
    },
    {
      "cell_type": "code",
      "execution_count": 40,
      "id": "fb7c1da2-6964-4721-9058-5d158cc1ca02",
      "metadata": {
        "id": "fb7c1da2-6964-4721-9058-5d158cc1ca02",
        "outputId": "82ac66a4-b822-411d-e787-9c12e2d56141",
        "colab": {
          "base_uri": "https://localhost:8080/"
        }
      },
      "outputs": [
        {
          "output_type": "stream",
          "name": "stdout",
          "text": [
            "You bought eight hundred and sixty-seven candies from shop, and ninety-eight candies are in home.\n"
          ]
        }
      ],
      "source": [
        "import inflect\n",
        "p = inflect.engine()\n",
        "def convert_num(text):\n",
        "    temp_string = text.split()\n",
        "    new_str = []\n",
        "    for word in temp_string:\n",
        "        if word.isdigit():\n",
        "            new_str.append(p.number_to_words(word))\n",
        "        else:\n",
        "            new_str.append(word)\n",
        "    temp_str = ' '.join(new_str)\n",
        "    return temp_str\n",
        "input_str = 'You bought 867 candies from shop, and 98 candies are in home.'\n",
        "print(convert_num(input_str))\n"
      ]
    },
    {
      "cell_type": "markdown",
      "id": "d04aaca1-4e0c-4944-b60b-4cc7fd6310cb",
      "metadata": {
        "id": "d04aaca1-4e0c-4944-b60b-4cc7fd6310cb"
      },
      "source": [
        "# Remove punctuation."
      ]
    },
    {
      "cell_type": "code",
      "execution_count": 42,
      "id": "39e2eaa3-d9b9-45d2-abf1-16cbc6a67860",
      "metadata": {
        "id": "39e2eaa3-d9b9-45d2-abf1-16cbc6a67860"
      },
      "outputs": [],
      "source": [
        "def rem_punct(text):\n",
        "    translator = str.maketrans('', '', string.punctuation)\n",
        "    return text.translate(translator)"
      ]
    },
    {
      "cell_type": "code",
      "execution_count": 43,
      "id": "6e5aa02c-14f4-4e23-bb6d-0ee68dc47186",
      "metadata": {
        "id": "6e5aa02c-14f4-4e23-bb6d-0ee68dc47186",
        "outputId": "3babfde9-2cd4-4d2d-9b41-647259c43ca7",
        "colab": {
          "base_uri": "https://localhost:8080/",
          "height": 36
        }
      },
      "outputs": [
        {
          "output_type": "execute_result",
          "data": {
            "text/plain": [
              "'Hey Are you excited After a week we will be in Shimla Hows That'"
            ],
            "application/vnd.google.colaboratory.intrinsic+json": {
              "type": "string"
            }
          },
          "metadata": {},
          "execution_count": 43
        }
      ],
      "source": [
        "input_str = \"Hey, Are you excited??, After a week, we will be in Shimla!!! How's That???\"\n",
        "rem_punct(input_str)"
      ]
    },
    {
      "cell_type": "code",
      "execution_count": 44,
      "id": "007bc76f-7ad8-43c5-9baf-224a271b6fcd",
      "metadata": {
        "id": "007bc76f-7ad8-43c5-9baf-224a271b6fcd",
        "outputId": "c69789ca-3973-4c5c-aecd-26ac9bb7c3f8",
        "colab": {
          "base_uri": "https://localhost:8080/",
          "height": 36
        }
      },
      "outputs": [
        {
          "output_type": "execute_result",
          "data": {
            "text/plain": [
              "'!\"#$%&\\'()*+,-./:;<=>?@[\\\\]^_`{|}~'"
            ],
            "application/vnd.google.colaboratory.intrinsic+json": {
              "type": "string"
            }
          },
          "metadata": {},
          "execution_count": 44
        }
      ],
      "source": [
        "string.punctuation"
      ]
    },
    {
      "cell_type": "markdown",
      "id": "b833f205-4de2-4c1d-9daa-5b5924811ab0",
      "metadata": {
        "id": "b833f205-4de2-4c1d-9daa-5b5924811ab0"
      },
      "source": [
        "# Remove default stopwords"
      ]
    },
    {
      "cell_type": "code",
      "execution_count": 45,
      "id": "2b55bac4-379c-4817-b716-744293f50989",
      "metadata": {
        "id": "2b55bac4-379c-4817-b716-744293f50989",
        "outputId": "47a1b822-2480-4b29-9b1d-d34ad6b7bef3",
        "colab": {
          "base_uri": "https://localhost:8080/"
        }
      },
      "outputs": [
        {
          "output_type": "stream",
          "name": "stderr",
          "text": [
            "[nltk_data] Downloading package stopwords to /root/nltk_data...\n",
            "[nltk_data]   Unzipping corpora/stopwords.zip.\n",
            "[nltk_data] Downloading package punkt to /root/nltk_data...\n",
            "[nltk_data]   Unzipping tokenizers/punkt.zip.\n"
          ]
        },
        {
          "output_type": "execute_result",
          "data": {
            "text/plain": [
              "True"
            ]
          },
          "metadata": {},
          "execution_count": 45
        }
      ],
      "source": [
        "from nltk.corpus import stopwords\n",
        "from nltk.tokenize import word_tokenize\n",
        "\n",
        "nltk.download('stopwords')\n",
        "nltk.download('punkt')"
      ]
    },
    {
      "cell_type": "code",
      "execution_count": 46,
      "id": "2e3e6bac-a878-4a77-84b8-f8476c46f043",
      "metadata": {
        "id": "2e3e6bac-a878-4a77-84b8-f8476c46f043",
        "outputId": "1a0a7d5a-4ff8-4d95-c96f-aa5ad1fddd1a",
        "colab": {
          "base_uri": "https://localhost:8080/"
        }
      },
      "outputs": [
        {
          "output_type": "stream",
          "name": "stdout",
          "text": [
            "['Data', 'new', 'oil', 'A.I', 'last', 'invention', 'The', 'quick', 'brown', 'fox', 'jumps', 'lazy', 'dog']\n"
          ]
        }
      ],
      "source": [
        "def remove_stopwords(text):\n",
        "  stop_words = set(stopwords.words(\"english\"))\n",
        "  word_tokens = word_tokenize(text)\n",
        "  filtered_text = [word for word in word_tokens if word not in string.punctuation]\n",
        "  filtered_text = [word for word in filtered_text if word not in stop_words]\n",
        "  return filtered_text\n",
        "text = \"Data is the new oil. A.I is the last invention and The quick brown fox jumps over the lazy dog\"\n",
        "filtered_text = remove_stopwords(text)\n",
        "print(filtered_text)\n"
      ]
    },
    {
      "cell_type": "markdown",
      "id": "75c87935-df60-4ada-8859-028897fdee8c",
      "metadata": {
        "id": "75c87935-df60-4ada-8859-028897fdee8c"
      },
      "source": [
        "# Stemming\n"
      ]
    },
    {
      "cell_type": "code",
      "execution_count": 47,
      "id": "a80d0928-379f-420a-9ae5-237448316429",
      "metadata": {
        "id": "a80d0928-379f-420a-9ae5-237448316429",
        "outputId": "313b0846-3886-4761-c579-4847bc1e8dec",
        "colab": {
          "base_uri": "https://localhost:8080/"
        }
      },
      "outputs": [
        {
          "output_type": "execute_result",
          "data": {
            "text/plain": [
              "['your',\n",
              " 'dream',\n",
              " 'is',\n",
              " 'to',\n",
              " 'becom',\n",
              " 'a',\n",
              " 'top',\n",
              " 'posit',\n",
              " 'in',\n",
              " 'the',\n",
              " 'compani',\n",
              " 'and',\n",
              " 'make',\n",
              " 'more',\n",
              " 'money']"
            ]
          },
          "metadata": {},
          "execution_count": 47
        }
      ],
      "source": [
        "from nltk.stem.porter import PorterStemmer\n",
        "from nltk.tokenize import word_tokenize\n",
        "stemmer = PorterStemmer()\n",
        "def stem_words(text):\n",
        "  word_tokens = word_tokenize(text)\n",
        "  stems = [stemmer.stem(word) for word in word_tokens]\n",
        "  return stems\n",
        "\n",
        "text = ' Your dream is to become a top position in the company and make more money '\n",
        "stem_words(text)\n"
      ]
    },
    {
      "cell_type": "code",
      "execution_count": 52,
      "id": "821b1728-75ee-4006-9307-3400f1aa3fa1",
      "metadata": {
        "id": "821b1728-75ee-4006-9307-3400f1aa3fa1",
        "outputId": "f0d053e2-edbd-433f-b4f0-80c583e2a1f8",
        "colab": {
          "base_uri": "https://localhost:8080/"
        }
      },
      "outputs": [
        {
          "output_type": "stream",
          "name": "stdout",
          "text": [
            "['Your', 'dream', 'be', 'to', 'become', 'a', 'top', 'position', 'in', 'the', 'company', 'and', 'make', 'more', 'money']\n"
          ]
        },
        {
          "output_type": "stream",
          "name": "stderr",
          "text": [
            "[nltk_data] Downloading package wordnet to /root/nltk_data...\n",
            "[nltk_data]   Package wordnet is already up-to-date!\n"
          ]
        }
      ],
      "source": [
        "from nltk.stem import wordnet\n",
        "from nltk.tokenize import word_tokenize\n",
        "def lemmatize_word(text):\n",
        "  nltk.download('wordnet')\n",
        "  word_tokens = word_tokenize(text)\n",
        "  lemmas = [wordnet.WordNetLemmatizer().lemmatize(word, pos='v') for word in word_tokens]\n",
        "  return lemmas\n",
        "text = \" Your dream is to become a top position in the company and make more money \"\n",
        "lemmatized_words = lemmatize_word(text)\n",
        "print(lemmatized_words)"
      ]
    },
    {
      "cell_type": "code",
      "execution_count": 53,
      "id": "ca249796-b77f-4cf0-913b-2b6bdb081b21",
      "metadata": {
        "id": "ca249796-b77f-4cf0-913b-2b6bdb081b21",
        "outputId": "5b035f82-4dfa-466a-a9d4-ffd40b866504",
        "colab": {
          "base_uri": "https://localhost:8080/"
        }
      },
      "outputs": [
        {
          "output_type": "stream",
          "name": "stderr",
          "text": [
            "[nltk_data] Downloading package averaged_perceptron_tagger to\n",
            "[nltk_data]     /root/nltk_data...\n",
            "[nltk_data]   Unzipping taggers/averaged_perceptron_tagger.zip.\n"
          ]
        },
        {
          "output_type": "execute_result",
          "data": {
            "text/plain": [
              "[('Your', 'PRP$'),\n",
              " ('dream', 'NN'),\n",
              " ('is', 'VBZ'),\n",
              " ('to', 'TO'),\n",
              " ('become', 'VB'),\n",
              " ('a', 'DT'),\n",
              " ('top', 'JJ'),\n",
              " ('position', 'NN'),\n",
              " ('in', 'IN'),\n",
              " ('the', 'DT'),\n",
              " ('company', 'NN'),\n",
              " ('and', 'CC'),\n",
              " ('make', 'VB'),\n",
              " ('more', 'JJR'),\n",
              " ('money', 'NN')]"
            ]
          },
          "metadata": {},
          "execution_count": 53
        }
      ],
      "source": [
        "from nltk.tokenize import word_tokenize\n",
        "from nltk import pos_tag\n",
        "nltk.download('averaged_perceptron_tagger')\n",
        "def pos_tagg(text):\n",
        "    word_tokens = word_tokenize(text)\n",
        "    return pos_tag(word_tokens)\n",
        "pos_tagg(\" Your dream is to become a top position in the company and make more money \")"
      ]
    },
    {
      "cell_type": "code",
      "execution_count": 54,
      "id": "81702c51-649f-46d0-9ead-6b97ca8ce002",
      "metadata": {
        "id": "81702c51-649f-46d0-9ead-6b97ca8ce002",
        "outputId": "588e9f5a-7f71-4e73-c294-1d7911e71962",
        "colab": {
          "base_uri": "https://localhost:8080/"
        }
      },
      "outputs": [
        {
          "output_type": "stream",
          "name": "stderr",
          "text": [
            "[nltk_data] Downloading package tagsets to /root/nltk_data...\n"
          ]
        },
        {
          "output_type": "stream",
          "name": "stdout",
          "text": [
            "PRP: pronoun, personal\n",
            "    hers herself him himself hisself it itself me myself one oneself ours\n",
            "    ourselves ownself self she thee theirs them themselves they thou thy us\n"
          ]
        },
        {
          "output_type": "stream",
          "name": "stderr",
          "text": [
            "[nltk_data]   Unzipping help/tagsets.zip.\n"
          ]
        }
      ],
      "source": [
        "nltk.download('tagsets')\n",
        "nltk.help.upenn_tagset('PRP')"
      ]
    },
    {
      "cell_type": "code",
      "execution_count": 55,
      "id": "ed0b2794-e68d-4fb0-98cf-ce3f9e378c9f",
      "metadata": {
        "id": "ed0b2794-e68d-4fb0-98cf-ce3f9e378c9f",
        "outputId": "7a754ca8-b581-46fc-ab85-ea0629dc8b0d",
        "colab": {
          "base_uri": "https://localhost:8080/"
        }
      },
      "outputs": [
        {
          "output_type": "stream",
          "name": "stdout",
          "text": [
            "(S\n",
            "  Your/PRP$\n",
            "  (NP dream/NN)\n",
            "  is/VBZ\n",
            "  to/TO\n",
            "  become/VB\n",
            "  (NP a/DT top/JJ position/NN)\n",
            "  in/IN\n",
            "  (NP the/DT company/NN)\n",
            "  and/CC\n",
            "  make/VB\n",
            "  more/JJR\n",
            "  (NP money/NN))\n",
            "(NP dream/NN)\n",
            "(NP a/DT top/JJ position/NN)\n",
            "(NP the/DT company/NN)\n",
            "(NP money/NN)\n"
          ]
        }
      ],
      "source": [
        "from nltk.tokenize import word_tokenize\n",
        "from nltk import pos_tag\n",
        "def chunking(text, grammar):\n",
        "  word_tokens = word_tokenize(text)\n",
        "  word_pos = pos_tag(word_tokens)\n",
        "  chunkParser = nltk.RegexpParser(grammar)\n",
        "  tree = chunkParser.parse(word_pos)\n",
        "  for subtree in tree.subtrees():\n",
        "    print(subtree)\n",
        "sentence = ' Your dream is to become a top position in the company and make more money '\n",
        "grammar = \"NP: {<DT>?<JJ>*<NN>}\"\n",
        "chunking(sentence, grammar)"
      ]
    },
    {
      "cell_type": "markdown",
      "id": "b36eb2c3-1db9-441f-9b06-5965d3e58f4d",
      "metadata": {
        "id": "b36eb2c3-1db9-441f-9b06-5965d3e58f4d"
      },
      "source": [
        "# Named Entity Recognition"
      ]
    },
    {
      "cell_type": "code",
      "execution_count": 56,
      "id": "640179b8-6c07-4273-babf-72b1175a2721",
      "metadata": {
        "id": "640179b8-6c07-4273-babf-72b1175a2721",
        "outputId": "056d5d18-863b-421e-fd53-5f6b97264ccd",
        "colab": {
          "base_uri": "https://localhost:8080/"
        }
      },
      "outputs": [
        {
          "output_type": "stream",
          "name": "stderr",
          "text": [
            "[nltk_data] Downloading package maxent_ne_chunker to\n",
            "[nltk_data]     /root/nltk_data...\n",
            "[nltk_data]   Unzipping chunkers/maxent_ne_chunker.zip.\n",
            "[nltk_data] Downloading package words to /root/nltk_data...\n"
          ]
        },
        {
          "output_type": "stream",
          "name": "stdout",
          "text": [
            "(S\n",
            "  (PERSON Brain/NNP)\n",
            "  (PERSON Lara/NNP)\n",
            "  scored/VBD\n",
            "  the/DT\n",
            "  highest/JJS\n",
            "  400/CD\n",
            "  runs/NNS\n",
            "  in/IN\n",
            "  a/DT\n",
            "  test/NN\n",
            "  match/NN\n",
            "  which/WDT\n",
            "  played/VBD\n",
            "  in/IN\n",
            "  between/IN\n",
            "  (ORGANIZATION WI/NNP)\n",
            "  and/CC\n",
            "  (GPE England/NNP)\n",
            "  ./.\n",
            "  and/CC\n",
            "  Your/PRP$\n",
            "  dream/NN\n",
            "  is/VBZ\n",
            "  to/TO\n",
            "  become/VB\n",
            "  a/DT\n",
            "  top/JJ\n",
            "  position/NN\n",
            "  in/IN\n",
            "  the/DT\n",
            "  company/NN\n",
            "  and/CC\n",
            "  make/VB\n",
            "  more/JJR\n",
            "  money/NN)\n"
          ]
        },
        {
          "output_type": "stream",
          "name": "stderr",
          "text": [
            "[nltk_data]   Unzipping corpora/words.zip.\n"
          ]
        }
      ],
      "source": [
        "from nltk.tokenize import word_tokenize\n",
        "from nltk import pos_tag, ne_chunk\n",
        "nltk.download('maxent_ne_chunker')\n",
        "nltk.download('words')\n",
        "def ner(text):\n",
        "  word_tokens = word_tokenize(text)\n",
        "  word_pos = pos_tag(word_tokens)\n",
        "  print(ne_chunk(word_pos))\n",
        "text = 'Brain Lara scored the highest 400 runs in a test match which played in between WI and England. and  Your dream is to become a top position in the company and make more money '\n",
        "ner(text)\n"
      ]
    },
    {
      "cell_type": "code",
      "execution_count": 57,
      "id": "501c58ae-3c88-40b5-b9b4-382c650305db",
      "metadata": {
        "id": "501c58ae-3c88-40b5-b9b4-382c650305db",
        "outputId": "b35a67d7-2c43-4213-f011-0d73f57ca290",
        "colab": {
          "base_uri": "https://localhost:8080/"
        }
      },
      "outputs": [
        {
          "output_type": "stream",
          "name": "stdout",
          "text": [
            "['dataset']\n"
          ]
        }
      ],
      "source": [
        "import re\n",
        "sent = \"dataset, Data is a new fuel\"\n",
        "r2 = re.findall(r\"^\\w+\", sent)\n",
        "print(r2)"
      ]
    },
    {
      "cell_type": "code",
      "execution_count": 58,
      "id": "e625fc8f-b214-4ce9-ba7b-f927eb754c5b",
      "metadata": {
        "id": "e625fc8f-b214-4ce9-ba7b-f927eb754c5b",
        "outputId": "cfbca333-48b9-4892-9e07-528ab8aa7b11",
        "colab": {
          "base_uri": "https://localhost:8080/"
        }
      },
      "outputs": [
        {
          "output_type": "stream",
          "name": "stdout",
          "text": [
            "['Your', 'dream', 'is', 'to', 'become', 'a', 'top', 'position', 'in', 'the', 'company', 'and', 'make', 'more', 'money']\n"
          ]
        }
      ],
      "source": [
        "import re\n",
        "sent = \" Your dream is to become a top position in the company and make more money \"\n",
        "r2 = re.findall(r\"\\w+\", sent)\n",
        "print(r2)"
      ]
    },
    {
      "cell_type": "markdown",
      "source": [
        "## Split Function"
      ],
      "metadata": {
        "id": "mkYZKlZahqo3"
      },
      "id": "mkYZKlZahqo3"
    },
    {
      "cell_type": "code",
      "execution_count": 59,
      "id": "c2995e60-9109-4aca-b5e5-6cfc4d311167",
      "metadata": {
        "id": "c2995e60-9109-4aca-b5e5-6cfc4d311167",
        "outputId": "2f47eaa4-631e-474b-ab8f-267687abfcca",
        "colab": {
          "base_uri": "https://localhost:8080/"
        }
      },
      "outputs": [
        {
          "output_type": "stream",
          "name": "stdout",
          "text": [
            "['We', 'splited', 'this', 'sentence']\n"
          ]
        }
      ],
      "source": [
        "import re\n",
        "print((re.split(r'\\s', 'We splited this sentence')))"
      ]
    },
    {
      "cell_type": "code",
      "execution_count": 60,
      "id": "1e4d5d2f-7fd5-418f-b47c-a79b004e5e83",
      "metadata": {
        "id": "1e4d5d2f-7fd5-418f-b47c-a79b004e5e83",
        "outputId": "6da2c76f-570c-4e3e-e1bb-7f85600e5969",
        "colab": {
          "base_uri": "https://localhost:8080/"
        }
      },
      "outputs": [
        {
          "output_type": "stream",
          "name": "stdout",
          "text": [
            "['We spli', 'ed ', 'his sen', 'ence']\n"
          ]
        }
      ],
      "source": [
        "import re\n",
        "print((re.split(r't', 'We splited this sentence')))"
      ]
    },
    {
      "cell_type": "markdown",
      "source": [
        "## Using re.match()"
      ],
      "metadata": {
        "id": "e0pW0J5xhzH_"
      },
      "id": "e0pW0J5xhzH_"
    },
    {
      "cell_type": "code",
      "execution_count": 61,
      "id": "58869a4d-ee02-4931-9340-050affa74b19",
      "metadata": {
        "id": "58869a4d-ee02-4931-9340-050affa74b19",
        "outputId": "77de4cdc-6413-4aca-a461-eff5aa7457e0",
        "colab": {
          "base_uri": "https://localhost:8080/"
        }
      },
      "outputs": [
        {
          "output_type": "stream",
          "name": "stdout",
          "text": [
            "('icecream', 'images')\n"
          ]
        }
      ],
      "source": [
        "import re\n",
        "lists = ['icecream images', 'i immitated', 'inner peace']\n",
        "for i in lists:\n",
        "    q = re.match(\"(i\\w+)\\W(i\\w+)\", i)\n",
        "    if q:\n",
        "        print(q.groups())"
      ]
    },
    {
      "cell_type": "markdown",
      "source": [
        "## Using re.search()"
      ],
      "metadata": {
        "id": "PtXWIjW8h5JG"
      },
      "id": "PtXWIjW8h5JG"
    },
    {
      "cell_type": "code",
      "execution_count": 62,
      "id": "5b59f42f-1e87-4958-82db-f9770baef1d4",
      "metadata": {
        "id": "5b59f42f-1e87-4958-82db-f9770baef1d4",
        "outputId": "c343885c-ae19-45dc-eee2-fa7df3e9f5c3",
        "colab": {
          "base_uri": "https://localhost:8080/"
        }
      },
      "outputs": [
        {
          "output_type": "stream",
          "name": "stdout",
          "text": [
            "You're looking for 'playing' in 'Raju is playing outside.'Found match!\n",
            "You're looking for 'dataset' in 'Raju is playing outside.'no match found!\n"
          ]
        }
      ],
      "source": [
        "import re\n",
        "pattern = [\"playing\", \"dataset\"]\n",
        "text = \"Raju is playing outside.\"\n",
        "for p in pattern:\n",
        "    print(\"You're looking for '%s' in '%s'\" % (p, text), end='')\n",
        "    if re.search(p, text):\n",
        "        print('Found match!')\n",
        "    else:\n",
        "        print(\"no match found!\")"
      ]
    },
    {
      "cell_type": "markdown",
      "id": "68d95a88-a498-471c-9726-f9991ae474bc",
      "metadata": {
        "id": "68d95a88-a498-471c-9726-f9991ae474bc"
      },
      "source": [
        "# Using re.findall() for text"
      ]
    },
    {
      "cell_type": "code",
      "execution_count": 63,
      "id": "34e120a9-f922-434b-803a-c5c538310229",
      "metadata": {
        "id": "34e120a9-f922-434b-803a-c5c538310229",
        "outputId": "479081e8-bb96-475f-eb76-ed6cf1cd47ac",
        "colab": {
          "base_uri": "https://localhost:8080/"
        }
      },
      "outputs": [
        {
          "output_type": "stream",
          "name": "stdout",
          "text": [
            " XYX@gmail.com\n",
            " lmn@gmail.com\n",
            " efg@gmail.com\n"
          ]
        }
      ],
      "source": [
        "import re\n",
        "kgf = \"Abc@gmail.com, XYX@gmail.com, lmn@gmail.com, efg@gmail.com\"\n",
        "emails = re.findall(r' [\\w\\.]+@[\\w\\.]+', kgf)\n",
        "for e in emails:\n",
        "    print(e)"
      ]
    }
  ],
  "metadata": {
    "colab": {
      "provenance": []
    },
    "kernelspec": {
      "display_name": "Python 3 (ipykernel)",
      "language": "python",
      "name": "python3"
    },
    "language_info": {
      "codemirror_mode": {
        "name": "ipython",
        "version": 3
      },
      "file_extension": ".py",
      "mimetype": "text/x-python",
      "name": "python",
      "nbconvert_exporter": "python",
      "pygments_lexer": "ipython3",
      "version": "3.10.12"
    }
  },
  "nbformat": 4,
  "nbformat_minor": 5
}