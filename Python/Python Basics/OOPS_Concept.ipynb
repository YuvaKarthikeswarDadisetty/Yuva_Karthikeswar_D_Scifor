{
  "nbformat": 4,
  "nbformat_minor": 0,
  "metadata": {
    "colab": {
      "provenance": []
    },
    "kernelspec": {
      "name": "python3",
      "display_name": "Python 3"
    },
    "language_info": {
      "name": "python"
    }
  },
  "cells": [
    {
      "cell_type": "code",
      "execution_count": null,
      "metadata": {
        "id": "yCVDZg5LRNwE"
      },
      "outputs": [],
      "source": [
        "class Account:\n",
        "    def __init__(self,name,last_name,city,user_id,password,phone):\n",
        "        self.name=name\n",
        "        self.last_name=last_name\n",
        "        self.city=city\n",
        "        self.user_id=user_id\n",
        "        self.password=password\n",
        "        self.phone=phone"
      ]
    },
    {
      "cell_type": "code",
      "source": [
        "class Account:\n",
        "    def __init__(self,name=input(\"Enter Your Name \"),\n",
        "                last_name=input(\"Enter Your Last Name \"),\n",
        "                city=input(\"Enter Your City Name \"),\n",
        "                user_id=input(\"Enter Your User Id \"),\n",
        "                password=input(\"Enter Your Password \"),\n",
        "                phone=input(\"Enter Your Number \")):\n",
        "        self.name=name\n",
        "        self.last_name=last_name\n",
        "        self.city=city\n",
        "        self.user_id=user_id\n",
        "        self.password=password\n",
        "        self.phone=phone\n",
        "    def login(self):\n",
        "        while True:\n",
        "            signin=input(\"Enter Your User Id \")\n",
        "            password=input(\"Enter Your Pswword \")\n",
        "            if signin ==self.user_id and password==self.password:\n",
        "                print(\"Logged in Sucessfully\")\n",
        "                break\n",
        "            else:\n",
        "                print(\"You Entered Invalid id and password , Please Enter Correct  one\")\n",
        "                continue"
      ],
      "metadata": {
        "colab": {
          "base_uri": "https://localhost:8080/"
        },
        "id": "qq8CIRwNTD_u",
        "outputId": "3abf0125-395c-4741-ced8-489a3884e8be"
      },
      "execution_count": null,
      "outputs": [
        {
          "name": "stdout",
          "output_type": "stream",
          "text": [
            "Enter Your Name Yuva\n",
            "Enter Your Last Name Dadisetty\n",
            "Enter Your City Name Vijayawada\n",
            "Enter Your User Id Yuva6789\n",
            "Enter Your Password Yuva1234\n",
            "Enter Your Number 988568899\n"
          ]
        }
      ]
    },
    {
      "cell_type": "code",
      "source": [
        "a=Account()"
      ],
      "metadata": {
        "id": "WESh6ukRTnEl"
      },
      "execution_count": null,
      "outputs": []
    },
    {
      "cell_type": "code",
      "source": [
        "a.login()"
      ],
      "metadata": {
        "colab": {
          "base_uri": "https://localhost:8080/"
        },
        "id": "zB-izVe_Tp-U",
        "outputId": "277828c2-19d3-4469-becf-478647c85f64"
      },
      "execution_count": 13,
      "outputs": [
        {
          "output_type": "stream",
          "name": "stdout",
          "text": [
            "Enter Your User Id yuva6789\n",
            "Enter Your Pswword yuva1234\n",
            "You Entered Invalid id and password , Please Enter Correct  one\n",
            "Enter Your User Id Yuva6789\n",
            "Enter Your Pswword Yuva1234\n",
            "Logged in Sucessfully\n"
          ]
        }
      ]
    },
    {
      "cell_type": "code",
      "source": [
        "class User_Account(Account):\n",
        "    def __init__(self,account_number,balance,*args):\n",
        "        super(User_Account,self).__init__(*args)\n",
        "        self.account_number=account_number\n",
        "        self.balance=balance\n",
        "\n",
        "    def user_details(self):\n",
        "        while True:\n",
        "            account=int(input(\"Enter Your Account Number \"))\n",
        "            if account==self.account_number:\n",
        "                print(\"Name =\", self.name)\n",
        "                print(\"Account Number =\",self.account_number)\n",
        "                print(\"Balance =\",self.balance )\n",
        "                break\n",
        "            else:\n",
        "                print(\"Account Number is not valid\")\n",
        "                continue\n",
        "    def deposit(self):\n",
        "        print(\"Your Previous Balance is\",self.balance)\n",
        "        add_cash=int(input(\"Enter Ammount\"))\n",
        "        self.balance= self.balance+add_cash\n",
        "        print(\"Your account credit with\",add_cash, \"and now your balace is\" ,self.balance)\n",
        "    def transfer(self):\n",
        "        print(\"Your Previous Balance is\",self.balance)\n",
        "        withdrawl=int(input(\"Enter How much you want to withdraw\"))\n",
        "        if withdrawl<=self.balance:\n",
        "            self.balance-=withdrawl\n",
        "            print(\"The Withdraws ammount is\",self.account_number,\"and you left balance is \" ,self.balance)\n",
        "\n",
        "        else:\n",
        "            print(\"Alert:Hello You Dont have sufficient Balance to withdraw\")"
      ],
      "metadata": {
        "id": "G3DBXp-EW4Wq"
      },
      "execution_count": null,
      "outputs": []
    },
    {
      "cell_type": "code",
      "source": [
        "bank=User_Account(5555,0)"
      ],
      "metadata": {
        "id": "URxV-5vlXJve"
      },
      "execution_count": 14,
      "outputs": []
    },
    {
      "cell_type": "code",
      "source": [
        "bank.login()"
      ],
      "metadata": {
        "colab": {
          "base_uri": "https://localhost:8080/"
        },
        "id": "_-zjVG2tXLtT",
        "outputId": "bc6892e5-5475-48fa-c552-12e4c7ba4fc9"
      },
      "execution_count": 15,
      "outputs": [
        {
          "output_type": "stream",
          "name": "stdout",
          "text": [
            "Enter Your User Id Yuva6789\n",
            "Enter Your Pswword Yuva1234\n",
            "Logged in Sucessfully\n"
          ]
        }
      ]
    },
    {
      "cell_type": "code",
      "source": [
        "bank.user_details()"
      ],
      "metadata": {
        "id": "gPBxuGKyXUAe",
        "colab": {
          "base_uri": "https://localhost:8080/"
        },
        "outputId": "a47fe327-b5ea-4be0-eee3-69fcf17fe8e9"
      },
      "execution_count": 16,
      "outputs": [
        {
          "output_type": "stream",
          "name": "stdout",
          "text": [
            "Enter Your Account Number 12354\n",
            "Account Number is not valid\n",
            "Enter Your Account Number 5555\n",
            "Name = Yuva\n",
            "Account Number = 5555\n",
            "Balance = 0\n"
          ]
        }
      ]
    },
    {
      "cell_type": "code",
      "source": [
        "bank.deposit()"
      ],
      "metadata": {
        "colab": {
          "base_uri": "https://localhost:8080/"
        },
        "id": "7wUrIEUKXv5-",
        "outputId": "29f18b73-cba1-47e1-f1e3-f723b5595aef"
      },
      "execution_count": 11,
      "outputs": [
        {
          "output_type": "stream",
          "name": "stdout",
          "text": [
            "Your Previous Balance is 0\n",
            "Enter Ammount980256\n",
            "Your account credit with 980256 and now your balace is 980256\n"
          ]
        }
      ]
    },
    {
      "cell_type": "code",
      "source": [
        "bank.transfer()"
      ],
      "metadata": {
        "colab": {
          "base_uri": "https://localhost:8080/"
        },
        "id": "5s90m42aX6Vl",
        "outputId": "7a4b262d-0d2e-42da-e4aa-1292820037c7"
      },
      "execution_count": 12,
      "outputs": [
        {
          "output_type": "stream",
          "name": "stdout",
          "text": [
            "Your Previous Balance is 980256\n",
            "Enter How much you want to withdraw67175\n",
            "The Withdraws ammount is 5555 and you left balance is  913081\n"
          ]
        }
      ]
    },
    {
      "cell_type": "code",
      "source": [
        "class Tyres:\n",
        "    def __init__(self,branch,belted_bias,opt_pressure):\n",
        "        self.branch=branch\n",
        "        self.belted_bias=belted_bias\n",
        "        self.opt_pressure=opt_pressure\n",
        "    def __str__(self) :#__str__ can be used if you dont want to define a method name,but you want this to execute\n",
        "        return(\"Tyre \\n\\t Branch \"+self.branch+\n",
        "               \"\\n\\tBelted_bias \"+str(self.belted_bias)+\n",
        "               \"\\n\\topt_pressure \"+str(self.opt_pressure))\n",
        "class Engine:\n",
        "    def __init__(self,fuel_type,noise_level):\n",
        "        self.fuel_type=fuel_type\n",
        "        self.noise_level=noise_level\n",
        "    def __str__(self):\n",
        "        return(\"\\n\\t fuel type is  \"+self.fuel_type+\n",
        "              \"\\n\\t noise leve is  \"+str(self.noise_level))#__str__ method only returns only text so we are converting into string.\n",
        "class Body():\n",
        "    def __init__(self,size):\n",
        "        self.size=size\n",
        "    def __str__(self):\n",
        "        return(\"\\n\\t Body Size of car is \"+self.size)\n",
        "\n",
        "class Car():\n",
        "    def __init__(self,Tyres,Engine,Body):\n",
        "        self.Tyres=Tyres\n",
        "        self.Engine=Engine\n",
        "        self.Body=Body\n",
        "    def __str__(self):\n",
        "        return   str(self.Tyres) +\"\\n  \"  + str(self.Engine) +\"\\n\" +  str(self.Body)\n",
        "t=Tyres(\"MRF\",True,34)\n",
        "e=Engine(\"petrol\",2.3)\n",
        "b=Body(\"sedan\")\n",
        "c=Car(t,e,b)\n",
        "print(c)"
      ],
      "metadata": {
        "colab": {
          "base_uri": "https://localhost:8080/"
        },
        "id": "KTN-Rn4GX6zV",
        "outputId": "3dcf6e38-da08-4ecb-f078-6155a9e3457f"
      },
      "execution_count": 17,
      "outputs": [
        {
          "output_type": "stream",
          "name": "stdout",
          "text": [
            "Tyre \n",
            "\t Branch MRF\n",
            "\tBelted_bias True\n",
            "\topt_pressure 34\n",
            "  \n",
            "\t fuel type is  petrol\n",
            "\t noise leve is  2.3\n",
            "\n",
            "\t Body Size of car is sedan\n"
          ]
        }
      ]
    },
    {
      "cell_type": "code",
      "source": [
        "print(c)"
      ],
      "metadata": {
        "colab": {
          "base_uri": "https://localhost:8080/"
        },
        "id": "S6gePr9QZci9",
        "outputId": "a141321b-c9b7-45a6-d446-b9552eb6cac3"
      },
      "execution_count": 18,
      "outputs": [
        {
          "output_type": "stream",
          "name": "stdout",
          "text": [
            "Tyre \n",
            "\t Branch MRF\n",
            "\tBelted_bias True\n",
            "\topt_pressure 34\n",
            "  \n",
            "\t fuel type is  petrol\n",
            "\t noise leve is  2.3\n",
            "\n",
            "\t Body Size of car is sedan\n"
          ]
        }
      ]
    }
  ]
}