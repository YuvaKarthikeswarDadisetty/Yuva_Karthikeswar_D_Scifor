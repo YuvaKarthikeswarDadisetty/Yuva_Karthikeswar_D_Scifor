{
  "nbformat": 4,
  "nbformat_minor": 0,
  "metadata": {
    "colab": {
      "provenance": []
    },
    "kernelspec": {
      "name": "python3",
      "display_name": "Python 3"
    },
    "language_info": {
      "name": "python"
    }
  },
  "cells": [
    {
      "cell_type": "code",
      "execution_count": 1,
      "metadata": {
        "colab": {
          "base_uri": "https://localhost:8080/"
        },
        "id": "9vo7APqFjqAs",
        "outputId": "ca6c0bcb-e9e3-4e77-ac4b-395d74e15f99"
      },
      "outputs": [
        {
          "output_type": "execute_result",
          "data": {
            "text/plain": [
              "('Bengluru', 'Kolkata', 'Chennai', 'raipur', 'Vijayawada', 'Vizag')"
            ]
          },
          "metadata": {},
          "execution_count": 1
        }
      ],
      "source": [
        "work_location=('Bengluru','Kolkata','Chennai','raipur','Vijayawada','Vizag')\n",
        "work_location"
      ]
    },
    {
      "cell_type": "code",
      "source": [
        "type(work_location)"
      ],
      "metadata": {
        "colab": {
          "base_uri": "https://localhost:8080/"
        },
        "id": "KJP5YHO_kCqL",
        "outputId": "610eba09-c163-485b-eed4-fc10ae4165b0"
      },
      "execution_count": 2,
      "outputs": [
        {
          "output_type": "execute_result",
          "data": {
            "text/plain": [
              "tuple"
            ]
          },
          "metadata": {},
          "execution_count": 2
        }
      ]
    },
    {
      "cell_type": "code",
      "source": [
        "work_location.append('Korba')"
      ],
      "metadata": {
        "colab": {
          "base_uri": "https://localhost:8080/",
          "height": 141
        },
        "id": "d7bYYR6akGTx",
        "outputId": "83ec915f-b874-4af8-d2a1-a0776368e98c"
      },
      "execution_count": 3,
      "outputs": [
        {
          "output_type": "error",
          "ename": "AttributeError",
          "evalue": "'tuple' object has no attribute 'append'",
          "traceback": [
            "\u001b[0;31m---------------------------------------------------------------------------\u001b[0m",
            "\u001b[0;31mAttributeError\u001b[0m                            Traceback (most recent call last)",
            "\u001b[0;32m<ipython-input-3-a309aea58bf1>\u001b[0m in \u001b[0;36m<cell line: 1>\u001b[0;34m()\u001b[0m\n\u001b[0;32m----> 1\u001b[0;31m \u001b[0mwork_location\u001b[0m\u001b[0;34m.\u001b[0m\u001b[0mappend\u001b[0m\u001b[0;34m(\u001b[0m\u001b[0;34m'Korba'\u001b[0m\u001b[0;34m)\u001b[0m\u001b[0;34m\u001b[0m\u001b[0;34m\u001b[0m\u001b[0m\n\u001b[0m",
            "\u001b[0;31mAttributeError\u001b[0m: 'tuple' object has no attribute 'append'"
          ]
        }
      ]
    },
    {
      "cell_type": "code",
      "source": [
        "work_location=list(work_location)"
      ],
      "metadata": {
        "id": "9WI39PorkOXQ"
      },
      "execution_count": 4,
      "outputs": []
    },
    {
      "cell_type": "code",
      "source": [
        "work_location.append('Korba')\n",
        "work_location"
      ],
      "metadata": {
        "colab": {
          "base_uri": "https://localhost:8080/"
        },
        "id": "08m6FbohkPvZ",
        "outputId": "e73f23ec-ab45-40dc-8a40-9251dc503c40"
      },
      "execution_count": 5,
      "outputs": [
        {
          "output_type": "execute_result",
          "data": {
            "text/plain": [
              "['Bengluru', 'Kolkata', 'Chennai', 'raipur', 'Vijayawada', 'Vizag', 'Korba']"
            ]
          },
          "metadata": {},
          "execution_count": 5
        }
      ]
    },
    {
      "cell_type": "code",
      "source": [
        "work_location=tuple(work_location)\n",
        "work_location"
      ],
      "metadata": {
        "colab": {
          "base_uri": "https://localhost:8080/"
        },
        "id": "tUrD-d4ekTyZ",
        "outputId": "93e667e8-121e-4f39-d6fb-e4c6549d2b53"
      },
      "execution_count": 6,
      "outputs": [
        {
          "output_type": "execute_result",
          "data": {
            "text/plain": [
              "('Bengluru', 'Kolkata', 'Chennai', 'raipur', 'Vijayawada', 'Vizag', 'Korba')"
            ]
          },
          "metadata": {},
          "execution_count": 6
        }
      ]
    },
    {
      "cell_type": "code",
      "source": [
        "len(work_location)"
      ],
      "metadata": {
        "colab": {
          "base_uri": "https://localhost:8080/"
        },
        "id": "Vrj8yydjkXpl",
        "outputId": "cae028c0-9d5d-48e5-ad45-73367548c993"
      },
      "execution_count": 7,
      "outputs": [
        {
          "output_type": "execute_result",
          "data": {
            "text/plain": [
              "7"
            ]
          },
          "metadata": {},
          "execution_count": 7
        }
      ]
    },
    {
      "cell_type": "code",
      "source": [
        "work_location[-4]"
      ],
      "metadata": {
        "colab": {
          "base_uri": "https://localhost:8080/",
          "height": 36
        },
        "id": "_hecPolnkdLF",
        "outputId": "55eae355-8358-41e5-dbae-dcfd9213fa46"
      },
      "execution_count": 9,
      "outputs": [
        {
          "output_type": "execute_result",
          "data": {
            "text/plain": [
              "'raipur'"
            ],
            "application/vnd.google.colaboratory.intrinsic+json": {
              "type": "string"
            }
          },
          "metadata": {},
          "execution_count": 9
        }
      ]
    },
    {
      "cell_type": "code",
      "source": [
        "numbers=(50,60,40,90,80,70,60,50,40,70,10,20,30,7,50,50)\n",
        "numbers.index(30)"
      ],
      "metadata": {
        "colab": {
          "base_uri": "https://localhost:8080/"
        },
        "id": "f4nVf9fUkrrm",
        "outputId": "f2441409-5f17-445b-9557-5b577a6943e4"
      },
      "execution_count": 10,
      "outputs": [
        {
          "output_type": "execute_result",
          "data": {
            "text/plain": [
              "12"
            ]
          },
          "metadata": {},
          "execution_count": 10
        }
      ]
    },
    {
      "cell_type": "code",
      "source": [
        "numbers.count(50)"
      ],
      "metadata": {
        "colab": {
          "base_uri": "https://localhost:8080/"
        },
        "id": "ZdsvEZO2kyW1",
        "outputId": "f94206f9-8075-4342-eaab-d7641d5501fb"
      },
      "execution_count": 11,
      "outputs": [
        {
          "output_type": "execute_result",
          "data": {
            "text/plain": [
              "4"
            ]
          },
          "metadata": {},
          "execution_count": 11
        }
      ]
    },
    {
      "cell_type": "code",
      "source": [
        "roll_number=set()"
      ],
      "metadata": {
        "id": "I1EYwcdllQV-"
      },
      "execution_count": 13,
      "outputs": []
    },
    {
      "cell_type": "code",
      "source": [
        "type(roll_number)"
      ],
      "metadata": {
        "colab": {
          "base_uri": "https://localhost:8080/"
        },
        "id": "TEwyes66mFw5",
        "outputId": "4bef5a94-d8ff-4f4e-f905-c1c71627cee8"
      },
      "execution_count": 14,
      "outputs": [
        {
          "output_type": "execute_result",
          "data": {
            "text/plain": [
              "set"
            ]
          },
          "metadata": {},
          "execution_count": 14
        }
      ]
    },
    {
      "cell_type": "code",
      "source": [
        "roll_number.add(1)\n",
        "roll_number"
      ],
      "metadata": {
        "colab": {
          "base_uri": "https://localhost:8080/"
        },
        "id": "Z63Jcmg8mPY5",
        "outputId": "17ef6e4a-1087-4e77-f0a8-f7e90d470589"
      },
      "execution_count": 15,
      "outputs": [
        {
          "output_type": "execute_result",
          "data": {
            "text/plain": [
              "{1}"
            ]
          },
          "metadata": {},
          "execution_count": 15
        }
      ]
    },
    {
      "cell_type": "code",
      "source": [
        "roll_number.add(2)\n",
        "roll_number"
      ],
      "metadata": {
        "colab": {
          "base_uri": "https://localhost:8080/"
        },
        "id": "h-rWupQsmQ5Q",
        "outputId": "ab24838e-5658-4b8d-e546-4e47aa33a006"
      },
      "execution_count": 16,
      "outputs": [
        {
          "output_type": "execute_result",
          "data": {
            "text/plain": [
              "{1, 2}"
            ]
          },
          "metadata": {},
          "execution_count": 16
        }
      ]
    },
    {
      "cell_type": "code",
      "source": [
        "roll_number.add(1)\n",
        "roll_number"
      ],
      "metadata": {
        "colab": {
          "base_uri": "https://localhost:8080/"
        },
        "id": "7hBkeu3lmVKg",
        "outputId": "cfa401ca-36ac-44f5-cc8a-1149f870fa60"
      },
      "execution_count": 17,
      "outputs": [
        {
          "output_type": "execute_result",
          "data": {
            "text/plain": [
              "{1, 2}"
            ]
          },
          "metadata": {},
          "execution_count": 17
        }
      ]
    },
    {
      "cell_type": "code",
      "source": [
        "numbers=[1,2,3,4,5,6,7,8,9,1,2,3,4,56,789,12,74,74,85,96,74,85,96,4,1,52,63,52,41,56,56]"
      ],
      "metadata": {
        "id": "7S5WM6Tsmffy"
      },
      "execution_count": 18,
      "outputs": []
    },
    {
      "cell_type": "code",
      "source": [
        "remove_duplicate=set(numbers)\n",
        "remove_duplicate"
      ],
      "metadata": {
        "colab": {
          "base_uri": "https://localhost:8080/"
        },
        "id": "VcZq-48Emn-q",
        "outputId": "1b28d650-c380-4eb3-c759-5113d53cf12a"
      },
      "execution_count": 19,
      "outputs": [
        {
          "output_type": "execute_result",
          "data": {
            "text/plain": [
              "{1, 2, 3, 4, 5, 6, 7, 8, 9, 12, 41, 52, 56, 63, 74, 85, 96, 789}"
            ]
          },
          "metadata": {},
          "execution_count": 19
        }
      ]
    },
    {
      "cell_type": "code",
      "source": [
        "numberss=list(remove_duplicate)"
      ],
      "metadata": {
        "id": "IQhCa2N-muOP"
      },
      "execution_count": 20,
      "outputs": []
    },
    {
      "cell_type": "code",
      "source": [
        "my_dict={'key1':'value1','key2':'value2'}\n",
        "my_dict"
      ],
      "metadata": {
        "colab": {
          "base_uri": "https://localhost:8080/"
        },
        "id": "A4zKOJhFm287",
        "outputId": "7df70a5b-e27b-4991-b323-5d9b1887eadd"
      },
      "execution_count": 21,
      "outputs": [
        {
          "output_type": "execute_result",
          "data": {
            "text/plain": [
              "{'key1': 'value1', 'key2': 'value2'}"
            ]
          },
          "metadata": {},
          "execution_count": 21
        }
      ]
    },
    {
      "cell_type": "code",
      "source": [
        "my_dict['key1']"
      ],
      "metadata": {
        "colab": {
          "base_uri": "https://localhost:8080/",
          "height": 36
        },
        "id": "RiaMub7cm7WQ",
        "outputId": "9f0990d3-dbf0-439a-b8c4-e58eb2536e78"
      },
      "execution_count": 22,
      "outputs": [
        {
          "output_type": "execute_result",
          "data": {
            "text/plain": [
              "'value1'"
            ],
            "application/vnd.google.colaboratory.intrinsic+json": {
              "type": "string"
            }
          },
          "metadata": {},
          "execution_count": 22
        }
      ]
    },
    {
      "cell_type": "code",
      "source": [
        "my_dict={'Roll Number':123,'Subjects':['Maths','science','Computer'],'Marks':[24,29,25]}\n",
        "my_dict"
      ],
      "metadata": {
        "colab": {
          "base_uri": "https://localhost:8080/"
        },
        "id": "6nvlZbv9nAsW",
        "outputId": "7d71d250-56cc-44ab-aea7-55a622ed68b0"
      },
      "execution_count": 23,
      "outputs": [
        {
          "output_type": "execute_result",
          "data": {
            "text/plain": [
              "{'Roll Number': 123,\n",
              " 'Subjects': ['Maths', 'science', 'Computer'],\n",
              " 'Marks': [24, 29, 25]}"
            ]
          },
          "metadata": {},
          "execution_count": 23
        }
      ]
    },
    {
      "cell_type": "code",
      "source": [
        "my_dict['Subjects']"
      ],
      "metadata": {
        "colab": {
          "base_uri": "https://localhost:8080/"
        },
        "id": "NpQ5ahpinEml",
        "outputId": "bd012df6-9e32-4b34-d49d-818b05245c24"
      },
      "execution_count": 24,
      "outputs": [
        {
          "output_type": "execute_result",
          "data": {
            "text/plain": [
              "['Maths', 'science', 'Computer']"
            ]
          },
          "metadata": {},
          "execution_count": 24
        }
      ]
    },
    {
      "cell_type": "code",
      "source": [
        "my_dict['Subjects'][1]"
      ],
      "metadata": {
        "colab": {
          "base_uri": "https://localhost:8080/",
          "height": 36
        },
        "id": "82GIkx2ZnNTo",
        "outputId": "af007e37-2c63-41e4-b9f1-8eb43be0aff3"
      },
      "execution_count": 25,
      "outputs": [
        {
          "output_type": "execute_result",
          "data": {
            "text/plain": [
              "'science'"
            ],
            "application/vnd.google.colaboratory.intrinsic+json": {
              "type": "string"
            }
          },
          "metadata": {},
          "execution_count": 25
        }
      ]
    },
    {
      "cell_type": "code",
      "source": [
        "my_dict['Subjects'][2].upper()"
      ],
      "metadata": {
        "colab": {
          "base_uri": "https://localhost:8080/",
          "height": 36
        },
        "id": "1WDqJuVsnO1l",
        "outputId": "54846b1c-4a96-419b-f2c1-336c63e4c049"
      },
      "execution_count": 27,
      "outputs": [
        {
          "output_type": "execute_result",
          "data": {
            "text/plain": [
              "'COMPUTER'"
            ],
            "application/vnd.google.colaboratory.intrinsic+json": {
              "type": "string"
            }
          },
          "metadata": {},
          "execution_count": 27
        }
      ]
    },
    {
      "cell_type": "code",
      "source": [
        "my_dict"
      ],
      "metadata": {
        "colab": {
          "base_uri": "https://localhost:8080/"
        },
        "id": "CH043q-snVlI",
        "outputId": "b5eacfc5-0b91-4d62-bfa4-c20ffd02bab8"
      },
      "execution_count": 28,
      "outputs": [
        {
          "output_type": "execute_result",
          "data": {
            "text/plain": [
              "{'Roll Number': 123,\n",
              " 'Subjects': ['Maths', 'science', 'Computer'],\n",
              " 'Marks': [24, 29, 25]}"
            ]
          },
          "metadata": {},
          "execution_count": 28
        }
      ]
    },
    {
      "cell_type": "code",
      "source": [
        "my_dict['Marks'][0]=my_dict['Marks'][0]+6\n",
        "my_dict"
      ],
      "metadata": {
        "colab": {
          "base_uri": "https://localhost:8080/"
        },
        "id": "iz4eBzdZneBZ",
        "outputId": "99a613d8-6de2-4285-dece-d7748000f8cb"
      },
      "execution_count": 29,
      "outputs": [
        {
          "output_type": "execute_result",
          "data": {
            "text/plain": [
              "{'Roll Number': 123,\n",
              " 'Subjects': ['Maths', 'science', 'Computer'],\n",
              " 'Marks': [30, 29, 25]}"
            ]
          },
          "metadata": {},
          "execution_count": 29
        }
      ]
    },
    {
      "cell_type": "code",
      "source": [
        "my_dict['Marks'][0]-=17\n",
        "my_dict"
      ],
      "metadata": {
        "colab": {
          "base_uri": "https://localhost:8080/"
        },
        "id": "Pt7TTVWtnkLY",
        "outputId": "6e08da89-8768-4324-bc2c-b0bbb761a85f"
      },
      "execution_count": 30,
      "outputs": [
        {
          "output_type": "execute_result",
          "data": {
            "text/plain": [
              "{'Roll Number': 123,\n",
              " 'Subjects': ['Maths', 'science', 'Computer'],\n",
              " 'Marks': [13, 29, 25]}"
            ]
          },
          "metadata": {},
          "execution_count": 30
        }
      ]
    },
    {
      "cell_type": "code",
      "source": [
        "my_dict['Year']=2015\n",
        "my_dict"
      ],
      "metadata": {
        "colab": {
          "base_uri": "https://localhost:8080/"
        },
        "id": "qjPJJx08nuGf",
        "outputId": "27662036-0bfe-4519-c93b-7fe729e8127a"
      },
      "execution_count": 31,
      "outputs": [
        {
          "output_type": "execute_result",
          "data": {
            "text/plain": [
              "{'Roll Number': 123,\n",
              " 'Subjects': ['Maths', 'science', 'Computer'],\n",
              " 'Marks': [13, 29, 25],\n",
              " 'Year': 2015}"
            ]
          },
          "metadata": {},
          "execution_count": 31
        }
      ]
    },
    {
      "cell_type": "code",
      "source": [
        "my_dict.update({'Roll Number':100})\n",
        "my_dict"
      ],
      "metadata": {
        "colab": {
          "base_uri": "https://localhost:8080/"
        },
        "id": "QCi9vCQrnztU",
        "outputId": "e04fab0d-2696-49fa-b899-430b3304ddad"
      },
      "execution_count": 32,
      "outputs": [
        {
          "output_type": "execute_result",
          "data": {
            "text/plain": [
              "{'Roll Number': 100,\n",
              " 'Subjects': ['Maths', 'science', 'Computer'],\n",
              " 'Marks': [13, 29, 25],\n",
              " 'Year': 2015}"
            ]
          },
          "metadata": {},
          "execution_count": 32
        }
      ]
    },
    {
      "cell_type": "code",
      "source": [
        "my_dict.items()"
      ],
      "metadata": {
        "colab": {
          "base_uri": "https://localhost:8080/"
        },
        "id": "ESei1JOAn5m0",
        "outputId": "d7c3a792-11ff-497a-8abe-e754f525efbb"
      },
      "execution_count": 33,
      "outputs": [
        {
          "output_type": "execute_result",
          "data": {
            "text/plain": [
              "dict_items([('Roll Number', 100), ('Subjects', ['Maths', 'science', 'Computer']), ('Marks', [13, 29, 25]), ('Year', 2015)])"
            ]
          },
          "metadata": {},
          "execution_count": 33
        }
      ]
    },
    {
      "cell_type": "code",
      "source": [
        "i = int(input('Enter any Number: '))\n",
        "if i<11:\n",
        "    print(i,'is samller than 11')\n",
        "else:\n",
        "    print(i,'is greater than 11')"
      ],
      "metadata": {
        "colab": {
          "base_uri": "https://localhost:8080/"
        },
        "id": "NcEdqgipoAWc",
        "outputId": "3ebb59b1-33d1-41cf-812f-8d894c206b0a"
      },
      "execution_count": 45,
      "outputs": [
        {
          "output_type": "stream",
          "name": "stdout",
          "text": [
            "Enter any Number: 7\n",
            "7 is samller than 11\n"
          ]
        }
      ]
    },
    {
      "cell_type": "code",
      "source": [
        "i=int(input('Enter any Number: '))\n",
        "print(i,'is smaller than 11')if i<11 else print(i,'is greater than 11')"
      ],
      "metadata": {
        "colab": {
          "base_uri": "https://localhost:8080/"
        },
        "id": "wCadWkk1oRt6",
        "outputId": "642dffde-0b20-4562-d127-f48b4632b5b8"
      },
      "execution_count": 47,
      "outputs": [
        {
          "output_type": "stream",
          "name": "stdout",
          "text": [
            "Enter any Number: 16\n",
            "16 is greater than 11\n"
          ]
        }
      ]
    },
    {
      "cell_type": "code",
      "source": [
        "item_1=int(input('Enter the cost of item1: '))\n",
        "item_2=int(input('Enter the cost of item2: '))\n",
        "\n",
        "if (item_1+item_2)>=500:\n",
        "    print('Your item in eligible for free shipping')\n",
        "else:\n",
        "    extra=500-(item_1+item_2)\n",
        "    print('please add',extra,'Rs worth for free shipping')"
      ],
      "metadata": {
        "colab": {
          "base_uri": "https://localhost:8080/"
        },
        "id": "dxWXujGqoZdQ",
        "outputId": "8200c9ec-606e-4536-edb8-af3b968dc998"
      },
      "execution_count": 48,
      "outputs": [
        {
          "output_type": "stream",
          "name": "stdout",
          "text": [
            "Enter the cost of item1: 253\n",
            "Enter the cost of item2: 89\n",
            "please add 158 Rs worth for free shipping\n"
          ]
        }
      ]
    },
    {
      "cell_type": "code",
      "source": [
        "a=200\n",
        "b=33\n",
        "c=500\n",
        "\n",
        "if a>b and c<a:\n",
        "    print('Both condtion are true')\n",
        "else:\n",
        "    print('Both condion are wrong')"
      ],
      "metadata": {
        "colab": {
          "base_uri": "https://localhost:8080/"
        },
        "id": "BjbYGTRdoiP9",
        "outputId": "442a5c31-8cd7-4c76-aec8-f2854e8cfaba"
      },
      "execution_count": 49,
      "outputs": [
        {
          "output_type": "stream",
          "name": "stdout",
          "text": [
            "Both condion are wrong\n"
          ]
        }
      ]
    },
    {
      "cell_type": "code",
      "source": [
        "a=200\n",
        "b=33\n",
        "c=500\n",
        "\n",
        "if a>b or c<a:\n",
        "    print('Atleast one of the condition are true')\n",
        "else:\n",
        "    print('Both condition are wrong')"
      ],
      "metadata": {
        "colab": {
          "base_uri": "https://localhost:8080/"
        },
        "id": "TAvJglL0onFs",
        "outputId": "fe109a08-f052-4113-ff33-74364f17d97c"
      },
      "execution_count": 38,
      "outputs": [
        {
          "output_type": "stream",
          "name": "stdout",
          "text": [
            "Atleast one of the condition are true\n"
          ]
        }
      ]
    },
    {
      "cell_type": "code",
      "source": [
        "marks=60\n",
        "\n",
        "if marks>=60:\n",
        "    if  marks>70:\n",
        "        print(marks,'distiction')\n",
        "    else:\n",
        "        print(marks,'First class')\n",
        "elif marks>50 and marks<60:\n",
        "    print(marks,'second division')\n",
        "elif marks>35:\n",
        "    print(marks,'Just pass')\n",
        "else:\n",
        "    ('marks','Fail Better luck next time')"
      ],
      "metadata": {
        "colab": {
          "base_uri": "https://localhost:8080/"
        },
        "id": "7c1doR9JorRU",
        "outputId": "a7af2373-52bc-41b4-faf8-56d0bc418e46"
      },
      "execution_count": 39,
      "outputs": [
        {
          "output_type": "stream",
          "name": "stdout",
          "text": [
            "60 First class\n"
          ]
        }
      ]
    },
    {
      "cell_type": "code",
      "source": [
        "num1=20\n",
        "num2=30\n",
        "if num1<num2:\n",
        "    print(num1,'is greater')\n",
        "elif num2==31:\n",
        "    print(num2,'is equal to 31')"
      ],
      "metadata": {
        "colab": {
          "base_uri": "https://localhost:8080/"
        },
        "id": "XYaYhAuHowxw",
        "outputId": "b9bfb538-e049-4777-f30f-dd50a43906e4"
      },
      "execution_count": 40,
      "outputs": [
        {
          "output_type": "stream",
          "name": "stdout",
          "text": [
            "20 is greater\n"
          ]
        }
      ]
    }
  ]
}